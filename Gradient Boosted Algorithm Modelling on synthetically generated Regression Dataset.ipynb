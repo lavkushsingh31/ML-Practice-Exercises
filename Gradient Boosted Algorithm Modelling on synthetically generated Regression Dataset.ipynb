{
 "cells": [
  {
   "cell_type": "markdown",
   "id": "1871b387",
   "metadata": {},
   "source": [
    "# Gradient Boosted Algorithm Modelling on synthetically generated Regression Dataset"
   ]
  },
  {
   "cell_type": "code",
   "execution_count": 9,
   "id": "dd6faa73",
   "metadata": {},
   "outputs": [],
   "source": [
    "import numpy as np\n",
    "from sklearn.datasets import make_regression\n",
    "from sklearn.model_selection import train_test_split\n",
    "from sklearn.ensemble import GradientBoostingRegressor\n",
    "from sklearn.metrics import mean_absolute_error, mean_squared_error, mean_absolute_percentage_error, r2_score"
   ]
  },
  {
   "cell_type": "markdown",
   "id": "6e5466a3",
   "metadata": {},
   "source": [
    "#### Getting Data"
   ]
  },
  {
   "cell_type": "code",
   "execution_count": 2,
   "id": "286709c2",
   "metadata": {},
   "outputs": [],
   "source": [
    "X, y = make_regression(n_samples=5000, n_features=15, n_informative=10, noise=3)"
   ]
  },
  {
   "cell_type": "code",
   "execution_count": 3,
   "id": "16ba0ba2",
   "metadata": {},
   "outputs": [
    {
     "data": {
      "text/plain": [
       "((5000, 15), (5000,))"
      ]
     },
     "execution_count": 3,
     "metadata": {},
     "output_type": "execute_result"
    }
   ],
   "source": [
    "X.shape, y.shape"
   ]
  },
  {
   "cell_type": "markdown",
   "id": "afb80603",
   "metadata": {},
   "source": [
    "#### Splitting dataset for Modelling"
   ]
  },
  {
   "cell_type": "code",
   "execution_count": 5,
   "id": "b3e578b8",
   "metadata": {},
   "outputs": [],
   "source": [
    "X_train, X_test, y_train, y_test = train_test_split(X, y, test_size=0.30, random_state=101)"
   ]
  },
  {
   "cell_type": "code",
   "execution_count": 6,
   "id": "38da0cf8",
   "metadata": {},
   "outputs": [
    {
     "data": {
      "text/plain": [
       "((3500, 15), (3500,))"
      ]
     },
     "execution_count": 6,
     "metadata": {},
     "output_type": "execute_result"
    }
   ],
   "source": [
    "X_train.shape, y_train.shape"
   ]
  },
  {
   "cell_type": "code",
   "execution_count": 7,
   "id": "97335a64",
   "metadata": {},
   "outputs": [
    {
     "data": {
      "text/plain": [
       "((1500, 15), (1500,))"
      ]
     },
     "execution_count": 7,
     "metadata": {},
     "output_type": "execute_result"
    }
   ],
   "source": [
    "X_test.shape, y_test.shape"
   ]
  },
  {
   "cell_type": "markdown",
   "id": "af90a76f",
   "metadata": {},
   "source": [
    "#### Model Building"
   ]
  },
  {
   "cell_type": "code",
   "execution_count": 22,
   "id": "72a1e205",
   "metadata": {},
   "outputs": [
    {
     "data": {
      "text/html": [
       "<style>#sk-container-id-3 {color: black;background-color: white;}#sk-container-id-3 pre{padding: 0;}#sk-container-id-3 div.sk-toggleable {background-color: white;}#sk-container-id-3 label.sk-toggleable__label {cursor: pointer;display: block;width: 100%;margin-bottom: 0;padding: 0.3em;box-sizing: border-box;text-align: center;}#sk-container-id-3 label.sk-toggleable__label-arrow:before {content: \"▸\";float: left;margin-right: 0.25em;color: #696969;}#sk-container-id-3 label.sk-toggleable__label-arrow:hover:before {color: black;}#sk-container-id-3 div.sk-estimator:hover label.sk-toggleable__label-arrow:before {color: black;}#sk-container-id-3 div.sk-toggleable__content {max-height: 0;max-width: 0;overflow: hidden;text-align: left;background-color: #f0f8ff;}#sk-container-id-3 div.sk-toggleable__content pre {margin: 0.2em;color: black;border-radius: 0.25em;background-color: #f0f8ff;}#sk-container-id-3 input.sk-toggleable__control:checked~div.sk-toggleable__content {max-height: 200px;max-width: 100%;overflow: auto;}#sk-container-id-3 input.sk-toggleable__control:checked~label.sk-toggleable__label-arrow:before {content: \"▾\";}#sk-container-id-3 div.sk-estimator input.sk-toggleable__control:checked~label.sk-toggleable__label {background-color: #d4ebff;}#sk-container-id-3 div.sk-label input.sk-toggleable__control:checked~label.sk-toggleable__label {background-color: #d4ebff;}#sk-container-id-3 input.sk-hidden--visually {border: 0;clip: rect(1px 1px 1px 1px);clip: rect(1px, 1px, 1px, 1px);height: 1px;margin: -1px;overflow: hidden;padding: 0;position: absolute;width: 1px;}#sk-container-id-3 div.sk-estimator {font-family: monospace;background-color: #f0f8ff;border: 1px dotted black;border-radius: 0.25em;box-sizing: border-box;margin-bottom: 0.5em;}#sk-container-id-3 div.sk-estimator:hover {background-color: #d4ebff;}#sk-container-id-3 div.sk-parallel-item::after {content: \"\";width: 100%;border-bottom: 1px solid gray;flex-grow: 1;}#sk-container-id-3 div.sk-label:hover label.sk-toggleable__label {background-color: #d4ebff;}#sk-container-id-3 div.sk-serial::before {content: \"\";position: absolute;border-left: 1px solid gray;box-sizing: border-box;top: 0;bottom: 0;left: 50%;z-index: 0;}#sk-container-id-3 div.sk-serial {display: flex;flex-direction: column;align-items: center;background-color: white;padding-right: 0.2em;padding-left: 0.2em;position: relative;}#sk-container-id-3 div.sk-item {position: relative;z-index: 1;}#sk-container-id-3 div.sk-parallel {display: flex;align-items: stretch;justify-content: center;background-color: white;position: relative;}#sk-container-id-3 div.sk-item::before, #sk-container-id-3 div.sk-parallel-item::before {content: \"\";position: absolute;border-left: 1px solid gray;box-sizing: border-box;top: 0;bottom: 0;left: 50%;z-index: -1;}#sk-container-id-3 div.sk-parallel-item {display: flex;flex-direction: column;z-index: 1;position: relative;background-color: white;}#sk-container-id-3 div.sk-parallel-item:first-child::after {align-self: flex-end;width: 50%;}#sk-container-id-3 div.sk-parallel-item:last-child::after {align-self: flex-start;width: 50%;}#sk-container-id-3 div.sk-parallel-item:only-child::after {width: 0;}#sk-container-id-3 div.sk-dashed-wrapped {border: 1px dashed gray;margin: 0 0.4em 0.5em 0.4em;box-sizing: border-box;padding-bottom: 0.4em;background-color: white;}#sk-container-id-3 div.sk-label label {font-family: monospace;font-weight: bold;display: inline-block;line-height: 1.2em;}#sk-container-id-3 div.sk-label-container {text-align: center;}#sk-container-id-3 div.sk-container {/* jupyter's `normalize.less` sets `[hidden] { display: none; }` but bootstrap.min.css set `[hidden] { display: none !important; }` so we also need the `!important` here to be able to override the default hidden behavior on the sphinx rendered scikit-learn.org. See: https://github.com/scikit-learn/scikit-learn/issues/21755 */display: inline-block !important;position: relative;}#sk-container-id-3 div.sk-text-repr-fallback {display: none;}</style><div id=\"sk-container-id-3\" class=\"sk-top-container\"><div class=\"sk-text-repr-fallback\"><pre>GradientBoostingRegressor(learning_rate=0.4, n_estimators=200, random_state=42)</pre><b>In a Jupyter environment, please rerun this cell to show the HTML representation or trust the notebook. <br />On GitHub, the HTML representation is unable to render, please try loading this page with nbviewer.org.</b></div><div class=\"sk-container\" hidden><div class=\"sk-item\"><div class=\"sk-estimator sk-toggleable\"><input class=\"sk-toggleable__control sk-hidden--visually\" id=\"sk-estimator-id-3\" type=\"checkbox\" checked><label for=\"sk-estimator-id-3\" class=\"sk-toggleable__label sk-toggleable__label-arrow\">GradientBoostingRegressor</label><div class=\"sk-toggleable__content\"><pre>GradientBoostingRegressor(learning_rate=0.4, n_estimators=200, random_state=42)</pre></div></div></div></div></div>"
      ],
      "text/plain": [
       "GradientBoostingRegressor(learning_rate=0.4, n_estimators=200, random_state=42)"
      ]
     },
     "execution_count": 22,
     "metadata": {},
     "output_type": "execute_result"
    }
   ],
   "source": [
    "gb_regressor = GradientBoostingRegressor(loss='squared_error',\n",
    "                                         learning_rate=0.4,\n",
    "                                         n_estimators=200,\n",
    "                                         random_state=42)\n",
    "gb_regressor.fit(X_train, y_train)"
   ]
  },
  {
   "cell_type": "code",
   "execution_count": 13,
   "id": "fc2c39df",
   "metadata": {},
   "outputs": [],
   "source": [
    "def accuracy(model, X_train, X_test, y_train, y_test, return_scores = 0):\n",
    "    training_score = round((model.score(X_train, y_train))*100,4)\n",
    "    test_score = round((model.score(X_test, y_test))*100,4)\n",
    "    print(f\"Training Score: {training_score}%\")\n",
    "    print(f\"Test Score: {test_score}%\")\n",
    "    \n",
    "    if return_scores:\n",
    "        return training_score, test_score"
   ]
  },
  {
   "cell_type": "code",
   "execution_count": 17,
   "id": "b5a79840",
   "metadata": {},
   "outputs": [
    {
     "name": "stdout",
     "output_type": "stream",
     "text": [
      "Training Score: 99.5251%\n",
      "Test Score: 97.214%\n"
     ]
    }
   ],
   "source": [
    "accuracy(gb_regressor, X_train, X_test, y_train, y_test, return_scores = 0)"
   ]
  },
  {
   "cell_type": "code",
   "execution_count": 18,
   "id": "e1d47d46",
   "metadata": {},
   "outputs": [
    {
     "name": "stdout",
     "output_type": "stream",
     "text": [
      "Gradient Boosting Regressor with 10 estimators:\n",
      "Training Score: 89.2327%\n",
      "Test Score: 85.2016%\n",
      "\n",
      "\n",
      "Gradient Boosting Regressor with 50 estimators:\n",
      "Training Score: 98.1784%\n",
      "Test Score: 95.9678%\n",
      "\n",
      "\n",
      "Gradient Boosting Regressor with 100 estimators:\n",
      "Training Score: 99.0284%\n",
      "Test Score: 96.9063%\n",
      "\n",
      "\n",
      "Gradient Boosting Regressor with 150 estimators:\n",
      "Training Score: 99.326%\n",
      "Test Score: 97.1036%\n",
      "\n",
      "\n",
      "Gradient Boosting Regressor with 200 estimators:\n",
      "Training Score: 99.5251%\n",
      "Test Score: 97.214%\n",
      "\n",
      "\n",
      "Gradient Boosting Regressor with 250 estimators:\n",
      "Training Score: 99.6643%\n",
      "Test Score: 97.2999%\n",
      "\n",
      "\n",
      "Gradient Boosting Regressor with 300 estimators:\n",
      "Training Score: 99.7482%\n",
      "Test Score: 97.3484%\n",
      "\n",
      "\n",
      "Gradient Boosting Regressor with 350 estimators:\n",
      "Training Score: 99.8078%\n",
      "Test Score: 97.3792%\n",
      "\n",
      "\n",
      "Gradient Boosting Regressor with 400 estimators:\n",
      "Training Score: 99.8517%\n",
      "Test Score: 97.3863%\n",
      "\n",
      "\n",
      "Gradient Boosting Regressor with 500 estimators:\n",
      "Training Score: 99.9087%\n",
      "Test Score: 97.3948%\n",
      "\n",
      "\n"
     ]
    }
   ],
   "source": [
    "for estimators in [10, 50, 100, 150, 200, 250, 300, 350, 400, 500]:\n",
    "    gb_regressor = GradientBoostingRegressor(loss='squared_error',\n",
    "                                         learning_rate=0.4,\n",
    "                                         n_estimators=estimators,\n",
    "                                         random_state=42)\n",
    "    gb_regressor.fit(X_train, y_train)\n",
    "    print(f\"Gradient Boosting Regressor with {estimators} estimators:\")\n",
    "    accuracy(gb_regressor, X_train, X_test, y_train, y_test, return_scores = 0)\n",
    "    print(\"\\n\")"
   ]
  },
  {
   "cell_type": "markdown",
   "id": "d6f9f7d3",
   "metadata": {},
   "source": [
    "#### Gradient Boosted Regressor with 350 estimators is decent, so picking it s a final model"
   ]
  },
  {
   "cell_type": "code",
   "execution_count": 23,
   "id": "41aa42ef",
   "metadata": {},
   "outputs": [
    {
     "data": {
      "text/html": [
       "<style>#sk-container-id-4 {color: black;background-color: white;}#sk-container-id-4 pre{padding: 0;}#sk-container-id-4 div.sk-toggleable {background-color: white;}#sk-container-id-4 label.sk-toggleable__label {cursor: pointer;display: block;width: 100%;margin-bottom: 0;padding: 0.3em;box-sizing: border-box;text-align: center;}#sk-container-id-4 label.sk-toggleable__label-arrow:before {content: \"▸\";float: left;margin-right: 0.25em;color: #696969;}#sk-container-id-4 label.sk-toggleable__label-arrow:hover:before {color: black;}#sk-container-id-4 div.sk-estimator:hover label.sk-toggleable__label-arrow:before {color: black;}#sk-container-id-4 div.sk-toggleable__content {max-height: 0;max-width: 0;overflow: hidden;text-align: left;background-color: #f0f8ff;}#sk-container-id-4 div.sk-toggleable__content pre {margin: 0.2em;color: black;border-radius: 0.25em;background-color: #f0f8ff;}#sk-container-id-4 input.sk-toggleable__control:checked~div.sk-toggleable__content {max-height: 200px;max-width: 100%;overflow: auto;}#sk-container-id-4 input.sk-toggleable__control:checked~label.sk-toggleable__label-arrow:before {content: \"▾\";}#sk-container-id-4 div.sk-estimator input.sk-toggleable__control:checked~label.sk-toggleable__label {background-color: #d4ebff;}#sk-container-id-4 div.sk-label input.sk-toggleable__control:checked~label.sk-toggleable__label {background-color: #d4ebff;}#sk-container-id-4 input.sk-hidden--visually {border: 0;clip: rect(1px 1px 1px 1px);clip: rect(1px, 1px, 1px, 1px);height: 1px;margin: -1px;overflow: hidden;padding: 0;position: absolute;width: 1px;}#sk-container-id-4 div.sk-estimator {font-family: monospace;background-color: #f0f8ff;border: 1px dotted black;border-radius: 0.25em;box-sizing: border-box;margin-bottom: 0.5em;}#sk-container-id-4 div.sk-estimator:hover {background-color: #d4ebff;}#sk-container-id-4 div.sk-parallel-item::after {content: \"\";width: 100%;border-bottom: 1px solid gray;flex-grow: 1;}#sk-container-id-4 div.sk-label:hover label.sk-toggleable__label {background-color: #d4ebff;}#sk-container-id-4 div.sk-serial::before {content: \"\";position: absolute;border-left: 1px solid gray;box-sizing: border-box;top: 0;bottom: 0;left: 50%;z-index: 0;}#sk-container-id-4 div.sk-serial {display: flex;flex-direction: column;align-items: center;background-color: white;padding-right: 0.2em;padding-left: 0.2em;position: relative;}#sk-container-id-4 div.sk-item {position: relative;z-index: 1;}#sk-container-id-4 div.sk-parallel {display: flex;align-items: stretch;justify-content: center;background-color: white;position: relative;}#sk-container-id-4 div.sk-item::before, #sk-container-id-4 div.sk-parallel-item::before {content: \"\";position: absolute;border-left: 1px solid gray;box-sizing: border-box;top: 0;bottom: 0;left: 50%;z-index: -1;}#sk-container-id-4 div.sk-parallel-item {display: flex;flex-direction: column;z-index: 1;position: relative;background-color: white;}#sk-container-id-4 div.sk-parallel-item:first-child::after {align-self: flex-end;width: 50%;}#sk-container-id-4 div.sk-parallel-item:last-child::after {align-self: flex-start;width: 50%;}#sk-container-id-4 div.sk-parallel-item:only-child::after {width: 0;}#sk-container-id-4 div.sk-dashed-wrapped {border: 1px dashed gray;margin: 0 0.4em 0.5em 0.4em;box-sizing: border-box;padding-bottom: 0.4em;background-color: white;}#sk-container-id-4 div.sk-label label {font-family: monospace;font-weight: bold;display: inline-block;line-height: 1.2em;}#sk-container-id-4 div.sk-label-container {text-align: center;}#sk-container-id-4 div.sk-container {/* jupyter's `normalize.less` sets `[hidden] { display: none; }` but bootstrap.min.css set `[hidden] { display: none !important; }` so we also need the `!important` here to be able to override the default hidden behavior on the sphinx rendered scikit-learn.org. See: https://github.com/scikit-learn/scikit-learn/issues/21755 */display: inline-block !important;position: relative;}#sk-container-id-4 div.sk-text-repr-fallback {display: none;}</style><div id=\"sk-container-id-4\" class=\"sk-top-container\"><div class=\"sk-text-repr-fallback\"><pre>GradientBoostingRegressor(learning_rate=0.4, n_estimators=350, random_state=42)</pre><b>In a Jupyter environment, please rerun this cell to show the HTML representation or trust the notebook. <br />On GitHub, the HTML representation is unable to render, please try loading this page with nbviewer.org.</b></div><div class=\"sk-container\" hidden><div class=\"sk-item\"><div class=\"sk-estimator sk-toggleable\"><input class=\"sk-toggleable__control sk-hidden--visually\" id=\"sk-estimator-id-4\" type=\"checkbox\" checked><label for=\"sk-estimator-id-4\" class=\"sk-toggleable__label sk-toggleable__label-arrow\">GradientBoostingRegressor</label><div class=\"sk-toggleable__content\"><pre>GradientBoostingRegressor(learning_rate=0.4, n_estimators=350, random_state=42)</pre></div></div></div></div></div>"
      ],
      "text/plain": [
       "GradientBoostingRegressor(learning_rate=0.4, n_estimators=350, random_state=42)"
      ]
     },
     "execution_count": 23,
     "metadata": {},
     "output_type": "execute_result"
    }
   ],
   "source": [
    "gb_regressor = GradientBoostingRegressor(loss='squared_error',\n",
    "                                         learning_rate=0.4,\n",
    "                                         n_estimators=350,\n",
    "                                         random_state=42)\n",
    "gb_regressor.fit(X_train, y_train)"
   ]
  },
  {
   "cell_type": "code",
   "execution_count": 24,
   "id": "56dd3a80",
   "metadata": {},
   "outputs": [
    {
     "name": "stdout",
     "output_type": "stream",
     "text": [
      "Training Score: 99.8078%\n",
      "Test Score: 97.3792%\n"
     ]
    }
   ],
   "source": [
    "accuracy(gb_regressor, X_train, X_test, y_train, y_test, return_scores = 0)"
   ]
  },
  {
   "cell_type": "code",
   "execution_count": 25,
   "id": "41bc1b9d",
   "metadata": {},
   "outputs": [],
   "source": [
    "y_pred_train = gb_regressor.predict(X_train)\n",
    "y_pred_test = gb_regressor.predict(X_test)"
   ]
  },
  {
   "cell_type": "code",
   "execution_count": 26,
   "id": "f20800cf",
   "metadata": {},
   "outputs": [],
   "source": [
    "# Defining function to return the MAPE (Mean Absolute Percent Error)\n",
    "\n",
    "def get_mape(actual, pred): \n",
    "    actual, pred = np.array(actual), np.array(pred)\n",
    "    return np.mean(np.abs((actual - pred) / actual)) * 100"
   ]
  },
  {
   "cell_type": "code",
   "execution_count": 32,
   "id": "d0f8e9e1",
   "metadata": {},
   "outputs": [],
   "source": [
    "# defining a single function to get all required metrics of regression, to avoid writing it again and again\n",
    "\n",
    "def regression_metrics(actual, predicted, return_results = 0):\n",
    "    \n",
    "    mae = mean_absolute_error(actual, predicted)\n",
    "    mse = mean_squared_error(actual, predicted)\n",
    "    rmse = np.sqrt(mse)\n",
    "    mape = get_mape(actual, predicted)\n",
    "    r_squared = r2_score(actual, predicted)\n",
    "    \n",
    "    mae = round(mae,2)\n",
    "    mse = round(mse,2)\n",
    "    rmse = round(rmse,2)\n",
    "    mape = round(mape,2)\n",
    "    r_squared = round(r_squared,2)\n",
    "    \n",
    "    print(f'Mean Absolute Error: {mae}')\n",
    "    print(f'Mean Squared Error: {mse}')\n",
    "    print(f'Root Mean Squared Error: {rmse}')\n",
    "    print(f'Mean Absolute Percent Error: {mape}%')\n",
    "    print(f'R Squared: {r_squared}')\n",
    "    \n",
    "    if return_results:\n",
    "        return mae, mse, rmse, mape, r_squared"
   ]
  },
  {
   "cell_type": "code",
   "execution_count": 29,
   "id": "b6ad849b",
   "metadata": {},
   "outputs": [
    {
     "name": "stdout",
     "output_type": "stream",
     "text": [
      "False\n",
      "False\n",
      "False\n",
      "False\n"
     ]
    }
   ],
   "source": [
    "# checking if any of the target is 0, because MAPE will fail otherwise\n",
    "print(any(y_train)==0)\n",
    "print(any(y_test)==0)\n",
    "print(any(y_pred_train)==0)\n",
    "print(any(y_pred_test)==0)"
   ]
  },
  {
   "cell_type": "code",
   "execution_count": 33,
   "id": "1108abcb",
   "metadata": {},
   "outputs": [
    {
     "name": "stdout",
     "output_type": "stream",
     "text": [
      "Mean Absolute Error: 6.29\n",
      "Mean Squared Error: 64.84\n",
      "Root Mean Squared Error: 8.05\n",
      "Mean Absolute Percent Error: 19.21%\n",
      "R Squared: 1.0\n"
     ]
    }
   ],
   "source": [
    "regression_metrics(y_train, y_pred_train)"
   ]
  },
  {
   "cell_type": "code",
   "execution_count": 34,
   "id": "944080e7",
   "metadata": {},
   "outputs": [
    {
     "name": "stdout",
     "output_type": "stream",
     "text": [
      "Mean Absolute Error: 22.16\n",
      "Mean Squared Error: 808.7\n",
      "Root Mean Squared Error: 28.44\n",
      "Mean Absolute Percent Error: 59.23%\n",
      "R Squared: 0.97\n"
     ]
    }
   ],
   "source": [
    "regression_metrics(y_test, y_pred_test)"
   ]
  },
  {
   "cell_type": "code",
   "execution_count": null,
   "id": "2575a0c4",
   "metadata": {},
   "outputs": [],
   "source": []
  }
 ],
 "metadata": {
  "kernelspec": {
   "display_name": "Python 3 (ipykernel)",
   "language": "python",
   "name": "python3"
  },
  "language_info": {
   "codemirror_mode": {
    "name": "ipython",
    "version": 3
   },
   "file_extension": ".py",
   "mimetype": "text/x-python",
   "name": "python",
   "nbconvert_exporter": "python",
   "pygments_lexer": "ipython3",
   "version": "3.9.16"
  }
 },
 "nbformat": 4,
 "nbformat_minor": 5
}
