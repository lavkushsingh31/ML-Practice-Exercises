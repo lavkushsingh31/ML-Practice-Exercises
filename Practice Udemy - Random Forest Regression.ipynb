{
 "cells": [
  {
   "cell_type": "markdown",
   "id": "178435fe",
   "metadata": {},
   "source": [
    "Credits/Course URL: https://www.udemy.com/course/machinelearning/"
   ]
  },
  {
   "cell_type": "markdown",
   "id": "4992c872",
   "metadata": {},
   "source": [
    "## Random Forest Regression"
   ]
  },
  {
   "cell_type": "code",
   "execution_count": 1,
   "id": "32af0200",
   "metadata": {},
   "outputs": [],
   "source": [
    "import numpy as np\n",
    "import pandas as pd\n",
    "import matplotlib.pyplot as plt\n",
    "import seaborn as sns\n",
    "from sklearn.ensemble import RandomForestRegressor\n",
    "from sklearn.metrics import mean_absolute_error, mean_squared_error, mean_absolute_percentage_error, r2_score"
   ]
  },
  {
   "cell_type": "markdown",
   "id": "2c84d6fc",
   "metadata": {},
   "source": [
    "#### Reading the data"
   ]
  },
  {
   "cell_type": "code",
   "execution_count": 2,
   "id": "94ff0eed",
   "metadata": {},
   "outputs": [],
   "source": [
    "data = pd.read_csv(r'E:\\Github\\Datasets\\Position_Salaries.csv')"
   ]
  },
  {
   "cell_type": "code",
   "execution_count": 3,
   "id": "fe516ff7",
   "metadata": {},
   "outputs": [
    {
     "data": {
      "text/html": [
       "<div>\n",
       "<style scoped>\n",
       "    .dataframe tbody tr th:only-of-type {\n",
       "        vertical-align: middle;\n",
       "    }\n",
       "\n",
       "    .dataframe tbody tr th {\n",
       "        vertical-align: top;\n",
       "    }\n",
       "\n",
       "    .dataframe thead th {\n",
       "        text-align: right;\n",
       "    }\n",
       "</style>\n",
       "<table border=\"1\" class=\"dataframe\">\n",
       "  <thead>\n",
       "    <tr style=\"text-align: right;\">\n",
       "      <th></th>\n",
       "      <th>Position</th>\n",
       "      <th>Level</th>\n",
       "      <th>Salary</th>\n",
       "    </tr>\n",
       "  </thead>\n",
       "  <tbody>\n",
       "    <tr>\n",
       "      <th>0</th>\n",
       "      <td>Business Analyst</td>\n",
       "      <td>1</td>\n",
       "      <td>45000</td>\n",
       "    </tr>\n",
       "    <tr>\n",
       "      <th>1</th>\n",
       "      <td>Junior Consultant</td>\n",
       "      <td>2</td>\n",
       "      <td>50000</td>\n",
       "    </tr>\n",
       "    <tr>\n",
       "      <th>2</th>\n",
       "      <td>Senior Consultant</td>\n",
       "      <td>3</td>\n",
       "      <td>60000</td>\n",
       "    </tr>\n",
       "    <tr>\n",
       "      <th>3</th>\n",
       "      <td>Manager</td>\n",
       "      <td>4</td>\n",
       "      <td>80000</td>\n",
       "    </tr>\n",
       "    <tr>\n",
       "      <th>4</th>\n",
       "      <td>Country Manager</td>\n",
       "      <td>5</td>\n",
       "      <td>110000</td>\n",
       "    </tr>\n",
       "    <tr>\n",
       "      <th>5</th>\n",
       "      <td>Region Manager</td>\n",
       "      <td>6</td>\n",
       "      <td>150000</td>\n",
       "    </tr>\n",
       "    <tr>\n",
       "      <th>6</th>\n",
       "      <td>Partner</td>\n",
       "      <td>7</td>\n",
       "      <td>200000</td>\n",
       "    </tr>\n",
       "    <tr>\n",
       "      <th>7</th>\n",
       "      <td>Senior Partner</td>\n",
       "      <td>8</td>\n",
       "      <td>300000</td>\n",
       "    </tr>\n",
       "    <tr>\n",
       "      <th>8</th>\n",
       "      <td>C-level</td>\n",
       "      <td>9</td>\n",
       "      <td>500000</td>\n",
       "    </tr>\n",
       "    <tr>\n",
       "      <th>9</th>\n",
       "      <td>CEO</td>\n",
       "      <td>10</td>\n",
       "      <td>1000000</td>\n",
       "    </tr>\n",
       "  </tbody>\n",
       "</table>\n",
       "</div>"
      ],
      "text/plain": [
       "            Position  Level   Salary\n",
       "0   Business Analyst      1    45000\n",
       "1  Junior Consultant      2    50000\n",
       "2  Senior Consultant      3    60000\n",
       "3            Manager      4    80000\n",
       "4    Country Manager      5   110000\n",
       "5     Region Manager      6   150000\n",
       "6            Partner      7   200000\n",
       "7     Senior Partner      8   300000\n",
       "8            C-level      9   500000\n",
       "9                CEO     10  1000000"
      ]
     },
     "execution_count": 3,
     "metadata": {},
     "output_type": "execute_result"
    }
   ],
   "source": [
    "data"
   ]
  },
  {
   "cell_type": "code",
   "execution_count": 4,
   "id": "c00a4c66",
   "metadata": {},
   "outputs": [],
   "source": [
    "X = data['Level'].values.reshape(-1,1)\n",
    "y = data['Salary'].values"
   ]
  },
  {
   "cell_type": "markdown",
   "id": "bdb4c679",
   "metadata": {},
   "source": [
    "#### Building the Random Forest Regressor"
   ]
  },
  {
   "cell_type": "code",
   "execution_count": 5,
   "id": "e84cccd9",
   "metadata": {},
   "outputs": [],
   "source": [
    "rf_regressor = RandomForestRegressor(n_estimators=10, random_state=0)"
   ]
  },
  {
   "cell_type": "code",
   "execution_count": 6,
   "id": "e500d890",
   "metadata": {},
   "outputs": [
    {
     "data": {
      "text/plain": [
       "RandomForestRegressor(n_estimators=10, random_state=0)"
      ]
     },
     "execution_count": 6,
     "metadata": {},
     "output_type": "execute_result"
    }
   ],
   "source": [
    "rf_regressor.fit(X,y)"
   ]
  },
  {
   "cell_type": "code",
   "execution_count": 8,
   "id": "9d27b66f",
   "metadata": {},
   "outputs": [
    {
     "data": {
      "text/plain": [
       "array([ 46000.,  49000.,  59000.,  74000., 101000., 136000., 210000.,\n",
       "       305000., 470000., 850000.])"
      ]
     },
     "execution_count": 8,
     "metadata": {},
     "output_type": "execute_result"
    }
   ],
   "source": [
    "y_pred_train = rf_regressor.predict(X)\n",
    "y_pred_train"
   ]
  },
  {
   "cell_type": "markdown",
   "id": "2d47a74a",
   "metadata": {},
   "source": [
    "#### Evaluation of the model"
   ]
  },
  {
   "cell_type": "code",
   "execution_count": 9,
   "id": "7371aa31",
   "metadata": {},
   "outputs": [],
   "source": [
    "def rmse(actual, predicted):\n",
    "    return np.sqrt(mean_squared_error(actual, predicted))\n",
    "\n",
    "def get_prediction_metrics(y_actual_train, y_pred_train, y_actual_test = 0, y_pred_test = 0, need_test_metrics = 0):\n",
    "    \n",
    "    train_metrics = dict()\n",
    "    test_metrics = dict()\n",
    "    \n",
    "    # Getting training metrics\n",
    "    for metric in [mean_absolute_error, mean_squared_error, mean_absolute_percentage_error, rmse, r2_score]:\n",
    "        train_metrics[metric.__name__+'_(train)'] = round(metric(y_actual_train, y_pred_train),2)\n",
    "    \n",
    "    # Getting test metrics\n",
    "    if need_test_metrics:\n",
    "        for metric in [mean_absolute_error, mean_squared_error, mean_absolute_percentage_error, rmse, r2_score]:\n",
    "            test_metrics[metric.__name__+'_(test)'] = round(metric(y_actual_test, y_pred_test),2)\n",
    "    \n",
    "    # Printing the values\n",
    "    for metric in [mean_absolute_error, mean_squared_error, rmse, mean_absolute_percentage_error, r2_score]:\n",
    "        print(f\"\\n{metric.__name__+'_(train)'}: {train_metrics[metric.__name__+'_(train)']}\")\n",
    "        if need_test_metrics:\n",
    "            print(f\"{metric.__name__+'_(test)'}: {test_metrics[metric.__name__+'_(test)']}\")\n",
    "    \n",
    "    return train_metrics, test_metrics"
   ]
  },
  {
   "cell_type": "code",
   "execution_count": 10,
   "id": "d73151ca",
   "metadata": {},
   "outputs": [
    {
     "name": "stdout",
     "output_type": "stream",
     "text": [
      "\n",
      "mean_absolute_error_(train): 22700.0\n",
      "\n",
      "mean_squared_error_(train): 2384100000.0\n",
      "\n",
      "rmse_(train): 48827.25\n",
      "\n",
      "mean_absolute_percentage_error_(train): 0.06\n",
      "\n",
      "r2_score_(train): 0.97\n"
     ]
    }
   ],
   "source": [
    "pred_metrics = get_prediction_metrics(y_actual_train = y, \n",
    "                                      y_pred_train = y_pred_train)"
   ]
  },
  {
   "cell_type": "markdown",
   "id": "a9ef8fa7",
   "metadata": {},
   "source": [
    "#### Getting predictions based on user input"
   ]
  },
  {
   "cell_type": "code",
   "execution_count": 11,
   "id": "58a842b2",
   "metadata": {},
   "outputs": [],
   "source": [
    "def get_predictions_random_forest_model(user_input):\n",
    "    try:\n",
    "        user_input = float(user_input)\n",
    "    except:\n",
    "        return \"Invalid input! Please try again with integer as input.\"\n",
    "    \n",
    "    user_input = np.array(user_input).reshape(-1,1)\n",
    "    prediction = rf_regressor.predict(user_input)\n",
    "    return prediction"
   ]
  },
  {
   "cell_type": "code",
   "execution_count": 12,
   "id": "add7e3c5",
   "metadata": {},
   "outputs": [
    {
     "name": "stdout",
     "output_type": "stream",
     "text": [
      "Enter the position level (as integer): 6.5\n"
     ]
    },
    {
     "data": {
      "text/plain": [
       "array([167000.])"
      ]
     },
     "execution_count": 12,
     "metadata": {},
     "output_type": "execute_result"
    }
   ],
   "source": [
    "user_input = input('Enter the position level (as integer): ')\n",
    "get_predictions_random_forest_model(user_input)"
   ]
  },
  {
   "cell_type": "code",
   "execution_count": 14,
   "id": "c474ae53",
   "metadata": {},
   "outputs": [],
   "source": [
    "X_grid = np.arange(min(X), max(X), 0.1).reshape(-1,1)\n",
    "\n",
    "y_pred_Xgrid = rf_regressor.predict(X_grid)"
   ]
  },
  {
   "cell_type": "code",
   "execution_count": 15,
   "id": "10deca42",
   "metadata": {},
   "outputs": [
    {
     "data": {
      "image/png": "[encoded data removed]",
      "text/plain": [
       "<Figure size 900x500 with 1 Axes>"
      ]
     },
     "metadata": {},
     "output_type": "display_data"
    }
   ],
   "source": [
    "plt.figure(figsize=(9,5))\n",
    "sns.scatterplot(x = X.ravel(), y = y, color = 'red')\n",
    "sns.lineplot(x = X_grid.ravel(), y = y_pred_Xgrid)\n",
    "plt.title(\"True Salary vs Falsely Claimed Salary (Random Forest Regressor) HD\")\n",
    "plt.xlabel(\"Level (Position)\")\n",
    "plt.ylabel(\"Salary\");"
   ]
  },
  {
   "cell_type": "code",
   "execution_count": null,
   "id": "ab3f0274",
   "metadata": {},
   "outputs": [],
   "source": []
  }
 ],
 "metadata": {
  "kernelspec": {
   "display_name": "Python 3 (ipykernel)",
   "language": "python",
   "name": "python3"
  },
  "language_info": {
   "codemirror_mode": {
    "name": "ipython",
    "version": 3
   },
   "file_extension": ".py",
   "mimetype": "text/x-python",
   "name": "python",
   "nbconvert_exporter": "python",
   "pygments_lexer": "ipython3",
   "version": "3.9.15"
  }
 },
 "nbformat": 4,
 "nbformat_minor": 5
}
