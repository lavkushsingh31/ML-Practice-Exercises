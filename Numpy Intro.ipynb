{
 "cells": [
  {
   "cell_type": "code",
   "execution_count": 1,
   "id": "portable-living",
   "metadata": {},
   "outputs": [],
   "source": [
    "import numpy as np\n",
    "import pandas as pd"
   ]
  },
  {
   "cell_type": "code",
   "execution_count": 2,
   "id": "logical-robinson",
   "metadata": {},
   "outputs": [
    {
     "data": {
      "text/plain": [
       "array([2, 3, 4, 5, 6, 7])"
      ]
     },
     "execution_count": 2,
     "metadata": {},
     "output_type": "execute_result"
    }
   ],
   "source": [
    "ar = np.array(np.arange(2,8))\n",
    "ar"
   ]
  },
  {
   "cell_type": "code",
   "execution_count": 3,
   "id": "latest-suicide",
   "metadata": {},
   "outputs": [
    {
     "data": {
      "text/plain": [
       "numpy.ndarray"
      ]
     },
     "execution_count": 3,
     "metadata": {},
     "output_type": "execute_result"
    }
   ],
   "source": [
    "type(ar)"
   ]
  },
  {
   "cell_type": "code",
   "execution_count": 4,
   "id": "moved-solomon",
   "metadata": {},
   "outputs": [],
   "source": [
    "ar2 = np.array([[1,2,3,4],\n",
    "[7,8,9,0]])"
   ]
  },
  {
   "cell_type": "code",
   "execution_count": 5,
   "id": "orange-farming",
   "metadata": {},
   "outputs": [
    {
     "data": {
      "text/plain": [
       "1"
      ]
     },
     "execution_count": 5,
     "metadata": {},
     "output_type": "execute_result"
    }
   ],
   "source": [
    "ar.ndim"
   ]
  },
  {
   "cell_type": "code",
   "execution_count": 6,
   "id": "diverse-mattress",
   "metadata": {
    "scrolled": true
   },
   "outputs": [
    {
     "data": {
      "text/plain": [
       "array([[1, 2, 3, 4],\n",
       "       [7, 8, 9, 0]])"
      ]
     },
     "execution_count": 6,
     "metadata": {},
     "output_type": "execute_result"
    }
   ],
   "source": [
    "ar2"
   ]
  },
  {
   "cell_type": "code",
   "execution_count": 7,
   "id": "average-replica",
   "metadata": {},
   "outputs": [
    {
     "data": {
      "text/plain": [
       "numpy.ndarray"
      ]
     },
     "execution_count": 7,
     "metadata": {},
     "output_type": "execute_result"
    }
   ],
   "source": [
    "type(ar2)"
   ]
  },
  {
   "cell_type": "code",
   "execution_count": 8,
   "id": "aerial-brunswick",
   "metadata": {},
   "outputs": [
    {
     "data": {
      "text/plain": [
       "2"
      ]
     },
     "execution_count": 8,
     "metadata": {},
     "output_type": "execute_result"
    }
   ],
   "source": [
    "ar2.ndim"
   ]
  },
  {
   "cell_type": "code",
   "execution_count": 9,
   "id": "rising-vancouver",
   "metadata": {},
   "outputs": [
    {
     "data": {
      "text/plain": [
       "((6,), (2, 4))"
      ]
     },
     "execution_count": 9,
     "metadata": {},
     "output_type": "execute_result"
    }
   ],
   "source": [
    "ar.shape, ar2.shape"
   ]
  },
  {
   "cell_type": "code",
   "execution_count": 10,
   "id": "violent-semester",
   "metadata": {},
   "outputs": [
    {
     "data": {
      "text/plain": [
       "(dtype('int32'), dtype('int32'))"
      ]
     },
     "execution_count": 10,
     "metadata": {},
     "output_type": "execute_result"
    }
   ],
   "source": [
    "ar.dtype, ar2.dtype"
   ]
  },
  {
   "cell_type": "code",
   "execution_count": 11,
   "id": "cardiovascular-harassment",
   "metadata": {},
   "outputs": [
    {
     "data": {
      "text/plain": [
       "(6, 8)"
      ]
     },
     "execution_count": 11,
     "metadata": {},
     "output_type": "execute_result"
    }
   ],
   "source": [
    "ar.size, ar2.size"
   ]
  },
  {
   "cell_type": "code",
   "execution_count": 12,
   "id": "central-transparency",
   "metadata": {},
   "outputs": [
    {
     "data": {
      "text/html": [
       "<div>\n",
       "<style scoped>\n",
       "    .dataframe tbody tr th:only-of-type {\n",
       "        vertical-align: middle;\n",
       "    }\n",
       "\n",
       "    .dataframe tbody tr th {\n",
       "        vertical-align: top;\n",
       "    }\n",
       "\n",
       "    .dataframe thead th {\n",
       "        text-align: right;\n",
       "    }\n",
       "</style>\n",
       "<table border=\"1\" class=\"dataframe\">\n",
       "  <thead>\n",
       "    <tr style=\"text-align: right;\">\n",
       "      <th></th>\n",
       "      <th>0</th>\n",
       "      <th>1</th>\n",
       "      <th>2</th>\n",
       "      <th>3</th>\n",
       "    </tr>\n",
       "  </thead>\n",
       "  <tbody>\n",
       "    <tr>\n",
       "      <th>0</th>\n",
       "      <td>1</td>\n",
       "      <td>2</td>\n",
       "      <td>3</td>\n",
       "      <td>4</td>\n",
       "    </tr>\n",
       "    <tr>\n",
       "      <th>1</th>\n",
       "      <td>7</td>\n",
       "      <td>8</td>\n",
       "      <td>9</td>\n",
       "      <td>0</td>\n",
       "    </tr>\n",
       "  </tbody>\n",
       "</table>\n",
       "</div>"
      ],
      "text/plain": [
       "   0  1  2  3\n",
       "0  1  2  3  4\n",
       "1  7  8  9  0"
      ]
     },
     "execution_count": 12,
     "metadata": {},
     "output_type": "execute_result"
    }
   ],
   "source": [
    "pd.DataFrame(ar2)"
   ]
  },
  {
   "cell_type": "code",
   "execution_count": 13,
   "id": "reasonable-parking",
   "metadata": {},
   "outputs": [
    {
     "data": {
      "text/plain": [
       "array([1., 1., 1., 1.])"
      ]
     },
     "execution_count": 13,
     "metadata": {},
     "output_type": "execute_result"
    }
   ],
   "source": [
    "np.ones(4)"
   ]
  },
  {
   "cell_type": "code",
   "execution_count": 14,
   "id": "finite-hostel",
   "metadata": {},
   "outputs": [
    {
     "data": {
      "text/plain": [
       "array([[1., 1., 1., 1., 1.],\n",
       "       [1., 1., 1., 1., 1.]])"
      ]
     },
     "execution_count": 14,
     "metadata": {},
     "output_type": "execute_result"
    }
   ],
   "source": [
    "np.ones((2,5))"
   ]
  },
  {
   "cell_type": "code",
   "execution_count": 15,
   "id": "educational-halloween",
   "metadata": {},
   "outputs": [
    {
     "data": {
      "text/plain": [
       "array([[0., 0.],\n",
       "       [0., 0.],\n",
       "       [0., 0.]])"
      ]
     },
     "execution_count": 15,
     "metadata": {},
     "output_type": "execute_result"
    }
   ],
   "source": [
    "np.zeros((3,2))"
   ]
  },
  {
   "cell_type": "code",
   "execution_count": 16,
   "id": "floating-vessel",
   "metadata": {},
   "outputs": [
    {
     "data": {
      "text/plain": [
       "array([[7, 5, 6],\n",
       "       [2, 7, 7],\n",
       "       [8, 6, 8],\n",
       "       [7, 7, 6]])"
      ]
     },
     "execution_count": 16,
     "metadata": {},
     "output_type": "execute_result"
    }
   ],
   "source": [
    "np.random.randint(2,10, size=(4,3))"
   ]
  },
  {
   "cell_type": "code",
   "execution_count": 17,
   "id": "adequate-chase",
   "metadata": {},
   "outputs": [
    {
     "data": {
      "text/plain": [
       "array([[0.98681062, 0.53932072, 0.67778807, 0.23958059],\n",
       "       [0.50507317, 0.89016219, 0.1153861 , 0.28547143],\n",
       "       [0.94516774, 0.45376868, 0.52262109, 0.42183834]])"
      ]
     },
     "execution_count": 17,
     "metadata": {},
     "output_type": "execute_result"
    }
   ],
   "source": [
    "np.random.random(size=(3,4))"
   ]
  },
  {
   "cell_type": "code",
   "execution_count": 18,
   "id": "sophisticated-breathing",
   "metadata": {},
   "outputs": [
    {
     "data": {
      "text/plain": [
       "array([[0.31312917, 0.33569175, 0.09693103, 0.20200585],\n",
       "       [0.90059333, 0.42865485, 0.13699384, 0.73112074],\n",
       "       [0.07866849, 0.17489625, 0.69713753, 0.32896937]])"
      ]
     },
     "execution_count": 18,
     "metadata": {},
     "output_type": "execute_result"
    }
   ],
   "source": [
    "np.random.rand(3,4) # another way for above command"
   ]
  },
  {
   "cell_type": "code",
   "execution_count": 19,
   "id": "premium-commitment",
   "metadata": {},
   "outputs": [
    {
     "data": {
      "text/plain": [
       "array([[0.5488135 , 0.71518937, 0.60276338, 0.54488318],\n",
       "       [0.4236548 , 0.64589411, 0.43758721, 0.891773  ],\n",
       "       [0.96366276, 0.38344152, 0.79172504, 0.52889492],\n",
       "       [0.56804456, 0.92559664, 0.07103606, 0.0871293 ]])"
      ]
     },
     "execution_count": 19,
     "metadata": {},
     "output_type": "execute_result"
    }
   ],
   "source": [
    "# pseudo random numbers\n",
    "np.random.seed(seed = 0)\n",
    "np.random.rand(4,4)"
   ]
  },
  {
   "cell_type": "code",
   "execution_count": 20,
   "id": "ancient-victoria",
   "metadata": {},
   "outputs": [
    {
     "data": {
      "text/plain": [
       "array([[90, 79, 89, 57],\n",
       "       [74, 92, 98, 59],\n",
       "       [39, 29, 29, 24],\n",
       "       [49, 42, 75, 19]])"
      ]
     },
     "execution_count": 20,
     "metadata": {},
     "output_type": "execute_result"
    }
   ],
   "source": [
    "arr = np.random.randint(10, 100, (4,4))\n",
    "arr"
   ]
  },
  {
   "cell_type": "code",
   "execution_count": 21,
   "id": "overall-encyclopedia",
   "metadata": {},
   "outputs": [
    {
     "data": {
      "text/plain": [
       "array([19, 24, 29, 39, 42, 49, 57, 59, 74, 75, 79, 89, 90, 92, 98])"
      ]
     },
     "execution_count": 21,
     "metadata": {},
     "output_type": "execute_result"
    }
   ],
   "source": [
    "np.unique(arr)"
   ]
  },
  {
   "cell_type": "code",
   "execution_count": 22,
   "id": "creative-continent",
   "metadata": {},
   "outputs": [
    {
     "data": {
      "text/plain": [
       "array([74, 92, 98, 59])"
      ]
     },
     "execution_count": 22,
     "metadata": {},
     "output_type": "execute_result"
    }
   ],
   "source": [
    "arr[1]"
   ]
  },
  {
   "cell_type": "code",
   "execution_count": 23,
   "id": "artificial-surveillance",
   "metadata": {},
   "outputs": [
    {
     "name": "stdout",
     "output_type": "stream",
     "text": [
      " Volume in drive E is Working Drive\n",
      " Volume Serial Number is 6075-2DD5\n",
      "\n",
      " Directory of E:\\Udemy\\Udemy - Data Science and Machine Learning\\Complete Machine Learning &amp; Data Science Bootcamp 2021\\ML Practice Projects\n",
      "\n",
      "06-08-2021  09:22    <DIR>          .\n",
      "06-08-2021  09:22    <DIR>          ..\n",
      "03-08-2021  21:25    <DIR>          .ipynb_checkpoints\n",
      "02-08-2021  19:57               369 car-sales.csv\n",
      "03-08-2021  19:39               371 exported-car-sales.csv\n",
      "06-08-2021  09:22            33,838 Numpy Intro.ipynb\n",
      "03-08-2021  20:18           154,260 Pandas Intro.ipynb\n",
      "               4 File(s)        188,838 bytes\n",
      "               3 Dir(s)  96,917,405,696 bytes free\n"
     ]
    }
   ],
   "source": [
    "ls"
   ]
  },
  {
   "cell_type": "code",
   "execution_count": 24,
   "id": "preceding-frost",
   "metadata": {},
   "outputs": [
    {
     "name": "stdout",
     "output_type": "stream",
     "text": [
      "ar\t ar2\t arr\t np\t pd\t \n"
     ]
    }
   ],
   "source": [
    "%who"
   ]
  },
  {
   "cell_type": "code",
   "execution_count": 25,
   "id": "confident-column",
   "metadata": {},
   "outputs": [
    {
     "data": {
      "text/plain": [
       "array([[1, 2, 3, 4],\n",
       "       [7, 8, 9, 0]])"
      ]
     },
     "execution_count": 25,
     "metadata": {},
     "output_type": "execute_result"
    }
   ],
   "source": [
    "ar2"
   ]
  },
  {
   "cell_type": "code",
   "execution_count": 26,
   "id": "english-factor",
   "metadata": {},
   "outputs": [
    {
     "data": {
      "text/plain": [
       "array([[[[67, 42, 41],\n",
       "         [84, 33, 45],\n",
       "         [85, 65, 38]],\n",
       "\n",
       "        [[44, 10, 10],\n",
       "         [46, 63, 15],\n",
       "         [48, 27, 89]]],\n",
       "\n",
       "\n",
       "       [[[14, 52, 68],\n",
       "         [41, 11, 75],\n",
       "         [51, 67, 45]],\n",
       "\n",
       "        [[21, 56, 92],\n",
       "         [10, 24, 63],\n",
       "         [22, 52, 94]]],\n",
       "\n",
       "\n",
       "       [[[85, 78, 16],\n",
       "         [78, 57, 13],\n",
       "         [86, 62, 88]],\n",
       "\n",
       "        [[25, 30, 68],\n",
       "         [33, 89, 23],\n",
       "         [95, 58, 59]]],\n",
       "\n",
       "\n",
       "       [[[79, 51, 45],\n",
       "         [74, 79, 10],\n",
       "         [60, 46, 44]],\n",
       "\n",
       "        [[58, 13, 52],\n",
       "         [87, 31, 83],\n",
       "         [10, 20, 53]]],\n",
       "\n",
       "\n",
       "       [[[68, 33, 69],\n",
       "         [12, 72, 45],\n",
       "         [77, 92, 56]],\n",
       "\n",
       "        [[30, 91, 60],\n",
       "         [37, 24, 51],\n",
       "         [68, 75, 46]]]])"
      ]
     },
     "execution_count": 26,
     "metadata": {},
     "output_type": "execute_result"
    }
   ],
   "source": [
    "arr3d = np.random.randint(10,100, size = (5,2,3,3))\n",
    "arr3d"
   ]
  },
  {
   "cell_type": "code",
   "execution_count": 27,
   "id": "dominant-spirit",
   "metadata": {},
   "outputs": [
    {
     "data": {
      "text/plain": [
       "(4, (5, 2, 3, 3), 90, dtype('int32'))"
      ]
     },
     "execution_count": 27,
     "metadata": {},
     "output_type": "execute_result"
    }
   ],
   "source": [
    "arr3d.ndim, arr3d.shape, arr3d.size, arr3d.dtype"
   ]
  },
  {
   "cell_type": "code",
   "execution_count": 28,
   "id": "athletic-certificate",
   "metadata": {},
   "outputs": [
    {
     "data": {
      "text/plain": [
       "array([[[[67, 42],\n",
       "         [84, 33]],\n",
       "\n",
       "        [[44, 10],\n",
       "         [46, 63]]],\n",
       "\n",
       "\n",
       "       [[[14, 52],\n",
       "         [41, 11]],\n",
       "\n",
       "        [[21, 56],\n",
       "         [10, 24]]],\n",
       "\n",
       "\n",
       "       [[[85, 78],\n",
       "         [78, 57]],\n",
       "\n",
       "        [[25, 30],\n",
       "         [33, 89]]]])"
      ]
     },
     "execution_count": 28,
     "metadata": {},
     "output_type": "execute_result"
    }
   ],
   "source": [
    "arr3d[:3,:,:2,:2]"
   ]
  },
  {
   "cell_type": "markdown",
   "id": "certain-shakespeare",
   "metadata": {},
   "source": [
    "## Arithmetic operations"
   ]
  },
  {
   "cell_type": "code",
   "execution_count": 29,
   "id": "dense-editing",
   "metadata": {},
   "outputs": [
    {
     "data": {
      "text/plain": [
       "array([[90, 79, 89, 57],\n",
       "       [74, 92, 98, 59],\n",
       "       [39, 29, 29, 24],\n",
       "       [49, 42, 75, 19]])"
      ]
     },
     "execution_count": 29,
     "metadata": {},
     "output_type": "execute_result"
    }
   ],
   "source": [
    "arr"
   ]
  },
  {
   "cell_type": "code",
   "execution_count": 30,
   "id": "studied-remove",
   "metadata": {},
   "outputs": [
    {
     "data": {
      "text/plain": [
       "array([[ 92,  81,  91,  59],\n",
       "       [ 76,  94, 100,  61],\n",
       "       [ 41,  31,  31,  26],\n",
       "       [ 51,  44,  77,  21]])"
      ]
     },
     "execution_count": 30,
     "metadata": {},
     "output_type": "execute_result"
    }
   ],
   "source": [
    "arr +2"
   ]
  },
  {
   "cell_type": "code",
   "execution_count": 31,
   "id": "bored-british",
   "metadata": {},
   "outputs": [
    {
     "data": {
      "text/plain": [
       "(array([[88, 77, 87, 55],\n",
       "        [72, 90, 96, 57],\n",
       "        [37, 27, 27, 22],\n",
       "        [47, 40, 73, 17]]),\n",
       " array([[ 93,  82,  92,  60],\n",
       "        [ 77,  95, 101,  62],\n",
       "        [ 42,  32,  32,  27],\n",
       "        [ 52,  45,  78,  22]]))"
      ]
     },
     "execution_count": 31,
     "metadata": {},
     "output_type": "execute_result"
    }
   ],
   "source": [
    "arr -2, arr +3"
   ]
  },
  {
   "cell_type": "code",
   "execution_count": 32,
   "id": "broadband-upper",
   "metadata": {},
   "outputs": [
    {
     "data": {
      "text/plain": [
       "array([[[[67, 42, 41],\n",
       "         [84, 33, 45],\n",
       "         [85, 65, 38]],\n",
       "\n",
       "        [[44, 10, 10],\n",
       "         [46, 63, 15],\n",
       "         [48, 27, 89]]],\n",
       "\n",
       "\n",
       "       [[[14, 52, 68],\n",
       "         [41, 11, 75],\n",
       "         [51, 67, 45]],\n",
       "\n",
       "        [[21, 56, 92],\n",
       "         [10, 24, 63],\n",
       "         [22, 52, 94]]],\n",
       "\n",
       "\n",
       "       [[[85, 78, 16],\n",
       "         [78, 57, 13],\n",
       "         [86, 62, 88]],\n",
       "\n",
       "        [[25, 30, 68],\n",
       "         [33, 89, 23],\n",
       "         [95, 58, 59]]],\n",
       "\n",
       "\n",
       "       [[[79, 51, 45],\n",
       "         [74, 79, 10],\n",
       "         [60, 46, 44]],\n",
       "\n",
       "        [[58, 13, 52],\n",
       "         [87, 31, 83],\n",
       "         [10, 20, 53]]],\n",
       "\n",
       "\n",
       "       [[[68, 33, 69],\n",
       "         [12, 72, 45],\n",
       "         [77, 92, 56]],\n",
       "\n",
       "        [[30, 91, 60],\n",
       "         [37, 24, 51],\n",
       "         [68, 75, 46]]]])"
      ]
     },
     "execution_count": 32,
     "metadata": {},
     "output_type": "execute_result"
    }
   ],
   "source": [
    "arr3d"
   ]
  },
  {
   "cell_type": "code",
   "execution_count": 33,
   "id": "expected-ethernet",
   "metadata": {},
   "outputs": [
    {
     "data": {
      "text/plain": [
       "(5, 2, 3, 3)"
      ]
     },
     "execution_count": 33,
     "metadata": {},
     "output_type": "execute_result"
    }
   ],
   "source": [
    "arr3d.shape"
   ]
  },
  {
   "cell_type": "code",
   "execution_count": 34,
   "id": "south-modern",
   "metadata": {},
   "outputs": [
    {
     "data": {
      "text/plain": [
       "array([[8100, 6241, 7921, 3249],\n",
       "       [5476, 8464, 9604, 3481],\n",
       "       [1521,  841,  841,  576],\n",
       "       [2401, 1764, 5625,  361]], dtype=int32)"
      ]
     },
     "execution_count": 34,
     "metadata": {},
     "output_type": "execute_result"
    }
   ],
   "source": [
    "## Aggregation = peforming the same operation on a number of things\n",
    "arr **2"
   ]
  },
  {
   "cell_type": "code",
   "execution_count": 35,
   "id": "changed-watch",
   "metadata": {},
   "outputs": [
    {
     "data": {
      "text/plain": [
       "array([[8100, 6241, 7921, 3249],\n",
       "       [5476, 8464, 9604, 3481],\n",
       "       [1521,  841,  841,  576],\n",
       "       [2401, 1764, 5625,  361]], dtype=int32)"
      ]
     },
     "execution_count": 35,
     "metadata": {},
     "output_type": "execute_result"
    }
   ],
   "source": [
    "np.square(arr)"
   ]
  },
  {
   "cell_type": "markdown",
   "id": "aging-status",
   "metadata": {},
   "source": [
    "Use Numpy methods on numpy elements: `function()`and Use Python methods on python elements: `np.function()`"
   ]
  },
  {
   "cell_type": "code",
   "execution_count": 36,
   "id": "collaborative-berlin",
   "metadata": {},
   "outputs": [
    {
     "name": "stdout",
     "output_type": "stream",
     "text": [
      "3.3 µs ± 258 ns per loop (mean ± std. dev. of 7 runs, 100000 loops each)\n",
      "3.17 µs ± 473 ns per loop (mean ± std. dev. of 7 runs, 100000 loops each)\n"
     ]
    }
   ],
   "source": [
    "%timeit arr **2\n",
    "%timeit np.square(arr)"
   ]
  },
  {
   "cell_type": "code",
   "execution_count": 37,
   "id": "downtown-economy",
   "metadata": {},
   "outputs": [
    {
     "name": "stdout",
     "output_type": "stream",
     "text": [
      "944\n",
      "19\n",
      "98\n",
      "59.0\n",
      "673.125\n",
      "25.944652628239215\n"
     ]
    }
   ],
   "source": [
    "print(np.sum(arr))\n",
    "print(np.min(arr))\n",
    "print(np.max(arr))\n",
    "print(np.mean(arr))\n",
    "print(np.var(arr))\n",
    "print(np.std(arr))"
   ]
  },
  {
   "cell_type": "code",
   "execution_count": 38,
   "id": "beautiful-pottery",
   "metadata": {},
   "outputs": [
    {
     "data": {
      "text/plain": [
       "array([[90, 79, 89, 57],\n",
       "       [74, 92, 98, 59],\n",
       "       [39, 29, 29, 24],\n",
       "       [49, 42, 75, 19]])"
      ]
     },
     "execution_count": 38,
     "metadata": {},
     "output_type": "execute_result"
    }
   ],
   "source": [
    "arr"
   ]
  },
  {
   "cell_type": "code",
   "execution_count": 39,
   "id": "great-basis",
   "metadata": {},
   "outputs": [
    {
     "data": {
      "text/plain": [
       "array([[90, 74, 39, 49],\n",
       "       [79, 92, 29, 42],\n",
       "       [89, 98, 29, 75],\n",
       "       [57, 59, 24, 19]])"
      ]
     },
     "execution_count": 39,
     "metadata": {},
     "output_type": "execute_result"
    }
   ],
   "source": [
    "arr.T"
   ]
  },
  {
   "cell_type": "markdown",
   "id": "acknowledged-revision",
   "metadata": {},
   "source": [
    "# Dot Product"
   ]
  },
  {
   "cell_type": "code",
   "execution_count": 40,
   "id": "competent-birthday",
   "metadata": {},
   "outputs": [],
   "source": [
    "mat1 = np.random.randint(9, size = (3,3))\n",
    "mat2 = np.random.randint(9, size = (3,3))"
   ]
  },
  {
   "cell_type": "code",
   "execution_count": 41,
   "id": "purple-mandate",
   "metadata": {},
   "outputs": [
    {
     "data": {
      "text/plain": [
       "array([[6, 8, 2],\n",
       "       [3, 0, 0],\n",
       "       [6, 0, 6]])"
      ]
     },
     "execution_count": 41,
     "metadata": {},
     "output_type": "execute_result"
    }
   ],
   "source": [
    "mat1"
   ]
  },
  {
   "cell_type": "code",
   "execution_count": 42,
   "id": "abandoned-storm",
   "metadata": {},
   "outputs": [
    {
     "data": {
      "text/plain": [
       "array([[3, 3, 8],\n",
       "       [8, 8, 2],\n",
       "       [3, 2, 0]])"
      ]
     },
     "execution_count": 42,
     "metadata": {},
     "output_type": "execute_result"
    }
   ],
   "source": [
    "mat2"
   ]
  },
  {
   "cell_type": "code",
   "execution_count": 43,
   "id": "lyric-following",
   "metadata": {},
   "outputs": [
    {
     "data": {
      "text/plain": [
       "array([[18, 24, 16],\n",
       "       [24,  0,  0],\n",
       "       [18,  0,  0]])"
      ]
     },
     "execution_count": 43,
     "metadata": {},
     "output_type": "execute_result"
    }
   ],
   "source": [
    "# Element wise operation - Hadamard Product\n",
    "mat1 * mat2"
   ]
  },
  {
   "cell_type": "code",
   "execution_count": 44,
   "id": "electronic-stand",
   "metadata": {},
   "outputs": [
    {
     "data": {
      "text/plain": [
       "((3, 3), (3, 3))"
      ]
     },
     "execution_count": 44,
     "metadata": {},
     "output_type": "execute_result"
    }
   ],
   "source": [
    "mat1.shape, mat2.shape"
   ]
  },
  {
   "cell_type": "code",
   "execution_count": 45,
   "id": "enabling-olive",
   "metadata": {},
   "outputs": [
    {
     "data": {
      "text/plain": [
       "array([[88, 86, 64],\n",
       "       [ 9,  9, 24],\n",
       "       [36, 30, 48]])"
      ]
     },
     "execution_count": 45,
     "metadata": {},
     "output_type": "execute_result"
    }
   ],
   "source": [
    "# Dot product - Matrix Multiplication\n",
    "np.dot(mat1, mat2)"
   ]
  },
  {
   "cell_type": "code",
   "execution_count": 46,
   "id": "handled-promise",
   "metadata": {},
   "outputs": [],
   "source": [
    "sale_info = np.random.randint(20,99, size = (4,3))"
   ]
  },
  {
   "cell_type": "code",
   "execution_count": 47,
   "id": "antique-appliance",
   "metadata": {},
   "outputs": [],
   "source": [
    "fruit_df = pd.DataFrame(sale_info, index=('Mon', 'Tues', 'Wed', 'Thur'), columns=('Apple', 'Lychee', 'Papaya'))"
   ]
  },
  {
   "cell_type": "code",
   "execution_count": 48,
   "id": "wrapped-tsunami",
   "metadata": {},
   "outputs": [
    {
     "data": {
      "text/html": [
       "<div>\n",
       "<style scoped>\n",
       "    .dataframe tbody tr th:only-of-type {\n",
       "        vertical-align: middle;\n",
       "    }\n",
       "\n",
       "    .dataframe tbody tr th {\n",
       "        vertical-align: top;\n",
       "    }\n",
       "\n",
       "    .dataframe thead th {\n",
       "        text-align: right;\n",
       "    }\n",
       "</style>\n",
       "<table border=\"1\" class=\"dataframe\">\n",
       "  <thead>\n",
       "    <tr style=\"text-align: right;\">\n",
       "      <th></th>\n",
       "      <th>Apple</th>\n",
       "      <th>Lychee</th>\n",
       "      <th>Papaya</th>\n",
       "    </tr>\n",
       "  </thead>\n",
       "  <tbody>\n",
       "    <tr>\n",
       "      <th>Mon</th>\n",
       "      <td>60</td>\n",
       "      <td>92</td>\n",
       "      <td>39</td>\n",
       "    </tr>\n",
       "    <tr>\n",
       "      <th>Tues</th>\n",
       "      <td>92</td>\n",
       "      <td>46</td>\n",
       "      <td>86</td>\n",
       "    </tr>\n",
       "    <tr>\n",
       "      <th>Wed</th>\n",
       "      <td>72</td>\n",
       "      <td>87</td>\n",
       "      <td>81</td>\n",
       "    </tr>\n",
       "    <tr>\n",
       "      <th>Thur</th>\n",
       "      <td>34</td>\n",
       "      <td>24</td>\n",
       "      <td>87</td>\n",
       "    </tr>\n",
       "  </tbody>\n",
       "</table>\n",
       "</div>"
      ],
      "text/plain": [
       "      Apple  Lychee  Papaya\n",
       "Mon      60      92      39\n",
       "Tues     92      46      86\n",
       "Wed      72      87      81\n",
       "Thur     34      24      87"
      ]
     },
     "execution_count": 48,
     "metadata": {},
     "output_type": "execute_result"
    }
   ],
   "source": [
    "fruit_df"
   ]
  },
  {
   "cell_type": "code",
   "execution_count": 49,
   "id": "romance-grounds",
   "metadata": {},
   "outputs": [
    {
     "data": {
      "text/plain": [
       "array([[849, 239, 698]])"
      ]
     },
     "execution_count": 49,
     "metadata": {},
     "output_type": "execute_result"
    }
   ],
   "source": [
    "prices = np.random.randint(100, 999, size=(1,3))\n",
    "prices"
   ]
  },
  {
   "cell_type": "code",
   "execution_count": 50,
   "id": "signed-settlement",
   "metadata": {},
   "outputs": [],
   "source": [
    "price_df = pd.DataFrame(prices, columns=('Apple', 'Lychee', 'Papaya'))"
   ]
  },
  {
   "cell_type": "code",
   "execution_count": 51,
   "id": "hundred-arrest",
   "metadata": {},
   "outputs": [
    {
     "data": {
      "text/html": [
       "<div>\n",
       "<style scoped>\n",
       "    .dataframe tbody tr th:only-of-type {\n",
       "        vertical-align: middle;\n",
       "    }\n",
       "\n",
       "    .dataframe tbody tr th {\n",
       "        vertical-align: top;\n",
       "    }\n",
       "\n",
       "    .dataframe thead th {\n",
       "        text-align: right;\n",
       "    }\n",
       "</style>\n",
       "<table border=\"1\" class=\"dataframe\">\n",
       "  <thead>\n",
       "    <tr style=\"text-align: right;\">\n",
       "      <th></th>\n",
       "      <th>Apple</th>\n",
       "      <th>Lychee</th>\n",
       "      <th>Papaya</th>\n",
       "    </tr>\n",
       "  </thead>\n",
       "  <tbody>\n",
       "    <tr>\n",
       "      <th>0</th>\n",
       "      <td>849</td>\n",
       "      <td>239</td>\n",
       "      <td>698</td>\n",
       "    </tr>\n",
       "  </tbody>\n",
       "</table>\n",
       "</div>"
      ],
      "text/plain": [
       "   Apple  Lychee  Papaya\n",
       "0    849     239     698"
      ]
     },
     "execution_count": 51,
     "metadata": {},
     "output_type": "execute_result"
    }
   ],
   "source": [
    "price_df"
   ]
  },
  {
   "cell_type": "code",
   "execution_count": 52,
   "id": "thorough-specialist",
   "metadata": {},
   "outputs": [
    {
     "data": {
      "text/plain": [
       "((4, 3), (1, 3))"
      ]
     },
     "execution_count": 52,
     "metadata": {},
     "output_type": "execute_result"
    }
   ],
   "source": [
    "sale_info.shape, prices.shape"
   ]
  },
  {
   "cell_type": "code",
   "execution_count": 53,
   "id": "experimental-influence",
   "metadata": {},
   "outputs": [],
   "source": [
    "total = np.dot(sale_info, prices.T)"
   ]
  },
  {
   "cell_type": "code",
   "execution_count": 54,
   "id": "tired-valentine",
   "metadata": {},
   "outputs": [
    {
     "data": {
      "text/html": [
       "<div>\n",
       "<style scoped>\n",
       "    .dataframe tbody tr th:only-of-type {\n",
       "        vertical-align: middle;\n",
       "    }\n",
       "\n",
       "    .dataframe tbody tr th {\n",
       "        vertical-align: top;\n",
       "    }\n",
       "\n",
       "    .dataframe thead th {\n",
       "        text-align: right;\n",
       "    }\n",
       "</style>\n",
       "<table border=\"1\" class=\"dataframe\">\n",
       "  <thead>\n",
       "    <tr style=\"text-align: right;\">\n",
       "      <th></th>\n",
       "      <th>0</th>\n",
       "    </tr>\n",
       "  </thead>\n",
       "  <tbody>\n",
       "    <tr>\n",
       "      <th>Mon</th>\n",
       "      <td>100150</td>\n",
       "    </tr>\n",
       "    <tr>\n",
       "      <th>Tues</th>\n",
       "      <td>149130</td>\n",
       "    </tr>\n",
       "    <tr>\n",
       "      <th>Wed</th>\n",
       "      <td>138459</td>\n",
       "    </tr>\n",
       "    <tr>\n",
       "      <th>Thur</th>\n",
       "      <td>95328</td>\n",
       "    </tr>\n",
       "  </tbody>\n",
       "</table>\n",
       "</div>"
      ],
      "text/plain": [
       "           0\n",
       "Mon   100150\n",
       "Tues  149130\n",
       "Wed   138459\n",
       "Thur   95328"
      ]
     },
     "execution_count": 54,
     "metadata": {},
     "output_type": "execute_result"
    }
   ],
   "source": [
    "tot_df = pd.DataFrame(total, index=('Mon', 'Tues', 'Wed', 'Thur'))\n",
    "tot_df"
   ]
  },
  {
   "cell_type": "code",
   "execution_count": 55,
   "id": "efficient-adventure",
   "metadata": {},
   "outputs": [
    {
     "data": {
      "text/html": [
       "<div>\n",
       "<style scoped>\n",
       "    .dataframe tbody tr th:only-of-type {\n",
       "        vertical-align: middle;\n",
       "    }\n",
       "\n",
       "    .dataframe tbody tr th {\n",
       "        vertical-align: top;\n",
       "    }\n",
       "\n",
       "    .dataframe thead th {\n",
       "        text-align: right;\n",
       "    }\n",
       "</style>\n",
       "<table border=\"1\" class=\"dataframe\">\n",
       "  <thead>\n",
       "    <tr style=\"text-align: right;\">\n",
       "      <th></th>\n",
       "      <th>Apple</th>\n",
       "      <th>Lychee</th>\n",
       "      <th>Papaya</th>\n",
       "      <th>Total Prices</th>\n",
       "    </tr>\n",
       "  </thead>\n",
       "  <tbody>\n",
       "    <tr>\n",
       "      <th>Mon</th>\n",
       "      <td>60</td>\n",
       "      <td>92</td>\n",
       "      <td>39</td>\n",
       "      <td>100150</td>\n",
       "    </tr>\n",
       "    <tr>\n",
       "      <th>Tues</th>\n",
       "      <td>92</td>\n",
       "      <td>46</td>\n",
       "      <td>86</td>\n",
       "      <td>149130</td>\n",
       "    </tr>\n",
       "    <tr>\n",
       "      <th>Wed</th>\n",
       "      <td>72</td>\n",
       "      <td>87</td>\n",
       "      <td>81</td>\n",
       "      <td>138459</td>\n",
       "    </tr>\n",
       "    <tr>\n",
       "      <th>Thur</th>\n",
       "      <td>34</td>\n",
       "      <td>24</td>\n",
       "      <td>87</td>\n",
       "      <td>95328</td>\n",
       "    </tr>\n",
       "  </tbody>\n",
       "</table>\n",
       "</div>"
      ],
      "text/plain": [
       "      Apple  Lychee  Papaya  Total Prices\n",
       "Mon      60      92      39        100150\n",
       "Tues     92      46      86        149130\n",
       "Wed      72      87      81        138459\n",
       "Thur     34      24      87         95328"
      ]
     },
     "execution_count": 55,
     "metadata": {},
     "output_type": "execute_result"
    }
   ],
   "source": [
    "fruit_df['Total Prices'] = total\n",
    "fruit_df"
   ]
  },
  {
   "cell_type": "code",
   "execution_count": 61,
   "id": "improving-model",
   "metadata": {},
   "outputs": [],
   "source": [
    "random_array = np.random.randint(9,size=(4,3))"
   ]
  },
  {
   "cell_type": "code",
   "execution_count": 62,
   "id": "protecting-tourism",
   "metadata": {},
   "outputs": [
    {
     "data": {
      "text/plain": [
       "array([[6, 5, 7],\n",
       "       [8, 8, 2],\n",
       "       [8, 6, 6],\n",
       "       [1, 6, 8]])"
      ]
     },
     "execution_count": 62,
     "metadata": {},
     "output_type": "execute_result"
    }
   ],
   "source": [
    "random_array"
   ]
  },
  {
   "cell_type": "code",
   "execution_count": 63,
   "id": "injured-carbon",
   "metadata": {
    "scrolled": true
   },
   "outputs": [
    {
     "data": {
      "text/plain": [
       "array([[5, 6, 7],\n",
       "       [2, 8, 8],\n",
       "       [6, 6, 8],\n",
       "       [1, 6, 8]])"
      ]
     },
     "execution_count": 63,
     "metadata": {},
     "output_type": "execute_result"
    }
   ],
   "source": [
    "np.sort(random_array)"
   ]
  },
  {
   "cell_type": "code",
   "execution_count": 64,
   "id": "colonial-stockholm",
   "metadata": {},
   "outputs": [
    {
     "data": {
      "text/plain": [
       "array([[1, 0, 2],\n",
       "       [2, 0, 1],\n",
       "       [1, 2, 0],\n",
       "       [0, 1, 2]], dtype=int64)"
      ]
     },
     "execution_count": 64,
     "metadata": {},
     "output_type": "execute_result"
    }
   ],
   "source": [
    "np.argsort(random_array)"
   ]
  },
  {
   "cell_type": "code",
   "execution_count": 65,
   "id": "wooden-auction",
   "metadata": {},
   "outputs": [
    {
     "data": {
      "text/plain": [
       "array([2, 0, 0, 2], dtype=int64)"
      ]
     },
     "execution_count": 65,
     "metadata": {},
     "output_type": "execute_result"
    }
   ],
   "source": [
    "np.argmax(random_array, axis=1)"
   ]
  },
  {
   "cell_type": "markdown",
   "id": "serious-richards",
   "metadata": {},
   "source": [
    "### Reading Images as numbers"
   ]
  },
  {
   "cell_type": "markdown",
   "id": "searching-certificate",
   "metadata": {},
   "source": [
    "<img src = '04-nature_721703848.jpg'>"
   ]
  },
  {
   "cell_type": "code",
   "execution_count": 66,
   "id": "hidden-madness",
   "metadata": {},
   "outputs": [],
   "source": [
    "from matplotlib.image import imread"
   ]
  },
  {
   "cell_type": "code",
   "execution_count": 67,
   "id": "expected-mercury",
   "metadata": {},
   "outputs": [],
   "source": [
    "nature = imread(\"04-nature_721703848.jpg\")"
   ]
  },
  {
   "cell_type": "code",
   "execution_count": 68,
   "id": "chemical-graham",
   "metadata": {},
   "outputs": [
    {
     "data": {
      "text/plain": [
       "dtype('uint8')"
      ]
     },
     "execution_count": 68,
     "metadata": {},
     "output_type": "execute_result"
    }
   ],
   "source": [
    "nature.dtype"
   ]
  },
  {
   "cell_type": "code",
   "execution_count": 69,
   "id": "cordless-ocean",
   "metadata": {},
   "outputs": [
    {
     "data": {
      "text/plain": [
       "numpy.ndarray"
      ]
     },
     "execution_count": 69,
     "metadata": {},
     "output_type": "execute_result"
    }
   ],
   "source": [
    "type(nature)"
   ]
  },
  {
   "cell_type": "code",
   "execution_count": 71,
   "id": "declared-teaching",
   "metadata": {},
   "outputs": [
    {
     "data": {
      "text/plain": [
       "(388800, (270, 480, 3), 3)"
      ]
     },
     "execution_count": 71,
     "metadata": {},
     "output_type": "execute_result"
    }
   ],
   "source": [
    "nature.size, nature.shape, nature.ndim"
   ]
  },
  {
   "cell_type": "code",
   "execution_count": 75,
   "id": "pregnant-outside",
   "metadata": {},
   "outputs": [
    {
     "data": {
      "text/plain": [
       "array([[[  0,  93],\n",
       "        [  3,  92],\n",
       "        [  8,  91],\n",
       "        ...,\n",
       "        [  9, 149],\n",
       "        [ 12, 134],\n",
       "        [ 17, 118]],\n",
       "\n",
       "       [[ 14,  88],\n",
       "        [ 11,  81],\n",
       "        [  6,  72],\n",
       "        ...,\n",
       "        [ 17, 136],\n",
       "        [ 14, 139],\n",
       "        [ 11, 141]],\n",
       "\n",
       "       [[ 10,  78],\n",
       "        [ 10,  74],\n",
       "        [  8,  70],\n",
       "        ...,\n",
       "        [ 17, 125],\n",
       "        [ 10, 135],\n",
       "        [  4, 144]],\n",
       "\n",
       "       ...,\n",
       "\n",
       "       [[  3,  38],\n",
       "        [  4,  39],\n",
       "        [  5,  40],\n",
       "        ...,\n",
       "        [  4,  37],\n",
       "        [  3,  50],\n",
       "        [  6,  69]],\n",
       "\n",
       "       [[  4,  37],\n",
       "        [  4,  39],\n",
       "        [  3,  40],\n",
       "        ...,\n",
       "        [  4,  35],\n",
       "        [  4,  47],\n",
       "        [  4,  67]],\n",
       "\n",
       "       [[  4,  37],\n",
       "        [  4,  39],\n",
       "        [  3,  40],\n",
       "        ...,\n",
       "        [  5,  32],\n",
       "        [  6,  44],\n",
       "        [  2,  65]]], dtype=uint8)"
      ]
     },
     "execution_count": 75,
     "metadata": {},
     "output_type": "execute_result"
    }
   ],
   "source": [
    "nature[:,:, :2]"
   ]
  },
  {
   "cell_type": "code",
   "execution_count": null,
   "id": "facial-language",
   "metadata": {},
   "outputs": [],
   "source": []
  },
  {
   "cell_type": "code",
   "execution_count": null,
   "id": "simple-pearl",
   "metadata": {},
   "outputs": [],
   "source": []
  }
 ],
 "metadata": {
  "kernelspec": {
   "display_name": "Python 3",
   "language": "python",
   "name": "python3"
  },
  "language_info": {
   "codemirror_mode": {
    "name": "ipython",
    "version": 3
   },
   "file_extension": ".py",
   "mimetype": "text/x-python",
   "name": "python",
   "nbconvert_exporter": "python",
   "pygments_lexer": "ipython3",
   "version": "3.7.10"
  }
 },
 "nbformat": 4,
 "nbformat_minor": 5
}
