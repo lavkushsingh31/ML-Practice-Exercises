{
 "cells": [
  {
   "cell_type": "markdown",
   "id": "a2a9fc28",
   "metadata": {},
   "source": [
    "Credits/Course URL: https://www.udemy.com/course/machinelearning/"
   ]
  },
  {
   "cell_type": "markdown",
   "id": "b7856533",
   "metadata": {},
   "source": [
    "## Polynomial Linear Regression"
   ]
  },
  {
   "cell_type": "code",
   "execution_count": 33,
   "id": "c08fe5a9",
   "metadata": {},
   "outputs": [],
   "source": [
    "import numpy as np\n",
    "import pandas as pd\n",
    "import matplotlib.pyplot as plt\n",
    "import seaborn as sns\n",
    "from sklearn.model_selection import train_test_split\n",
    "from sklearn.linear_model import LinearRegression\n",
    "from sklearn.preprocessing import PolynomialFeatures\n",
    "from sklearn.metrics import r2_score, mean_absolute_error, mean_squared_error"
   ]
  },
  {
   "cell_type": "markdown",
   "id": "e55bb91d",
   "metadata": {},
   "source": [
    "#### Importing the dataset"
   ]
  },
  {
   "cell_type": "code",
   "execution_count": 2,
   "id": "1107855e",
   "metadata": {},
   "outputs": [],
   "source": [
    "data = pd.read_csv(r'E:\\Github\\Datasets\\Position_Salaries.csv')"
   ]
  },
  {
   "cell_type": "code",
   "execution_count": 3,
   "id": "7752578d",
   "metadata": {},
   "outputs": [
    {
     "data": {
      "text/html": [
       "<div>\n",
       "<style scoped>\n",
       "    .dataframe tbody tr th:only-of-type {\n",
       "        vertical-align: middle;\n",
       "    }\n",
       "\n",
       "    .dataframe tbody tr th {\n",
       "        vertical-align: top;\n",
       "    }\n",
       "\n",
       "    .dataframe thead th {\n",
       "        text-align: right;\n",
       "    }\n",
       "</style>\n",
       "<table border=\"1\" class=\"dataframe\">\n",
       "  <thead>\n",
       "    <tr style=\"text-align: right;\">\n",
       "      <th></th>\n",
       "      <th>Position</th>\n",
       "      <th>Level</th>\n",
       "      <th>Salary</th>\n",
       "    </tr>\n",
       "  </thead>\n",
       "  <tbody>\n",
       "    <tr>\n",
       "      <th>0</th>\n",
       "      <td>Business Analyst</td>\n",
       "      <td>1</td>\n",
       "      <td>45000</td>\n",
       "    </tr>\n",
       "    <tr>\n",
       "      <th>1</th>\n",
       "      <td>Junior Consultant</td>\n",
       "      <td>2</td>\n",
       "      <td>50000</td>\n",
       "    </tr>\n",
       "    <tr>\n",
       "      <th>2</th>\n",
       "      <td>Senior Consultant</td>\n",
       "      <td>3</td>\n",
       "      <td>60000</td>\n",
       "    </tr>\n",
       "    <tr>\n",
       "      <th>3</th>\n",
       "      <td>Manager</td>\n",
       "      <td>4</td>\n",
       "      <td>80000</td>\n",
       "    </tr>\n",
       "    <tr>\n",
       "      <th>4</th>\n",
       "      <td>Country Manager</td>\n",
       "      <td>5</td>\n",
       "      <td>110000</td>\n",
       "    </tr>\n",
       "    <tr>\n",
       "      <th>5</th>\n",
       "      <td>Region Manager</td>\n",
       "      <td>6</td>\n",
       "      <td>150000</td>\n",
       "    </tr>\n",
       "    <tr>\n",
       "      <th>6</th>\n",
       "      <td>Partner</td>\n",
       "      <td>7</td>\n",
       "      <td>200000</td>\n",
       "    </tr>\n",
       "    <tr>\n",
       "      <th>7</th>\n",
       "      <td>Senior Partner</td>\n",
       "      <td>8</td>\n",
       "      <td>300000</td>\n",
       "    </tr>\n",
       "    <tr>\n",
       "      <th>8</th>\n",
       "      <td>C-level</td>\n",
       "      <td>9</td>\n",
       "      <td>500000</td>\n",
       "    </tr>\n",
       "    <tr>\n",
       "      <th>9</th>\n",
       "      <td>CEO</td>\n",
       "      <td>10</td>\n",
       "      <td>1000000</td>\n",
       "    </tr>\n",
       "  </tbody>\n",
       "</table>\n",
       "</div>"
      ],
      "text/plain": [
       "            Position  Level   Salary\n",
       "0   Business Analyst      1    45000\n",
       "1  Junior Consultant      2    50000\n",
       "2  Senior Consultant      3    60000\n",
       "3            Manager      4    80000\n",
       "4    Country Manager      5   110000\n",
       "5     Region Manager      6   150000\n",
       "6            Partner      7   200000\n",
       "7     Senior Partner      8   300000\n",
       "8            C-level      9   500000\n",
       "9                CEO     10  1000000"
      ]
     },
     "execution_count": 3,
     "metadata": {},
     "output_type": "execute_result"
    }
   ],
   "source": [
    "data"
   ]
  },
  {
   "cell_type": "code",
   "execution_count": 7,
   "id": "b56ea520",
   "metadata": {},
   "outputs": [
    {
     "data": {
      "text/html": [
       "<div>\n",
       "<style scoped>\n",
       "    .dataframe tbody tr th:only-of-type {\n",
       "        vertical-align: middle;\n",
       "    }\n",
       "\n",
       "    .dataframe tbody tr th {\n",
       "        vertical-align: top;\n",
       "    }\n",
       "\n",
       "    .dataframe thead th {\n",
       "        text-align: right;\n",
       "    }\n",
       "</style>\n",
       "<table border=\"1\" class=\"dataframe\">\n",
       "  <thead>\n",
       "    <tr style=\"text-align: right;\">\n",
       "      <th></th>\n",
       "      <th>Level</th>\n",
       "      <th>Salary</th>\n",
       "    </tr>\n",
       "  </thead>\n",
       "  <tbody>\n",
       "    <tr>\n",
       "      <th>count</th>\n",
       "      <td>10.00000</td>\n",
       "      <td>10.000000</td>\n",
       "    </tr>\n",
       "    <tr>\n",
       "      <th>mean</th>\n",
       "      <td>5.50000</td>\n",
       "      <td>249500.000000</td>\n",
       "    </tr>\n",
       "    <tr>\n",
       "      <th>std</th>\n",
       "      <td>3.02765</td>\n",
       "      <td>299373.883668</td>\n",
       "    </tr>\n",
       "    <tr>\n",
       "      <th>min</th>\n",
       "      <td>1.00000</td>\n",
       "      <td>45000.000000</td>\n",
       "    </tr>\n",
       "    <tr>\n",
       "      <th>25%</th>\n",
       "      <td>3.25000</td>\n",
       "      <td>65000.000000</td>\n",
       "    </tr>\n",
       "    <tr>\n",
       "      <th>50%</th>\n",
       "      <td>5.50000</td>\n",
       "      <td>130000.000000</td>\n",
       "    </tr>\n",
       "    <tr>\n",
       "      <th>75%</th>\n",
       "      <td>7.75000</td>\n",
       "      <td>275000.000000</td>\n",
       "    </tr>\n",
       "    <tr>\n",
       "      <th>max</th>\n",
       "      <td>10.00000</td>\n",
       "      <td>1000000.000000</td>\n",
       "    </tr>\n",
       "  </tbody>\n",
       "</table>\n",
       "</div>"
      ],
      "text/plain": [
       "          Level          Salary\n",
       "count  10.00000       10.000000\n",
       "mean    5.50000   249500.000000\n",
       "std     3.02765   299373.883668\n",
       "min     1.00000    45000.000000\n",
       "25%     3.25000    65000.000000\n",
       "50%     5.50000   130000.000000\n",
       "75%     7.75000   275000.000000\n",
       "max    10.00000  1000000.000000"
      ]
     },
     "execution_count": 7,
     "metadata": {},
     "output_type": "execute_result"
    }
   ],
   "source": [
    "data.describe()"
   ]
  },
  {
   "cell_type": "code",
   "execution_count": 8,
   "id": "54be3bce",
   "metadata": {},
   "outputs": [
    {
     "name": "stdout",
     "output_type": "stream",
     "text": [
      "<class 'pandas.core.frame.DataFrame'>\n",
      "RangeIndex: 10 entries, 0 to 9\n",
      "Data columns (total 3 columns):\n",
      " #   Column    Non-Null Count  Dtype \n",
      "---  ------    --------------  ----- \n",
      " 0   Position  10 non-null     object\n",
      " 1   Level     10 non-null     int64 \n",
      " 2   Salary    10 non-null     int64 \n",
      "dtypes: int64(2), object(1)\n",
      "memory usage: 368.0+ bytes\n"
     ]
    }
   ],
   "source": [
    "data.info()"
   ]
  },
  {
   "cell_type": "code",
   "execution_count": 4,
   "id": "501b5f80",
   "metadata": {},
   "outputs": [
    {
     "data": {
      "text/plain": [
       "<AxesSubplot: xlabel='Salary', ylabel='Count'>"
      ]
     },
     "execution_count": 4,
     "metadata": {},
     "output_type": "execute_result"
    },
    {
     "data": {
      "image/png": "[encoded data removed]",
      "text/plain": [
       "<Figure size 640x480 with 1 Axes>"
      ]
     },
     "metadata": {},
     "output_type": "display_data"
    }
   ],
   "source": [
    "sns.histplot(data = data, x = 'Salary', bins = 5)"
   ]
  },
  {
   "cell_type": "code",
   "execution_count": 5,
   "id": "f8fd6586",
   "metadata": {},
   "outputs": [
    {
     "data": {
      "text/plain": [
       "<AxesSubplot: xlabel='Level', ylabel='count'>"
      ]
     },
     "execution_count": 5,
     "metadata": {},
     "output_type": "execute_result"
    },
    {
     "data": {
      "image/png": "[encoded data removed]",
      "text/plain": [
       "<Figure size 640x480 with 1 Axes>"
      ]
     },
     "metadata": {},
     "output_type": "display_data"
    }
   ],
   "source": [
    "sns.countplot(data = data, x = 'Level')"
   ]
  },
  {
   "cell_type": "markdown",
   "id": "26d75a2c",
   "metadata": {},
   "source": [
    "#### Splitting of the dataset"
   ]
  },
  {
   "cell_type": "code",
   "execution_count": 17,
   "id": "517a18e2",
   "metadata": {},
   "outputs": [],
   "source": [
    "X = data['Level'].values.reshape(-1, 1)\n",
    "y = data['Salary'].values"
   ]
  },
  {
   "cell_type": "code",
   "execution_count": 26,
   "id": "71b57af8",
   "metadata": {},
   "outputs": [],
   "source": [
    "X_train, X_test, y_train, y_test = train_test_split(X, y, test_size=0.2, random_state=101)"
   ]
  },
  {
   "cell_type": "markdown",
   "id": "1f40cc68",
   "metadata": {},
   "source": [
    "#### Linear Regression Model"
   ]
  },
  {
   "cell_type": "code",
   "execution_count": 28,
   "id": "d26cfd33",
   "metadata": {},
   "outputs": [],
   "source": [
    "linear_model = LinearRegression()"
   ]
  },
  {
   "cell_type": "code",
   "execution_count": 29,
   "id": "a633a2f7",
   "metadata": {},
   "outputs": [
    {
     "data": {
      "text/plain": [
       "LinearRegression()"
      ]
     },
     "execution_count": 29,
     "metadata": {},
     "output_type": "execute_result"
    }
   ],
   "source": [
    "linear_model.fit(X_train, y_train)"
   ]
  },
  {
   "cell_type": "code",
   "execution_count": 30,
   "id": "a7629559",
   "metadata": {},
   "outputs": [],
   "source": [
    "y_pred_train = linear_model.predict(X_train)\n",
    "y_pred_test = linear_model.predict(X_test)"
   ]
  },
  {
   "cell_type": "code",
   "execution_count": 60,
   "id": "4074fea6",
   "metadata": {},
   "outputs": [],
   "source": [
    "mae_train = mean_absolute_error(y_train, y_pred_train)\n",
    "mse_train = mean_squared_error(y_train, y_pred_train)\n",
    "rmse_train = np.sqrt(mse_train)\n",
    "r_squared_train = r2_score(y_train, y_pred_train)\n",
    "\n",
    "\n",
    "mae_test = mean_absolute_error(y_test, y_pred_test)\n",
    "mse_test = mean_squared_error(y_test, y_pred_test)\n",
    "rmse_test = np.sqrt(mse_test)\n",
    "r_squared_test = r2_score(y_test, y_pred_test)"
   ]
  },
  {
   "cell_type": "code",
   "execution_count": 61,
   "id": "4d93a94a",
   "metadata": {},
   "outputs": [
    {
     "name": "stdout",
     "output_type": "stream",
     "text": [
      "Mean Absolute Error (Train): 157343.44\n",
      "Mean Absolute Error (Test): 29598.83\n",
      "\n",
      "Root Mean Squared Error (Train): 182120.48\n",
      "Root Mean Squared Error (Test): 32689.44\n",
      "\n",
      "R Squared (Train): 0.62\n",
      "R Squared (Test): 0.98\n"
     ]
    }
   ],
   "source": [
    "print(f'Mean Absolute Error (Train): {round(mae_train,2)}')\n",
    "print(f'Mean Absolute Error (Test): {round(mae_test,2)}\\n')\n",
    "\n",
    "print(f'Root Mean Squared Error (Train): {round(rmse_train,2)}')\n",
    "print(f'Root Mean Squared Error (Test): {round(rmse_test,2)}\\n')\n",
    "\n",
    "print(f'R Squared (Train): {round(r_squared_train,2)}')\n",
    "print(f'R Squared (Test): {round(r_squared_test,2)}')"
   ]
  },
  {
   "cell_type": "code",
   "execution_count": 44,
   "id": "fc0836ca",
   "metadata": {},
   "outputs": [],
   "source": [
    "def rmse(actual, predicted):\n",
    "    return np.sqrt(mean_squared_error(y_train, y_pred_train))"
   ]
  },
  {
   "cell_type": "code",
   "execution_count": 65,
   "id": "284d1633",
   "metadata": {},
   "outputs": [],
   "source": [
    "def get_prediction_metrics(y_actual_train, y_pred_train, y_actual_test, y_pred_test):\n",
    "    \n",
    "    train_metrics = dict()\n",
    "    test_metrics = dict()\n",
    "    \n",
    "    # Getting training metrics\n",
    "    for metric in [mean_absolute_error, mean_squared_error, rmse, r2_score]:\n",
    "        train_metrics[metric.__name__+'_(train)'] = round(metric(y_actual_train, y_pred_train),2)\n",
    "    \n",
    "    # Getting test metrics\n",
    "    for metric in [mean_absolute_error, mean_squared_error, rmse, r2_score]:\n",
    "        test_metrics[metric.__name__+'_(test)'] = round(metric(y_actual_test, y_pred_test),2)\n",
    "    \n",
    "    # Printing the values\n",
    "    for metric in [mean_absolute_error, mean_squared_error, rmse, r2_score]:\n",
    "        print(f\"\\n{metric.__name__+'_(train)'}: {train_metrics[metric.__name__+'_(train)']}\")\n",
    "        print(f\"{metric.__name__+'_(test)'}: {test_metrics[metric.__name__+'_(test)']}\")\n",
    "    \n",
    "    return train_metrics, test_metrics"
   ]
  },
  {
   "cell_type": "code",
   "execution_count": 59,
   "id": "ed24a90c",
   "metadata": {},
   "outputs": [
    {
     "name": "stdout",
     "output_type": "stream",
     "text": [
      "mean_absolute_error_(train): 157343.44\n",
      "mean_absolute_error_(test): 29598.83\n",
      "\n",
      "\n",
      "mean_squared_error_(train): 33167869373.78\n",
      "mean_squared_error_(test): 1068599327.51\n",
      "\n",
      "\n",
      "rmse_(train): 182120.48\n",
      "rmse_(test): 182120.48\n",
      "\n",
      "\n",
      "r2_score_(train): 0.62\n",
      "r2_score_(test): 0.98\n",
      "\n",
      "\n"
     ]
    }
   ],
   "source": [
    "pred_metrics = get_prediction_metrics(y_actual_train = y_train, \n",
    "                                      y_pred_train = y_pred_train, \n",
    "                                      y_actual_test = y_test, \n",
    "                                      y_pred_test = y_pred_test)"
   ]
  },
  {
   "cell_type": "code",
   "execution_count": 56,
   "id": "6768b1b0",
   "metadata": {},
   "outputs": [
    {
     "data": {
      "text/plain": [
       "({'mean_absolute_error_(train)': 157343.44,\n",
       "  'mean_squared_error_(train)': 33167869373.78,\n",
       "  'rmse_(train)': 182120.48,\n",
       "  'r2_score_(train)': 0.62},\n",
       " {'mean_absolute_error_(test)': 29598.83,\n",
       "  'mean_squared_error_(test)': 1068599327.51,\n",
       "  'rmse_(test)': 182120.48,\n",
       "  'r2_score_(test)': 0.98})"
      ]
     },
     "execution_count": 56,
     "metadata": {},
     "output_type": "execute_result"
    }
   ],
   "source": [
    "pred_metrics"
   ]
  },
  {
   "cell_type": "markdown",
   "id": "70a66ef7",
   "metadata": {},
   "source": [
    "#### Polynomial Linear Regression Model"
   ]
  },
  {
   "cell_type": "code",
   "execution_count": 34,
   "id": "de7f3f56",
   "metadata": {},
   "outputs": [],
   "source": [
    "poly_reg = PolynomialFeatures(degree=2)"
   ]
  },
  {
   "cell_type": "code",
   "execution_count": 35,
   "id": "63fd26cd",
   "metadata": {},
   "outputs": [],
   "source": [
    "X_train_poly = poly_reg.fit_transform(X_train)\n",
    "X_test_poly = poly_reg.transform(X_test)"
   ]
  },
  {
   "cell_type": "code",
   "execution_count": 36,
   "id": "f7e1db64",
   "metadata": {},
   "outputs": [
    {
     "data": {
      "text/plain": [
       "array([[  1.,   1.,   1.],\n",
       "       [  1.,   5.,  25.],\n",
       "       [  1.,  10., 100.],\n",
       "       [  1.,   4.,  16.],\n",
       "       [  1.,   6.,  36.],\n",
       "       [  1.,   8.,  64.],\n",
       "       [  1.,   7.,  49.],\n",
       "       [  1.,   2.,   4.]])"
      ]
     },
     "execution_count": 36,
     "metadata": {},
     "output_type": "execute_result"
    }
   ],
   "source": [
    "X_train_poly"
   ]
  },
  {
   "cell_type": "code",
   "execution_count": 37,
   "id": "77f4733e",
   "metadata": {},
   "outputs": [
    {
     "data": {
      "text/plain": [
       "array([[ 1.,  9., 81.],\n",
       "       [ 1.,  3.,  9.]])"
      ]
     },
     "execution_count": 37,
     "metadata": {},
     "output_type": "execute_result"
    }
   ],
   "source": [
    "X_test_poly"
   ]
  },
  {
   "cell_type": "code",
   "execution_count": 38,
   "id": "3a523527",
   "metadata": {},
   "outputs": [],
   "source": [
    "poly_linear_model = LinearRegression()"
   ]
  },
  {
   "cell_type": "code",
   "execution_count": 39,
   "id": "f6d62264",
   "metadata": {},
   "outputs": [
    {
     "data": {
      "text/plain": [
       "LinearRegression()"
      ]
     },
     "execution_count": 39,
     "metadata": {},
     "output_type": "execute_result"
    }
   ],
   "source": [
    "poly_linear_model.fit(X_train_poly, y_train)"
   ]
  },
  {
   "cell_type": "code",
   "execution_count": 40,
   "id": "06de233c",
   "metadata": {},
   "outputs": [],
   "source": [
    "y_pred_train_poly = poly_linear_model.predict(X_train_poly)\n",
    "y_pred_test_poly = poly_linear_model.predict(X_test_poly)"
   ]
  },
  {
   "cell_type": "code",
   "execution_count": 66,
   "id": "2472a673",
   "metadata": {},
   "outputs": [
    {
     "name": "stdout",
     "output_type": "stream",
     "text": [
      "\n",
      "mean_absolute_error_(train): 67130.84\n",
      "mean_absolute_error_(test): 111037.84\n",
      "\n",
      "mean_squared_error_(train): 5879726067.61\n",
      "mean_squared_error_(test): 14254734714.33\n",
      "\n",
      "rmse_(train): 182120.48\n",
      "rmse_(test): 182120.48\n",
      "\n",
      "r2_score_(train): 0.93\n",
      "r2_score_(test): 0.71\n"
     ]
    }
   ],
   "source": [
    "poly_reg_preds = get_prediction_metrics( y_actual_train = y_train,\n",
    "                        y_pred_train = y_pred_train_poly,\n",
    "                        y_actual_test = y_test,\n",
    "                        y_pred_test = y_pred_test_poly)"
   ]
  },
  {
   "cell_type": "code",
   "execution_count": 67,
   "id": "695ea6ba",
   "metadata": {},
   "outputs": [
    {
     "data": {
      "text/plain": [
       "({'mean_absolute_error_(train)': 67130.84,\n",
       "  'mean_squared_error_(train)': 5879726067.61,\n",
       "  'rmse_(train)': 182120.48,\n",
       "  'r2_score_(train)': 0.93},\n",
       " {'mean_absolute_error_(test)': 111037.84,\n",
       "  'mean_squared_error_(test)': 14254734714.33,\n",
       "  'rmse_(test)': 182120.48,\n",
       "  'r2_score_(test)': 0.71})"
      ]
     },
     "execution_count": 67,
     "metadata": {},
     "output_type": "execute_result"
    }
   ],
   "source": [
    "poly_reg_preds"
   ]
  },
  {
   "cell_type": "markdown",
   "id": "4bb3fe5c",
   "metadata": {},
   "source": [
    "#### Results visualization"
   ]
  },
  {
   "cell_type": "code",
   "execution_count": 72,
   "id": "d52680d9",
   "metadata": {},
   "outputs": [
    {
     "data": {
      "image/png": "[encoded data removed]",
      "text/plain": [
       "<Figure size 900x500 with 1 Axes>"
      ]
     },
     "metadata": {},
     "output_type": "display_data"
    }
   ],
   "source": [
    "plt.figure(figsize=(9,5))\n",
    "sns.scatterplot(x=X_train.ravel(),y=y_train, color = 'red')\n",
    "sns.lineplot(x = X_train.ravel(), y = y_pred_train)\n",
    "plt.title(\"True Salary vs Falsely Claimed Salary (Linear Regression)\")\n",
    "plt.xlabel(\"Level (Position)\")\n",
    "plt.ylabel(\"Salary\");"
   ]
  },
  {
   "cell_type": "code",
   "execution_count": 73,
   "id": "35225b05",
   "metadata": {},
   "outputs": [
    {
     "data": {
      "image/png": "[encoded data removed]",
      "text/plain": [
       "<Figure size 900x500 with 1 Axes>"
      ]
     },
     "metadata": {},
     "output_type": "display_data"
    }
   ],
   "source": [
    "plt.figure(figsize=(9,5))\n",
    "sns.scatterplot(x=X_train.ravel(),y=y_train, color = 'red')\n",
    "sns.lineplot(x = X_train.ravel(), y = y_pred_train_poly)\n",
    "plt.title(\"True Salary vs Falsely Claimed Salary (Polynomial Linear Regression)\")\n",
    "plt.xlabel(\"Level (Position)\")\n",
    "plt.ylabel(\"Salary\");"
   ]
  },
  {
   "cell_type": "markdown",
   "id": "b5ba94f3",
   "metadata": {},
   "source": [
    "#### Making predictions"
   ]
  },
  {
   "cell_type": "code",
   "execution_count": 74,
   "id": "ef63d64e",
   "metadata": {},
   "outputs": [
    {
     "name": "stdout",
     "output_type": "stream",
     "text": [
      "Enter the position level (as integer): 3\n"
     ]
    }
   ],
   "source": [
    "user_input = input('Enter the position level (as integer): ')"
   ]
  },
  {
   "cell_type": "code",
   "execution_count": null,
   "id": "d36cff1e",
   "metadata": {},
   "outputs": [],
   "source": []
  },
  {
   "cell_type": "code",
   "execution_count": 76,
   "id": "391cb4f9",
   "metadata": {},
   "outputs": [],
   "source": [
    "def get_predictions_linear_model(user_input):\n",
    "    try:\n",
    "        user_input = int(user_input)\n",
    "    except:\n",
    "        return \"Invalid input! Please try again with integer as input.\"\n",
    "    \n",
    "    user_input = np.array(user_input).reshape(-1,1)\n",
    "    \n",
    "    return linear_model.predict(user_input)"
   ]
  },
  {
   "cell_type": "code",
   "execution_count": 77,
   "id": "a654882b",
   "metadata": {},
   "outputs": [
    {
     "data": {
      "text/plain": [
       "array([44275.9295499])"
      ]
     },
     "execution_count": 77,
     "metadata": {},
     "output_type": "execute_result"
    }
   ],
   "source": [
    "get_predictions_linear_model(user_input)"
   ]
  },
  {
   "cell_type": "code",
   "execution_count": 79,
   "id": "76839358",
   "metadata": {},
   "outputs": [],
   "source": [
    "def get_predictions_polynomial_linear_model(user_input):\n",
    "    try:\n",
    "        user_input = int(user_input)\n",
    "    except:\n",
    "        return \"Invalid input! Please try again with integer as input.\"\n",
    "    \n",
    "    user_input = np.array(user_input).reshape(-1,1)\n",
    "    user_input = poly_reg.transform(user_input)\n",
    "    return poly_linear_model.predict(user_input)"
   ]
  },
  {
   "cell_type": "code",
   "execution_count": 80,
   "id": "5efd9b5b",
   "metadata": {},
   "outputs": [
    {
     "data": {
      "text/plain": [
       "array([-7159.23984273])"
      ]
     },
     "execution_count": 80,
     "metadata": {},
     "output_type": "execute_result"
    }
   ],
   "source": [
    "get_predictions_polynomial_linear_model(user_input)"
   ]
  }
 ],
 "metadata": {
  "kernelspec": {
   "display_name": "Python 3 (ipykernel)",
   "language": "python",
   "name": "python3"
  },
  "language_info": {
   "codemirror_mode": {
    "name": "ipython",
    "version": 3
   },
   "file_extension": ".py",
   "mimetype": "text/x-python",
   "name": "python",
   "nbconvert_exporter": "python",
   "pygments_lexer": "ipython3",
   "version": "3.9.15"
  }
 },
 "nbformat": 4,
 "nbformat_minor": 5
}
