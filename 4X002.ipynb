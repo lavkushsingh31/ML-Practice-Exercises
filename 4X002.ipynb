{
 "cells": [
  {
   "cell_type": "markdown",
   "id": "f8a4d3c6",
   "metadata": {},
   "source": [
    "Import Numpy library"
   ]
  },
  {
   "cell_type": "code",
   "execution_count": 22,
   "id": "d65c6ec3",
   "metadata": {},
   "outputs": [],
   "source": []
  },
  {
   "cell_type": "markdown",
   "id": "02f268c4",
   "metadata": {},
   "source": [
    "Create a numpy array of zeros of size 2*5"
   ]
  },
  {
   "cell_type": "code",
   "execution_count": 16,
   "id": "b7976105",
   "metadata": {},
   "outputs": [],
   "source": []
  },
  {
   "cell_type": "markdown",
   "id": "68a89e10",
   "metadata": {},
   "source": [
    "Create an identity numpy array of size 4\n"
   ]
  },
  {
   "cell_type": "code",
   "execution_count": 17,
   "id": "1501b360",
   "metadata": {},
   "outputs": [],
   "source": []
  },
  {
   "cell_type": "markdown",
   "id": "cb5cd6e8",
   "metadata": {},
   "source": [
    "import pandas library"
   ]
  },
  {
   "cell_type": "code",
   "execution_count": 18,
   "id": "6655021b",
   "metadata": {},
   "outputs": [],
   "source": []
  },
  {
   "cell_type": "markdown",
   "id": "41999228",
   "metadata": {},
   "source": [
    "creata a pandas dataframe using numpy array of random numbers of size 10*4"
   ]
  },
  {
   "cell_type": "code",
   "execution_count": 19,
   "id": "23025448",
   "metadata": {},
   "outputs": [],
   "source": []
  },
  {
   "cell_type": "markdown",
   "id": "b0b299bc",
   "metadata": {},
   "source": [
    "Find info of dataframe using df.info()"
   ]
  },
  {
   "cell_type": "code",
   "execution_count": 20,
   "id": "e34f9787",
   "metadata": {},
   "outputs": [],
   "source": []
  },
  {
   "cell_type": "markdown",
   "id": "0a31f816",
   "metadata": {},
   "source": [
    "Find out the top 5 values of dataframe"
   ]
  },
  {
   "cell_type": "code",
   "execution_count": 21,
   "id": "018916ab",
   "metadata": {},
   "outputs": [],
   "source": []
  },
  {
   "cell_type": "markdown",
   "id": "103ce0bd",
   "metadata": {},
   "source": [
    "Import seaborn library"
   ]
  },
  {
   "cell_type": "code",
   "execution_count": 23,
   "id": "f32b13b6",
   "metadata": {},
   "outputs": [],
   "source": []
  },
  {
   "cell_type": "markdown",
   "id": "69aa8b2e",
   "metadata": {},
   "source": [
    "Create a pairplot using pandas dataframe"
   ]
  },
  {
   "cell_type": "code",
   "execution_count": 25,
   "id": "f4999b9e",
   "metadata": {},
   "outputs": [],
   "source": []
  },
  {
   "cell_type": "code",
   "execution_count": null,
   "id": "52f14a74",
   "metadata": {},
   "outputs": [],
   "source": []
  }
 ],
 "metadata": {
  "kernelspec": {
   "display_name": "Python 3 (ipykernel)",
   "language": "python",
   "name": "python3"
  },
  "language_info": {
   "codemirror_mode": {
    "name": "ipython",
    "version": 3
   },
   "file_extension": ".py",
   "mimetype": "text/x-python",
   "name": "python",
   "nbconvert_exporter": "python",
   "pygments_lexer": "ipython3",
   "version": "3.11.0"
  }
 },
 "nbformat": 4,
 "nbformat_minor": 5
}
