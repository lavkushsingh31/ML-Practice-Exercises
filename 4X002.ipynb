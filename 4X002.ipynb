{
 "cells": [
  {
   "cell_type": "markdown",
   "id": "f8a4d3c6",
   "metadata": {},
   "source": [
    "Import Numpy library"
   ]
  },
  {
   "cell_type": "code",
   "execution_count": 1,
   "id": "d65c6ec3",
   "metadata": {},
   "outputs": [],
   "source": [
    "import numpy as np"
   ]
  },
  {
   "cell_type": "markdown",
   "id": "02f268c4",
   "metadata": {},
   "source": [
    "Create a numpy array of zeros of size 2*5"
   ]
  },
  {
   "cell_type": "code",
   "execution_count": 6,
   "id": "b7976105",
   "metadata": {},
   "outputs": [
    {
     "name": "stdout",
     "output_type": "stream",
     "text": [
      "[[0. 0. 0. 0. 0.]\n",
      " [0. 0. 0. 0. 0.]]\n"
     ]
    }
   ],
   "source": [
    "zeros_arr = np.zeros(shape = (2,5))\n",
    "print(zeros_arr)"
   ]
  },
  {
   "cell_type": "markdown",
   "id": "68a89e10",
   "metadata": {},
   "source": [
    "Create an identity numpy array of size 4\n"
   ]
  },
  {
   "cell_type": "code",
   "execution_count": 9,
   "id": "1501b360",
   "metadata": {},
   "outputs": [
    {
     "name": "stdout",
     "output_type": "stream",
     "text": [
      "[[1. 0. 0. 0.]\n",
      " [0. 1. 0. 0.]\n",
      " [0. 0. 1. 0.]\n",
      " [0. 0. 0. 1.]]\n"
     ]
    }
   ],
   "source": [
    "identity_arr = np.identity(4)\n",
    "print(identity_arr) "
   ]
  },
  {
   "cell_type": "markdown",
   "id": "cb5cd6e8",
   "metadata": {},
   "source": [
    "import pandas library"
   ]
  },
  {
   "cell_type": "code",
   "execution_count": 10,
   "id": "6655021b",
   "metadata": {},
   "outputs": [],
   "source": [
    "import pandas as pd"
   ]
  },
  {
   "cell_type": "markdown",
   "id": "41999228",
   "metadata": {},
   "source": [
    "creata a pandas dataframe using numpy array of random numbers of size 10*4"
   ]
  },
  {
   "cell_type": "code",
   "execution_count": 14,
   "id": "23025448",
   "metadata": {},
   "outputs": [
    {
     "name": "stdout",
     "output_type": "stream",
     "text": [
      "    0   1   2   3\n",
      "0  55  19  10  34\n",
      "1  92  95  15  11\n",
      "2  38  41   6  80\n",
      "3  88  44  21  28\n",
      "4  17  18  55  86\n",
      "5  33  30  71  99\n",
      "6  81  23  33  12\n",
      "7  46  38  49  76\n",
      "8  77  75  20  45\n",
      "9  46  41  92  35\n"
     ]
    }
   ],
   "source": [
    "random_int_arr = np.random.randint(low = 1, high = 101, size = (10,4))\n",
    "\n",
    "df = pd.DataFrame(random_int_arr)\n",
    "print(df)"
   ]
  },
  {
   "cell_type": "markdown",
   "id": "b0b299bc",
   "metadata": {},
   "source": [
    "Find info of dataframe using df.info()"
   ]
  },
  {
   "cell_type": "code",
   "execution_count": 15,
   "id": "e34f9787",
   "metadata": {},
   "outputs": [
    {
     "name": "stdout",
     "output_type": "stream",
     "text": [
      "<class 'pandas.core.frame.DataFrame'>\n",
      "RangeIndex: 10 entries, 0 to 9\n",
      "Data columns (total 4 columns):\n",
      " #   Column  Non-Null Count  Dtype\n",
      "---  ------  --------------  -----\n",
      " 0   0       10 non-null     int32\n",
      " 1   1       10 non-null     int32\n",
      " 2   2       10 non-null     int32\n",
      " 3   3       10 non-null     int32\n",
      "dtypes: int32(4)\n",
      "memory usage: 288.0 bytes\n"
     ]
    }
   ],
   "source": [
    "df.info()"
   ]
  },
  {
   "cell_type": "markdown",
   "id": "0a31f816",
   "metadata": {},
   "source": [
    "Find out the top 5 values of dataframe"
   ]
  },
  {
   "cell_type": "code",
   "execution_count": 16,
   "id": "018916ab",
   "metadata": {},
   "outputs": [
    {
     "data": {
      "text/html": [
       "<div>\n",
       "<style scoped>\n",
       "    .dataframe tbody tr th:only-of-type {\n",
       "        vertical-align: middle;\n",
       "    }\n",
       "\n",
       "    .dataframe tbody tr th {\n",
       "        vertical-align: top;\n",
       "    }\n",
       "\n",
       "    .dataframe thead th {\n",
       "        text-align: right;\n",
       "    }\n",
       "</style>\n",
       "<table border=\"1\" class=\"dataframe\">\n",
       "  <thead>\n",
       "    <tr style=\"text-align: right;\">\n",
       "      <th></th>\n",
       "      <th>0</th>\n",
       "      <th>1</th>\n",
       "      <th>2</th>\n",
       "      <th>3</th>\n",
       "    </tr>\n",
       "  </thead>\n",
       "  <tbody>\n",
       "    <tr>\n",
       "      <th>0</th>\n",
       "      <td>55</td>\n",
       "      <td>19</td>\n",
       "      <td>10</td>\n",
       "      <td>34</td>\n",
       "    </tr>\n",
       "    <tr>\n",
       "      <th>1</th>\n",
       "      <td>92</td>\n",
       "      <td>95</td>\n",
       "      <td>15</td>\n",
       "      <td>11</td>\n",
       "    </tr>\n",
       "    <tr>\n",
       "      <th>2</th>\n",
       "      <td>38</td>\n",
       "      <td>41</td>\n",
       "      <td>6</td>\n",
       "      <td>80</td>\n",
       "    </tr>\n",
       "    <tr>\n",
       "      <th>3</th>\n",
       "      <td>88</td>\n",
       "      <td>44</td>\n",
       "      <td>21</td>\n",
       "      <td>28</td>\n",
       "    </tr>\n",
       "    <tr>\n",
       "      <th>4</th>\n",
       "      <td>17</td>\n",
       "      <td>18</td>\n",
       "      <td>55</td>\n",
       "      <td>86</td>\n",
       "    </tr>\n",
       "  </tbody>\n",
       "</table>\n",
       "</div>"
      ],
      "text/plain": [
       "    0   1   2   3\n",
       "0  55  19  10  34\n",
       "1  92  95  15  11\n",
       "2  38  41   6  80\n",
       "3  88  44  21  28\n",
       "4  17  18  55  86"
      ]
     },
     "execution_count": 16,
     "metadata": {},
     "output_type": "execute_result"
    }
   ],
   "source": [
    "df.head()"
   ]
  },
  {
   "cell_type": "markdown",
   "id": "103ce0bd",
   "metadata": {},
   "source": [
    "Import seaborn library"
   ]
  },
  {
   "cell_type": "code",
   "execution_count": 17,
   "id": "f32b13b6",
   "metadata": {},
   "outputs": [],
   "source": [
    "import seaborn as sns"
   ]
  },
  {
   "cell_type": "markdown",
   "id": "69aa8b2e",
   "metadata": {},
   "source": [
    "Create a pairplot using pandas dataframe"
   ]
  },
  {
   "cell_type": "code",
   "execution_count": 18,
   "id": "f4999b9e",
   "metadata": {},
   "outputs": [
    {
     "data": {
      "text/plain": [
       "<seaborn.axisgrid.PairGrid at 0x20b91c4b790>"
      ]
     },
     "execution_count": 18,
     "metadata": {},
     "output_type": "execute_result"
    },
    {
     "data": {
      "image/png": "[encoded data removed]",
      "text/plain": [
       "<Figure size 1000x1000 with 20 Axes>"
      ]
     },
     "metadata": {},
     "output_type": "display_data"
    }
   ],
   "source": [
    "sns.pairplot(df)"
   ]
  },
  {
   "cell_type": "markdown",
   "id": "5289c284",
   "metadata": {},
   "source": [
    "Create a NumPy array of integers from 1 to 10 and calculate its mean."
   ]
  },
  {
   "cell_type": "code",
   "execution_count": 20,
   "id": "0293c005",
   "metadata": {},
   "outputs": [
    {
     "data": {
      "text/plain": [
       "5.0"
      ]
     },
     "execution_count": 20,
     "metadata": {},
     "output_type": "execute_result"
    }
   ],
   "source": [
    "arr = np.arange(11)\n",
    "arr.mean()"
   ]
  },
  {
   "cell_type": "markdown",
   "id": "487dfbcb",
   "metadata": {},
   "source": [
    "Generate a 5x5 random matrix using NumPy and find the maximum value in each row."
   ]
  },
  {
   "cell_type": "code",
   "execution_count": 21,
   "id": "95fd219c",
   "metadata": {},
   "outputs": [
    {
     "data": {
      "text/plain": [
       "array([[37, 83, 12, 52, 91],\n",
       "       [78, 44, 42, 66, 87],\n",
       "       [75, 61, 87, 19,  5],\n",
       "       [81, 57, 62, 64, 77],\n",
       "       [37, 99, 89, 82, 34]])"
      ]
     },
     "execution_count": 21,
     "metadata": {},
     "output_type": "execute_result"
    }
   ],
   "source": [
    "arr = np.random.randint(low = 1, high = 100, size = (5,5))\n",
    "arr"
   ]
  },
  {
   "cell_type": "code",
   "execution_count": 23,
   "id": "aef21b72",
   "metadata": {},
   "outputs": [
    {
     "data": {
      "text/plain": [
       "array([91, 87, 87, 81, 99])"
      ]
     },
     "execution_count": 23,
     "metadata": {},
     "output_type": "execute_result"
    }
   ],
   "source": [
    "arr.max(axis = 1)"
   ]
  },
  {
   "cell_type": "markdown",
   "id": "a597c957",
   "metadata": {},
   "source": [
    "Create a NumPy array of random numbers with shape (3, 4) and column names ['A', 'B', 'C', 'D']. Convert it into a Pandas DataFrame."
   ]
  },
  {
   "cell_type": "code",
   "execution_count": 30,
   "id": "644094ee",
   "metadata": {},
   "outputs": [
    {
     "data": {
      "text/html": [
       "<div>\n",
       "<style scoped>\n",
       "    .dataframe tbody tr th:only-of-type {\n",
       "        vertical-align: middle;\n",
       "    }\n",
       "\n",
       "    .dataframe tbody tr th {\n",
       "        vertical-align: top;\n",
       "    }\n",
       "\n",
       "    .dataframe thead th {\n",
       "        text-align: right;\n",
       "    }\n",
       "</style>\n",
       "<table border=\"1\" class=\"dataframe\">\n",
       "  <thead>\n",
       "    <tr style=\"text-align: right;\">\n",
       "      <th></th>\n",
       "      <th>A</th>\n",
       "      <th>B</th>\n",
       "      <th>C</th>\n",
       "      <th>D</th>\n",
       "    </tr>\n",
       "  </thead>\n",
       "  <tbody>\n",
       "    <tr>\n",
       "      <th>0</th>\n",
       "      <td>0.387680</td>\n",
       "      <td>0.435038</td>\n",
       "      <td>0.026849</td>\n",
       "      <td>0.051246</td>\n",
       "    </tr>\n",
       "    <tr>\n",
       "      <th>1</th>\n",
       "      <td>0.549808</td>\n",
       "      <td>0.247308</td>\n",
       "      <td>0.993780</td>\n",
       "      <td>0.564620</td>\n",
       "    </tr>\n",
       "    <tr>\n",
       "      <th>2</th>\n",
       "      <td>0.206728</td>\n",
       "      <td>0.265281</td>\n",
       "      <td>0.741991</td>\n",
       "      <td>0.460485</td>\n",
       "    </tr>\n",
       "  </tbody>\n",
       "</table>\n",
       "</div>"
      ],
      "text/plain": [
       "          A         B         C         D\n",
       "0  0.387680  0.435038  0.026849  0.051246\n",
       "1  0.549808  0.247308  0.993780  0.564620\n",
       "2  0.206728  0.265281  0.741991  0.460485"
      ]
     },
     "execution_count": 30,
     "metadata": {},
     "output_type": "execute_result"
    }
   ],
   "source": [
    "cols = ['A','B','C','D']\n",
    "arr = np.random.rand(3,4)\n",
    "\n",
    "df = pd.DataFrame(data = arr, columns = cols)\n",
    "df"
   ]
  },
  {
   "cell_type": "markdown",
   "id": "7bde0e27",
   "metadata": {},
   "source": [
    "Generate two arrays, x and y, of 100 random floating-point numbers between 0 and 1 using NumPy. And then create a scatterplot of x versus y using seaborn."
   ]
  },
  {
   "cell_type": "code",
   "execution_count": 34,
   "id": "44bc8744",
   "metadata": {},
   "outputs": [
    {
     "data": {
      "text/plain": [
       "<Axes: >"
      ]
     },
     "execution_count": 34,
     "metadata": {},
     "output_type": "execute_result"
    },
    {
     "data": {
      "image/png": "[encoded data removed]",
      "text/plain": [
       "<Figure size 640x480 with 1 Axes>"
      ]
     },
     "metadata": {},
     "output_type": "display_data"
    }
   ],
   "source": [
    "x = np.random.randn(100)\n",
    "y = np.random.randn(100)\n",
    "\n",
    "sns.scatterplot(x=x,y=y)"
   ]
  },
  {
   "cell_type": "code",
   "execution_count": null,
   "id": "f7b6526a",
   "metadata": {},
   "outputs": [],
   "source": []
  }
 ],
 "metadata": {
  "kernelspec": {
   "display_name": "Python 3 (ipykernel)",
   "language": "python",
   "name": "python3"
  },
  "language_info": {
   "codemirror_mode": {
    "name": "ipython",
    "version": 3
   },
   "file_extension": ".py",
   "mimetype": "text/x-python",
   "name": "python",
   "nbconvert_exporter": "python",
   "pygments_lexer": "ipython3",
   "version": "3.9.16"
  }
 },
 "nbformat": 4,
 "nbformat_minor": 5
}
