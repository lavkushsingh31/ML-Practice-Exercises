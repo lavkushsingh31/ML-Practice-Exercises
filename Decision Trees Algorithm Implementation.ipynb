{
 "cells": [
  {
   "cell_type": "markdown",
   "id": "78f91a08",
   "metadata": {},
   "source": [
    "# Decision Trees Algorithm Implementation"
   ]
  },
  {
   "cell_type": "code",
   "execution_count": 1,
   "id": "6bd15400",
   "metadata": {},
   "outputs": [],
   "source": [
    "import numpy as np\n",
    "import pandas as pd"
   ]
  },
  {
   "cell_type": "markdown",
   "id": "a8a52064",
   "metadata": {},
   "source": [
    "### function to calculate Entropy"
   ]
  },
  {
   "cell_type": "code",
   "execution_count": 2,
   "id": "35e611d4",
   "metadata": {},
   "outputs": [
    {
     "data": {
      "text/plain": [
       "array([1, 0, 1, 0, 0, 1, 0, 0, 0, 1])"
      ]
     },
     "execution_count": 2,
     "metadata": {},
     "output_type": "execute_result"
    }
   ],
   "source": [
    "y = np.random.randint(low = 0, high=2, size=10)\n",
    "y"
   ]
  },
  {
   "cell_type": "code",
   "execution_count": 3,
   "id": "434a731f",
   "metadata": {},
   "outputs": [],
   "source": [
    "def entropy(variable):\n",
    "    \n",
    "    variable = np.array(variable)\n",
    "    vals, vals_count = np.unique(variable, return_counts= True)\n",
    "    total = variable.shape[0]\n",
    "    result_entropy = 0\n",
    "    \n",
    "    for idx, val in enumerate(vals):\n",
    "        prob = vals_count[idx]/total\n",
    "        result_entropy = result_entropy + (prob * np.log2(prob))\n",
    "        \n",
    "    return -1 * result_entropy"
   ]
  },
  {
   "cell_type": "code",
   "execution_count": 4,
   "id": "377038d8",
   "metadata": {},
   "outputs": [
    {
     "data": {
      "text/plain": [
       "0.9709505944546686"
      ]
     },
     "execution_count": 4,
     "metadata": {},
     "output_type": "execute_result"
    }
   ],
   "source": [
    "entropy(y)"
   ]
  },
  {
   "cell_type": "code",
   "execution_count": 5,
   "id": "29b11e4f",
   "metadata": {},
   "outputs": [
    {
     "data": {
      "text/plain": [
       "-0.0"
      ]
     },
     "execution_count": 5,
     "metadata": {},
     "output_type": "execute_result"
    }
   ],
   "source": [
    "var = np.array([1,1,1,1,1,1])\n",
    "entropy(var)   # should be zero because there is no randomness/uncertainty"
   ]
  },
  {
   "cell_type": "code",
   "execution_count": 6,
   "id": "96d98fdd",
   "metadata": {},
   "outputs": [
    {
     "data": {
      "text/plain": [
       "1.0"
      ]
     },
     "execution_count": 6,
     "metadata": {},
     "output_type": "execute_result"
    }
   ],
   "source": [
    "var = np.array([1,1,1,0,0,0])\n",
    "entropy(var)   # should be one because there is maximum randomness/uncertainty (50% chances for all the unique values to occur)"
   ]
  },
  {
   "cell_type": "markdown",
   "id": "1cfe4ead",
   "metadata": {},
   "source": [
    "### calculating Information Gain"
   ]
  },
  {
   "cell_type": "code",
   "execution_count": 7,
   "id": "4041e81f",
   "metadata": {},
   "outputs": [
    {
     "data": {
      "text/html": [
       "<div>\n",
       "<style scoped>\n",
       "    .dataframe tbody tr th:only-of-type {\n",
       "        vertical-align: middle;\n",
       "    }\n",
       "\n",
       "    .dataframe tbody tr th {\n",
       "        vertical-align: top;\n",
       "    }\n",
       "\n",
       "    .dataframe thead th {\n",
       "        text-align: right;\n",
       "    }\n",
       "</style>\n",
       "<table border=\"1\" class=\"dataframe\">\n",
       "  <thead>\n",
       "    <tr style=\"text-align: right;\">\n",
       "      <th></th>\n",
       "      <th>Outlook</th>\n",
       "      <th>Temperature</th>\n",
       "      <th>Humidity</th>\n",
       "      <th>Windy</th>\n",
       "      <th>Play</th>\n",
       "    </tr>\n",
       "  </thead>\n",
       "  <tbody>\n",
       "    <tr>\n",
       "      <th>0</th>\n",
       "      <td>sunny</td>\n",
       "      <td>hot</td>\n",
       "      <td>high</td>\n",
       "      <td>False</td>\n",
       "      <td>no</td>\n",
       "    </tr>\n",
       "    <tr>\n",
       "      <th>1</th>\n",
       "      <td>sunny</td>\n",
       "      <td>hot</td>\n",
       "      <td>high</td>\n",
       "      <td>True</td>\n",
       "      <td>no</td>\n",
       "    </tr>\n",
       "    <tr>\n",
       "      <th>2</th>\n",
       "      <td>overcast</td>\n",
       "      <td>hot</td>\n",
       "      <td>high</td>\n",
       "      <td>False</td>\n",
       "      <td>yes</td>\n",
       "    </tr>\n",
       "    <tr>\n",
       "      <th>3</th>\n",
       "      <td>rainy</td>\n",
       "      <td>mild</td>\n",
       "      <td>high</td>\n",
       "      <td>False</td>\n",
       "      <td>yes</td>\n",
       "    </tr>\n",
       "    <tr>\n",
       "      <th>4</th>\n",
       "      <td>rainy</td>\n",
       "      <td>cool</td>\n",
       "      <td>normal</td>\n",
       "      <td>False</td>\n",
       "      <td>yes</td>\n",
       "    </tr>\n",
       "  </tbody>\n",
       "</table>\n",
       "</div>"
      ],
      "text/plain": [
       "    Outlook Temperature Humidity  Windy Play\n",
       "0     sunny         hot     high  False   no\n",
       "1     sunny         hot     high   True   no\n",
       "2  overcast         hot     high  False  yes\n",
       "3     rainy        mild     high  False  yes\n",
       "4     rainy        cool   normal  False  yes"
      ]
     },
     "execution_count": 7,
     "metadata": {},
     "output_type": "execute_result"
    }
   ],
   "source": [
    "data = pd.read_csv(\"Datasets/golf.csv\")\n",
    "data.head()"
   ]
  },
  {
   "cell_type": "code",
   "execution_count": 37,
   "id": "e946b921",
   "metadata": {},
   "outputs": [],
   "source": [
    "def information_gain(data, target, col=None):\n",
    "    # func\n",
    "    ig = {}\n",
    "\n",
    "    entropy_target = entropy(data[target])\n",
    "    features = data.columns[data.columns != target].tolist()\n",
    "\n",
    "    for feature in features:\n",
    "\n",
    "        unique_feature_values = data[feature].value_counts().index.tolist()\n",
    "        unique_feature_value_counts = data[feature].value_counts().values.tolist()\n",
    "        sum_unique_feature_value_counts = sum(unique_feature_value_counts)\n",
    "        sum_temp = 0\n",
    "\n",
    "        for idx, unique_feature in enumerate(unique_feature_values):\n",
    "\n",
    "            unique_feature_df = data[data[feature] == unique_feature]\n",
    "            unique_feature_entropy = entropy(unique_feature_df[target])\n",
    "\n",
    "            sum_temp = sum_temp + (unique_feature_value_counts[idx]/sum_unique_feature_value_counts)*unique_feature_entropy\n",
    "\n",
    "        ig[feature] = round(entropy_target - sum_temp,3)\n",
    "        \n",
    "    if col:\n",
    "        if col in features:\n",
    "            return ig[col]\n",
    "        else:\n",
    "            print(f\"The column you passed '{col}' is not present in the dataset! \\nTherefore, returning the dict of information gain for all columns.\\n\")\n",
    "    return ig"
   ]
  },
  {
   "cell_type": "code",
   "execution_count": 39,
   "id": "b2982688",
   "metadata": {},
   "outputs": [
    {
     "data": {
      "text/plain": [
       "{'Outlook': 0.247, 'Temperature': 0.029, 'Humidity': 0.152, 'Windy': 0.048}"
      ]
     },
     "execution_count": 39,
     "metadata": {},
     "output_type": "execute_result"
    }
   ],
   "source": [
    "information_gain(data, 'Play')"
   ]
  },
  {
   "cell_type": "code",
   "execution_count": 40,
   "id": "fc407067",
   "metadata": {},
   "outputs": [
    {
     "data": {
      "text/plain": [
       "0.247"
      ]
     },
     "execution_count": 40,
     "metadata": {},
     "output_type": "execute_result"
    }
   ],
   "source": [
    "information_gain(data, 'Play', 'Outlook')"
   ]
  },
  {
   "cell_type": "code",
   "execution_count": 38,
   "id": "42b8a7fc",
   "metadata": {},
   "outputs": [
    {
     "name": "stdout",
     "output_type": "stream",
     "text": [
      "The column you passed 'Wiindy' is not present in the dataset! \n",
      "Therefore, returning the dict of information gain for all columns.\n",
      "\n"
     ]
    },
    {
     "data": {
      "text/plain": [
       "{'Outlook': 0.247, 'Temperature': 0.029, 'Humidity': 0.152, 'Windy': 0.048}"
      ]
     },
     "execution_count": 38,
     "metadata": {},
     "output_type": "execute_result"
    }
   ],
   "source": [
    "information_gain(data, 'Play', 'Wiindy')"
   ]
  },
  {
   "cell_type": "code",
   "execution_count": null,
   "id": "82b02968",
   "metadata": {},
   "outputs": [],
   "source": []
  },
  {
   "cell_type": "code",
   "execution_count": null,
   "id": "32b6a687",
   "metadata": {},
   "outputs": [],
   "source": []
  },
  {
   "cell_type": "code",
   "execution_count": null,
   "id": "5359745d",
   "metadata": {},
   "outputs": [],
   "source": []
  },
  {
   "cell_type": "code",
   "execution_count": null,
   "id": "0a102763",
   "metadata": {},
   "outputs": [],
   "source": []
  },
  {
   "cell_type": "code",
   "execution_count": null,
   "id": "4fad9e27",
   "metadata": {},
   "outputs": [],
   "source": []
  },
  {
   "cell_type": "code",
   "execution_count": null,
   "id": "a434e552",
   "metadata": {},
   "outputs": [],
   "source": []
  }
 ],
 "metadata": {
  "kernelspec": {
   "display_name": "Python 3 (ipykernel)",
   "language": "python",
   "name": "python3"
  },
  "language_info": {
   "codemirror_mode": {
    "name": "ipython",
    "version": 3
   },
   "file_extension": ".py",
   "mimetype": "text/x-python",
   "name": "python",
   "nbconvert_exporter": "python",
   "pygments_lexer": "ipython3",
   "version": "3.9.16"
  }
 },
 "nbformat": 4,
 "nbformat_minor": 5
}
