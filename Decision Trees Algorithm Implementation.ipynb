{
 "cells": [
  {
   "cell_type": "markdown",
   "id": "78f91a08",
   "metadata": {},
   "source": [
    "# Decision Trees Algorithm Implementation"
   ]
  },
  {
   "cell_type": "code",
   "execution_count": 2,
   "id": "6bd15400",
   "metadata": {},
   "outputs": [],
   "source": [
    "import numpy as np\n",
    "import pandas as pd"
   ]
  },
  {
   "cell_type": "markdown",
   "id": "a8a52064",
   "metadata": {},
   "source": [
    "### Function to calculate 'Entropy'"
   ]
  },
  {
   "cell_type": "code",
   "execution_count": 3,
   "id": "35e611d4",
   "metadata": {},
   "outputs": [
    {
     "data": {
      "text/plain": [
       "array([0, 0, 0, 0, 1, 0, 1, 0, 1, 0])"
      ]
     },
     "execution_count": 3,
     "metadata": {},
     "output_type": "execute_result"
    }
   ],
   "source": [
    "y = np.random.randint(low = 0, high=2, size=10)\n",
    "y"
   ]
  },
  {
   "cell_type": "code",
   "execution_count": 4,
   "id": "434a731f",
   "metadata": {},
   "outputs": [],
   "source": [
    "def entropy(variable):\n",
    "    \n",
    "    variable = np.array(variable)\n",
    "    vals, vals_count = np.unique(variable, return_counts= True)\n",
    "    total = variable.shape[0]\n",
    "    result_entropy = 0\n",
    "    \n",
    "    for idx, val in enumerate(vals):\n",
    "        prob = vals_count[idx]/total\n",
    "        result_entropy = result_entropy + (prob * np.log2(prob))\n",
    "        \n",
    "    return -1 * result_entropy"
   ]
  },
  {
   "cell_type": "code",
   "execution_count": 5,
   "id": "377038d8",
   "metadata": {},
   "outputs": [
    {
     "data": {
      "text/plain": [
       "0.8812908992306927"
      ]
     },
     "execution_count": 5,
     "metadata": {},
     "output_type": "execute_result"
    }
   ],
   "source": [
    "entropy(y)"
   ]
  },
  {
   "cell_type": "code",
   "execution_count": 6,
   "id": "29b11e4f",
   "metadata": {},
   "outputs": [
    {
     "data": {
      "text/plain": [
       "-0.0"
      ]
     },
     "execution_count": 6,
     "metadata": {},
     "output_type": "execute_result"
    }
   ],
   "source": [
    "var = np.array([1,1,1,1,1,1])\n",
    "entropy(var)   # should be zero because there is no randomness/uncertainty"
   ]
  },
  {
   "cell_type": "code",
   "execution_count": 7,
   "id": "96d98fdd",
   "metadata": {},
   "outputs": [
    {
     "data": {
      "text/plain": [
       "1.0"
      ]
     },
     "execution_count": 7,
     "metadata": {},
     "output_type": "execute_result"
    }
   ],
   "source": [
    "var = np.array([1,1,1,0,0,0])\n",
    "entropy(var)   # should be one because there is maximum randomness/uncertainty (50% chances for all the unique values to occur)"
   ]
  },
  {
   "cell_type": "markdown",
   "id": "1cfe4ead",
   "metadata": {},
   "source": [
    "### Function to calculate 'Information Gain'"
   ]
  },
  {
   "cell_type": "code",
   "execution_count": 8,
   "id": "4041e81f",
   "metadata": {},
   "outputs": [
    {
     "data": {
      "text/html": [
       "<div>\n",
       "<style scoped>\n",
       "    .dataframe tbody tr th:only-of-type {\n",
       "        vertical-align: middle;\n",
       "    }\n",
       "\n",
       "    .dataframe tbody tr th {\n",
       "        vertical-align: top;\n",
       "    }\n",
       "\n",
       "    .dataframe thead th {\n",
       "        text-align: right;\n",
       "    }\n",
       "</style>\n",
       "<table border=\"1\" class=\"dataframe\">\n",
       "  <thead>\n",
       "    <tr style=\"text-align: right;\">\n",
       "      <th></th>\n",
       "      <th>Outlook</th>\n",
       "      <th>Temperature</th>\n",
       "      <th>Humidity</th>\n",
       "      <th>Windy</th>\n",
       "      <th>Play</th>\n",
       "    </tr>\n",
       "  </thead>\n",
       "  <tbody>\n",
       "    <tr>\n",
       "      <th>0</th>\n",
       "      <td>sunny</td>\n",
       "      <td>hot</td>\n",
       "      <td>high</td>\n",
       "      <td>False</td>\n",
       "      <td>no</td>\n",
       "    </tr>\n",
       "    <tr>\n",
       "      <th>1</th>\n",
       "      <td>sunny</td>\n",
       "      <td>hot</td>\n",
       "      <td>high</td>\n",
       "      <td>True</td>\n",
       "      <td>no</td>\n",
       "    </tr>\n",
       "    <tr>\n",
       "      <th>2</th>\n",
       "      <td>overcast</td>\n",
       "      <td>hot</td>\n",
       "      <td>high</td>\n",
       "      <td>False</td>\n",
       "      <td>yes</td>\n",
       "    </tr>\n",
       "    <tr>\n",
       "      <th>3</th>\n",
       "      <td>rainy</td>\n",
       "      <td>mild</td>\n",
       "      <td>high</td>\n",
       "      <td>False</td>\n",
       "      <td>yes</td>\n",
       "    </tr>\n",
       "    <tr>\n",
       "      <th>4</th>\n",
       "      <td>rainy</td>\n",
       "      <td>cool</td>\n",
       "      <td>normal</td>\n",
       "      <td>False</td>\n",
       "      <td>yes</td>\n",
       "    </tr>\n",
       "  </tbody>\n",
       "</table>\n",
       "</div>"
      ],
      "text/plain": [
       "    Outlook Temperature Humidity  Windy Play\n",
       "0     sunny         hot     high  False   no\n",
       "1     sunny         hot     high   True   no\n",
       "2  overcast         hot     high  False  yes\n",
       "3     rainy        mild     high  False  yes\n",
       "4     rainy        cool   normal  False  yes"
      ]
     },
     "execution_count": 8,
     "metadata": {},
     "output_type": "execute_result"
    }
   ],
   "source": [
    "data = pd.read_csv(\"Datasets/golf.csv\")\n",
    "data.head()"
   ]
  },
  {
   "cell_type": "code",
   "execution_count": 36,
   "id": "0adccb0c",
   "metadata": {},
   "outputs": [],
   "source": [
    "def feature_points_dataset(data, target_col, column_to_split):\n",
    "    \n",
    "    target = target_col.name\n",
    "   \n",
    "    if target not in data.columns:\n",
    "        data = pd.concat([data,target_col], axis = 1)\n",
    "    \n",
    "    features = data.columns[data.columns != target].tolist()\n",
    "    \n",
    "    df_list = {}\n",
    "    \n",
    "    if column_to_split in data.columns:\n",
    "        unique_feature_values = data[column_to_split].value_counts().index.tolist()\n",
    "        for unique_feature in unique_feature_values:\n",
    "            df_list[unique_feature] = data[data[column_to_split] == unique_feature]\n",
    "    else:\n",
    "        print(f\"Column '{column_to_split}' not found in the dataframe!\")\n",
    "        return\n",
    "    return df_list"
   ]
  },
  {
   "cell_type": "code",
   "execution_count": 39,
   "id": "555465fb",
   "metadata": {},
   "outputs": [
    {
     "data": {
      "text/plain": [
       "{'sunny':    Outlook Temperature Humidity  Windy Play\n",
       " 0    sunny         hot     high  False   no\n",
       " 1    sunny         hot     high   True   no\n",
       " 7    sunny        mild     high  False   no\n",
       " 8    sunny        cool   normal  False  yes\n",
       " 10   sunny        mild   normal   True  yes,\n",
       " 'rainy':    Outlook Temperature Humidity  Windy Play\n",
       " 3    rainy        mild     high  False  yes\n",
       " 4    rainy        cool   normal  False  yes\n",
       " 5    rainy        cool   normal   True   no\n",
       " 9    rainy        mild   normal  False  yes\n",
       " 13   rainy        mild     high   True   no,\n",
       " 'overcast':      Outlook Temperature Humidity  Windy Play\n",
       " 2   overcast         hot     high  False  yes\n",
       " 6   overcast        cool   normal   True  yes\n",
       " 11  overcast        mild     high   True  yes\n",
       " 12  overcast         hot   normal  False  yes}"
      ]
     },
     "execution_count": 39,
     "metadata": {},
     "output_type": "execute_result"
    }
   ],
   "source": [
    "feature_points_dataset(data, target_col=data['Play'], column_to_split = 'Outlook')"
   ]
  },
  {
   "cell_type": "code",
   "execution_count": 40,
   "id": "a0728b66",
   "metadata": {},
   "outputs": [
    {
     "name": "stdout",
     "output_type": "stream",
     "text": [
      "Column 'RandomCol' not found in the dataframe!\n"
     ]
    }
   ],
   "source": [
    "feature_points_dataset(data, target_col=data['Play'], column_to_split = 'RandomCol')"
   ]
  },
  {
   "cell_type": "code",
   "execution_count": 41,
   "id": "40a8935b",
   "metadata": {},
   "outputs": [],
   "source": [
    "def information_gain(data, target, col=None):\n",
    "    \n",
    "    ig = {}\n",
    "\n",
    "    entropy_target = entropy(data[target])\n",
    "    features = data.columns[data.columns != target].tolist()\n",
    "\n",
    "    for feature in features:\n",
    "\n",
    "        feature_points_df = feature_points_dataset(data, target_col=data[target], column_to_split = feature)\n",
    "        sum_unique_feature_value_counts = sum([df.shape[0] for df in feature_points_df.values()])\n",
    "        sum_temp = 0\n",
    "        \n",
    "        for unique_feature in feature_points_df.keys():\n",
    "            unique_feature_entropy = entropy(feature_points_df[unique_feature][target])\n",
    "            sum_temp = sum_temp + (feature_points_df[unique_feature].shape[0]/sum_unique_feature_value_counts)*unique_feature_entropy\n",
    "\n",
    "        ig[feature] = round(entropy_target - sum_temp,3)\n",
    "        \n",
    "    if col:\n",
    "        if col in features:\n",
    "            return ig[col]\n",
    "        else:\n",
    "            print(f\"The column you passed '{col}' is not present in the dataset!\")\n",
    "            return\n",
    "    return ig"
   ]
  },
  {
   "cell_type": "code",
   "execution_count": 42,
   "id": "1cd02d96",
   "metadata": {
    "scrolled": true
   },
   "outputs": [
    {
     "data": {
      "text/plain": [
       "{'Outlook': 0.247, 'Temperature': 0.029, 'Humidity': 0.152, 'Windy': 0.048}"
      ]
     },
     "execution_count": 42,
     "metadata": {},
     "output_type": "execute_result"
    }
   ],
   "source": [
    "information_gain(data, 'Play')"
   ]
  },
  {
   "cell_type": "code",
   "execution_count": 43,
   "id": "fec8bd1e",
   "metadata": {},
   "outputs": [
    {
     "data": {
      "text/plain": [
       "0.247"
      ]
     },
     "execution_count": 43,
     "metadata": {},
     "output_type": "execute_result"
    }
   ],
   "source": [
    "information_gain(data, 'Play', 'Outlook')"
   ]
  },
  {
   "cell_type": "code",
   "execution_count": 44,
   "id": "349ee39c",
   "metadata": {},
   "outputs": [
    {
     "name": "stdout",
     "output_type": "stream",
     "text": [
      "The column you passed 'Wiindy' is not present in the dataset!\n"
     ]
    }
   ],
   "source": [
    "information_gain(data, 'Play', 'Wiindy')"
   ]
  },
  {
   "cell_type": "markdown",
   "id": "11d859f7",
   "metadata": {},
   "source": [
    "### Decision Tree Code Implementation"
   ]
  },
  {
   "cell_type": "code",
   "execution_count": 13,
   "id": "32b6a687",
   "metadata": {},
   "outputs": [],
   "source": [
    "class DecisionTree():\n",
    "    \n",
    "    def __init__(self, depth = 0, max_depth = 9):\n",
    "        \n",
    "        self.children = {}\n",
    "        self.feature_key = None\n",
    "        self.max_depth = max_depth\n",
    "        self.depth = depth\n",
    "        self.target = None\n",
    "    \n",
    "    def train(self, X, y):\n",
    "        ig_dict = information_gain(X, y.name)\n",
    "        \n",
    "        # finding the best key\n",
    "        self.feature_key = max(ig_dict, key=ig_dict.get)\n",
    "        \n",
    "        # splitting the data by the best key\n",
    "        DATA = feature_points_df(data = X, target_col = y, column_to_split = self.feature_key)\n",
    "        \n",
    "        # assigning target label to the node\n",
    "        target_label = y.value_counts()[0].index\n",
    "    \n",
    "    "
   ]
  },
  {
   "cell_type": "code",
   "execution_count": null,
   "id": "fe41c02b",
   "metadata": {},
   "outputs": [],
   "source": []
  },
  {
   "cell_type": "code",
   "execution_count": 19,
   "id": "5359745d",
   "metadata": {},
   "outputs": [
    {
     "data": {
      "text/plain": [
       "'Outlook'"
      ]
     },
     "execution_count": 19,
     "metadata": {},
     "output_type": "execute_result"
    }
   ],
   "source": [
    "d = information_gain(data, 'Play')\n",
    "max(d, key=d.get)"
   ]
  },
  {
   "cell_type": "code",
   "execution_count": 45,
   "id": "0a102763",
   "metadata": {},
   "outputs": [
    {
     "data": {
      "text/plain": [
       "yes    9\n",
       "no     5\n",
       "Name: Play, dtype: int64"
      ]
     },
     "execution_count": 45,
     "metadata": {},
     "output_type": "execute_result"
    }
   ],
   "source": [
    "data.Play.value_counts()"
   ]
  },
  {
   "cell_type": "code",
   "execution_count": null,
   "id": "4fad9e27",
   "metadata": {},
   "outputs": [],
   "source": []
  },
  {
   "cell_type": "code",
   "execution_count": null,
   "id": "a434e552",
   "metadata": {},
   "outputs": [],
   "source": []
  },
  {
   "cell_type": "code",
   "execution_count": null,
   "id": "eebb2299",
   "metadata": {},
   "outputs": [],
   "source": []
  },
  {
   "cell_type": "code",
   "execution_count": null,
   "id": "c6f2b8e4",
   "metadata": {},
   "outputs": [],
   "source": []
  },
  {
   "cell_type": "code",
   "execution_count": null,
   "id": "3d20517f",
   "metadata": {},
   "outputs": [],
   "source": []
  },
  {
   "cell_type": "code",
   "execution_count": null,
   "id": "a41e885c",
   "metadata": {},
   "outputs": [],
   "source": []
  },
  {
   "cell_type": "code",
   "execution_count": null,
   "id": "bf1e8635",
   "metadata": {},
   "outputs": [],
   "source": []
  },
  {
   "cell_type": "code",
   "execution_count": null,
   "id": "c0ab540b",
   "metadata": {},
   "outputs": [],
   "source": []
  },
  {
   "cell_type": "code",
   "execution_count": null,
   "id": "1f60ab2a",
   "metadata": {},
   "outputs": [],
   "source": []
  },
  {
   "cell_type": "code",
   "execution_count": null,
   "id": "f13e542e",
   "metadata": {},
   "outputs": [],
   "source": []
  },
  {
   "cell_type": "code",
   "execution_count": null,
   "id": "0f5ec482",
   "metadata": {},
   "outputs": [],
   "source": []
  },
  {
   "cell_type": "code",
   "execution_count": null,
   "id": "296dcca0",
   "metadata": {},
   "outputs": [],
   "source": []
  },
  {
   "cell_type": "code",
   "execution_count": null,
   "id": "8e1b7550",
   "metadata": {},
   "outputs": [],
   "source": []
  },
  {
   "cell_type": "code",
   "execution_count": null,
   "id": "4bc5da0b",
   "metadata": {},
   "outputs": [],
   "source": []
  },
  {
   "cell_type": "code",
   "execution_count": null,
   "id": "9f3e5892",
   "metadata": {},
   "outputs": [],
   "source": []
  },
  {
   "cell_type": "code",
   "execution_count": null,
   "id": "2b8fcb54",
   "metadata": {},
   "outputs": [],
   "source": []
  },
  {
   "cell_type": "code",
   "execution_count": null,
   "id": "dbd4498b",
   "metadata": {},
   "outputs": [],
   "source": []
  }
 ],
 "metadata": {
  "kernelspec": {
   "display_name": "Python 3 (ipykernel)",
   "language": "python",
   "name": "python3"
  },
  "language_info": {
   "codemirror_mode": {
    "name": "ipython",
    "version": 3
   },
   "file_extension": ".py",
   "mimetype": "text/x-python",
   "name": "python",
   "nbconvert_exporter": "python",
   "pygments_lexer": "ipython3",
   "version": "3.9.16"
  }
 },
 "nbformat": 4,
 "nbformat_minor": 5
}
