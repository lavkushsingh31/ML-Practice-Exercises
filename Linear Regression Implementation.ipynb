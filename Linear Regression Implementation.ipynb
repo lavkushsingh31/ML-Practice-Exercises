{
 "cells": [
  {
   "cell_type": "markdown",
   "id": "bdf26356",
   "metadata": {},
   "source": [
    "# Linear Regression Implementation - Mulltiple Features Dataset"
   ]
  },
  {
   "cell_type": "code",
   "execution_count": 1,
   "id": "1bb488c0",
   "metadata": {},
   "outputs": [],
   "source": [
    "import numpy as np\n",
    "import pandas as pd\n",
    "from sklearn.datasets import make_regression\n",
    "import matplotlib.pyplot as plt"
   ]
  },
  {
   "cell_type": "code",
   "execution_count": 2,
   "id": "af05829f",
   "metadata": {},
   "outputs": [],
   "source": [
    "# Generating synthetic data"
   ]
  },
  {
   "cell_type": "code",
   "execution_count": 3,
   "id": "aeaf203c",
   "metadata": {},
   "outputs": [],
   "source": [
    "X, y = make_regression(n_samples=500,\n",
    "                       n_features=10,\n",
    "                       n_informative=5,\n",
    "                       noise=25.8,\n",
    "                       random_state=0)"
   ]
  },
  {
   "cell_type": "code",
   "execution_count": 25,
   "id": "705428e9",
   "metadata": {},
   "outputs": [
    {
     "name": "stdout",
     "output_type": "stream",
     "text": [
      "10\n"
     ]
    }
   ],
   "source": [
    "n_features = X.shape[1]\n",
    "print(n_features)"
   ]
  },
  {
   "cell_type": "code",
   "execution_count": 4,
   "id": "55962901",
   "metadata": {},
   "outputs": [
    {
     "name": "stdout",
     "output_type": "stream",
     "text": [
      "(500, 10) (500,)\n"
     ]
    }
   ],
   "source": [
    "print(X.shape, y.shape)"
   ]
  },
  {
   "cell_type": "code",
   "execution_count": 5,
   "id": "bfe04900",
   "metadata": {},
   "outputs": [],
   "source": [
    "X = pd.DataFrame(X)\n",
    "y = pd.DataFrame(y)"
   ]
  },
  {
   "cell_type": "code",
   "execution_count": 6,
   "id": "63e4cbf0",
   "metadata": {},
   "outputs": [
    {
     "data": {
      "text/html": [
       "<div>\n",
       "<style scoped>\n",
       "    .dataframe tbody tr th:only-of-type {\n",
       "        vertical-align: middle;\n",
       "    }\n",
       "\n",
       "    .dataframe tbody tr th {\n",
       "        vertical-align: top;\n",
       "    }\n",
       "\n",
       "    .dataframe thead th {\n",
       "        text-align: right;\n",
       "    }\n",
       "</style>\n",
       "<table border=\"1\" class=\"dataframe\">\n",
       "  <thead>\n",
       "    <tr style=\"text-align: right;\">\n",
       "      <th></th>\n",
       "      <th>0</th>\n",
       "      <th>1</th>\n",
       "      <th>2</th>\n",
       "      <th>3</th>\n",
       "      <th>4</th>\n",
       "      <th>5</th>\n",
       "      <th>6</th>\n",
       "      <th>7</th>\n",
       "      <th>8</th>\n",
       "      <th>9</th>\n",
       "    </tr>\n",
       "  </thead>\n",
       "  <tbody>\n",
       "    <tr>\n",
       "      <th>0</th>\n",
       "      <td>1.706468</td>\n",
       "      <td>1.511639</td>\n",
       "      <td>-0.000417</td>\n",
       "      <td>0.374155</td>\n",
       "      <td>0.073285</td>\n",
       "      <td>0.701783</td>\n",
       "      <td>0.409552</td>\n",
       "      <td>-0.461894</td>\n",
       "      <td>-0.626490</td>\n",
       "      <td>-0.799593</td>\n",
       "    </tr>\n",
       "    <tr>\n",
       "      <th>1</th>\n",
       "      <td>-1.616956</td>\n",
       "      <td>0.640132</td>\n",
       "      <td>-0.369182</td>\n",
       "      <td>-0.239379</td>\n",
       "      <td>-0.738031</td>\n",
       "      <td>-0.024326</td>\n",
       "      <td>1.099660</td>\n",
       "      <td>0.279925</td>\n",
       "      <td>-0.098150</td>\n",
       "      <td>0.655264</td>\n",
       "    </tr>\n",
       "    <tr>\n",
       "      <th>2</th>\n",
       "      <td>0.093953</td>\n",
       "      <td>-0.130107</td>\n",
       "      <td>0.929505</td>\n",
       "      <td>0.582225</td>\n",
       "      <td>-2.739677</td>\n",
       "      <td>0.943046</td>\n",
       "      <td>-2.094603</td>\n",
       "      <td>-0.569312</td>\n",
       "      <td>0.269904</td>\n",
       "      <td>0.123722</td>\n",
       "    </tr>\n",
       "    <tr>\n",
       "      <th>3</th>\n",
       "      <td>-1.542758</td>\n",
       "      <td>-0.789954</td>\n",
       "      <td>0.537035</td>\n",
       "      <td>-0.286835</td>\n",
       "      <td>-2.369623</td>\n",
       "      <td>-0.767332</td>\n",
       "      <td>1.634406</td>\n",
       "      <td>-0.260560</td>\n",
       "      <td>0.128957</td>\n",
       "      <td>0.571227</td>\n",
       "    </tr>\n",
       "    <tr>\n",
       "      <th>4</th>\n",
       "      <td>-0.101003</td>\n",
       "      <td>-2.231538</td>\n",
       "      <td>0.436187</td>\n",
       "      <td>1.571463</td>\n",
       "      <td>1.324868</td>\n",
       "      <td>-0.587375</td>\n",
       "      <td>1.077315</td>\n",
       "      <td>0.840648</td>\n",
       "      <td>0.261106</td>\n",
       "      <td>0.811090</td>\n",
       "    </tr>\n",
       "  </tbody>\n",
       "</table>\n",
       "</div>"
      ],
      "text/plain": [
       "          0         1         2         3         4         5         6  \\\n",
       "0  1.706468  1.511639 -0.000417  0.374155  0.073285  0.701783  0.409552   \n",
       "1 -1.616956  0.640132 -0.369182 -0.239379 -0.738031 -0.024326  1.099660   \n",
       "2  0.093953 -0.130107  0.929505  0.582225 -2.739677  0.943046 -2.094603   \n",
       "3 -1.542758 -0.789954  0.537035 -0.286835 -2.369623 -0.767332  1.634406   \n",
       "4 -0.101003 -2.231538  0.436187  1.571463  1.324868 -0.587375  1.077315   \n",
       "\n",
       "          7         8         9  \n",
       "0 -0.461894 -0.626490 -0.799593  \n",
       "1  0.279925 -0.098150  0.655264  \n",
       "2 -0.569312  0.269904  0.123722  \n",
       "3 -0.260560  0.128957  0.571227  \n",
       "4  0.840648  0.261106  0.811090  "
      ]
     },
     "execution_count": 6,
     "metadata": {},
     "output_type": "execute_result"
    }
   ],
   "source": [
    "X.head()"
   ]
  },
  {
   "cell_type": "code",
   "execution_count": 7,
   "id": "92ce750a",
   "metadata": {},
   "outputs": [
    {
     "data": {
      "text/html": [
       "<div>\n",
       "<style scoped>\n",
       "    .dataframe tbody tr th:only-of-type {\n",
       "        vertical-align: middle;\n",
       "    }\n",
       "\n",
       "    .dataframe tbody tr th {\n",
       "        vertical-align: top;\n",
       "    }\n",
       "\n",
       "    .dataframe thead th {\n",
       "        text-align: right;\n",
       "    }\n",
       "</style>\n",
       "<table border=\"1\" class=\"dataframe\">\n",
       "  <thead>\n",
       "    <tr style=\"text-align: right;\">\n",
       "      <th></th>\n",
       "      <th>0</th>\n",
       "    </tr>\n",
       "  </thead>\n",
       "  <tbody>\n",
       "    <tr>\n",
       "      <th>0</th>\n",
       "      <td>143.882506</td>\n",
       "    </tr>\n",
       "    <tr>\n",
       "      <th>1</th>\n",
       "      <td>61.998444</td>\n",
       "    </tr>\n",
       "    <tr>\n",
       "      <th>2</th>\n",
       "      <td>-24.021487</td>\n",
       "    </tr>\n",
       "    <tr>\n",
       "      <th>3</th>\n",
       "      <td>4.128657</td>\n",
       "    </tr>\n",
       "    <tr>\n",
       "      <th>4</th>\n",
       "      <td>63.147934</td>\n",
       "    </tr>\n",
       "  </tbody>\n",
       "</table>\n",
       "</div>"
      ],
      "text/plain": [
       "            0\n",
       "0  143.882506\n",
       "1   61.998444\n",
       "2  -24.021487\n",
       "3    4.128657\n",
       "4   63.147934"
      ]
     },
     "execution_count": 7,
     "metadata": {},
     "output_type": "execute_result"
    }
   ],
   "source": [
    "y.head()"
   ]
  },
  {
   "cell_type": "code",
   "execution_count": 8,
   "id": "9881d871",
   "metadata": {},
   "outputs": [
    {
     "data": {
      "text/plain": [
       "0    0.984889\n",
       "1    1.003099\n",
       "2    0.994039\n",
       "3    0.954577\n",
       "4    1.019624\n",
       "5    0.918999\n",
       "6    0.993774\n",
       "7    1.021318\n",
       "8    0.970692\n",
       "9    0.986354\n",
       "dtype: float64"
      ]
     },
     "execution_count": 8,
     "metadata": {},
     "output_type": "execute_result"
    }
   ],
   "source": [
    "X.std(axis = 0)"
   ]
  },
  {
   "cell_type": "code",
   "execution_count": 9,
   "id": "546ca587",
   "metadata": {},
   "outputs": [
    {
     "data": {
      "text/html": [
       "<div>\n",
       "<style scoped>\n",
       "    .dataframe tbody tr th:only-of-type {\n",
       "        vertical-align: middle;\n",
       "    }\n",
       "\n",
       "    .dataframe tbody tr th {\n",
       "        vertical-align: top;\n",
       "    }\n",
       "\n",
       "    .dataframe thead th {\n",
       "        text-align: right;\n",
       "    }\n",
       "</style>\n",
       "<table border=\"1\" class=\"dataframe\">\n",
       "  <thead>\n",
       "    <tr style=\"text-align: right;\">\n",
       "      <th></th>\n",
       "      <th>0</th>\n",
       "      <th>1</th>\n",
       "      <th>2</th>\n",
       "      <th>3</th>\n",
       "      <th>4</th>\n",
       "      <th>5</th>\n",
       "      <th>6</th>\n",
       "      <th>7</th>\n",
       "      <th>8</th>\n",
       "      <th>9</th>\n",
       "    </tr>\n",
       "  </thead>\n",
       "  <tbody>\n",
       "    <tr>\n",
       "      <th>0</th>\n",
       "      <td>1.736424</td>\n",
       "      <td>1.582916</td>\n",
       "      <td>0.093155</td>\n",
       "      <td>0.325706</td>\n",
       "      <td>0.105122</td>\n",
       "      <td>0.684157</td>\n",
       "      <td>0.418691</td>\n",
       "      <td>-0.470449</td>\n",
       "      <td>-0.689360</td>\n",
       "      <td>-0.750613</td>\n",
       "    </tr>\n",
       "    <tr>\n",
       "      <th>1</th>\n",
       "      <td>-1.587000</td>\n",
       "      <td>0.711408</td>\n",
       "      <td>-0.275609</td>\n",
       "      <td>-0.287828</td>\n",
       "      <td>-0.706195</td>\n",
       "      <td>-0.041952</td>\n",
       "      <td>1.108799</td>\n",
       "      <td>0.271370</td>\n",
       "      <td>-0.161020</td>\n",
       "      <td>0.704244</td>\n",
       "    </tr>\n",
       "    <tr>\n",
       "      <th>2</th>\n",
       "      <td>0.123909</td>\n",
       "      <td>-0.058831</td>\n",
       "      <td>1.023078</td>\n",
       "      <td>0.533775</td>\n",
       "      <td>-2.707841</td>\n",
       "      <td>0.925420</td>\n",
       "      <td>-2.085464</td>\n",
       "      <td>-0.577867</td>\n",
       "      <td>0.207035</td>\n",
       "      <td>0.172702</td>\n",
       "    </tr>\n",
       "    <tr>\n",
       "      <th>3</th>\n",
       "      <td>-1.512802</td>\n",
       "      <td>-0.718678</td>\n",
       "      <td>0.630607</td>\n",
       "      <td>-0.335284</td>\n",
       "      <td>-2.337787</td>\n",
       "      <td>-0.784958</td>\n",
       "      <td>1.643545</td>\n",
       "      <td>-0.269115</td>\n",
       "      <td>0.066087</td>\n",
       "      <td>0.620207</td>\n",
       "    </tr>\n",
       "    <tr>\n",
       "      <th>4</th>\n",
       "      <td>-0.071047</td>\n",
       "      <td>-2.160261</td>\n",
       "      <td>0.529760</td>\n",
       "      <td>1.523014</td>\n",
       "      <td>1.356705</td>\n",
       "      <td>-0.605001</td>\n",
       "      <td>1.086454</td>\n",
       "      <td>0.832093</td>\n",
       "      <td>0.198237</td>\n",
       "      <td>0.860070</td>\n",
       "    </tr>\n",
       "    <tr>\n",
       "      <th>...</th>\n",
       "      <td>...</td>\n",
       "      <td>...</td>\n",
       "      <td>...</td>\n",
       "      <td>...</td>\n",
       "      <td>...</td>\n",
       "      <td>...</td>\n",
       "      <td>...</td>\n",
       "      <td>...</td>\n",
       "      <td>...</td>\n",
       "      <td>...</td>\n",
       "    </tr>\n",
       "    <tr>\n",
       "      <th>495</th>\n",
       "      <td>-1.233217</td>\n",
       "      <td>-0.269416</td>\n",
       "      <td>-0.686732</td>\n",
       "      <td>0.222664</td>\n",
       "      <td>1.183570</td>\n",
       "      <td>-2.794985</td>\n",
       "      <td>1.054162</td>\n",
       "      <td>-0.597784</td>\n",
       "      <td>-0.511335</td>\n",
       "      <td>0.648020</td>\n",
       "    </tr>\n",
       "    <tr>\n",
       "      <th>496</th>\n",
       "      <td>-0.277176</td>\n",
       "      <td>-0.451302</td>\n",
       "      <td>0.115785</td>\n",
       "      <td>0.495004</td>\n",
       "      <td>0.522807</td>\n",
       "      <td>-0.466663</td>\n",
       "      <td>0.149128</td>\n",
       "      <td>0.856970</td>\n",
       "      <td>1.211175</td>\n",
       "      <td>-0.295066</td>\n",
       "    </tr>\n",
       "    <tr>\n",
       "      <th>497</th>\n",
       "      <td>-1.761372</td>\n",
       "      <td>-0.293779</td>\n",
       "      <td>-0.405444</td>\n",
       "      <td>-0.027098</td>\n",
       "      <td>-0.285707</td>\n",
       "      <td>-0.076212</td>\n",
       "      <td>-0.909974</td>\n",
       "      <td>-1.640978</td>\n",
       "      <td>-0.130004</td>\n",
       "      <td>0.241734</td>\n",
       "    </tr>\n",
       "    <tr>\n",
       "      <th>498</th>\n",
       "      <td>-0.330128</td>\n",
       "      <td>-1.055564</td>\n",
       "      <td>0.718020</td>\n",
       "      <td>0.006112</td>\n",
       "      <td>-0.638922</td>\n",
       "      <td>-0.367317</td>\n",
       "      <td>0.461539</td>\n",
       "      <td>-0.965135</td>\n",
       "      <td>0.535070</td>\n",
       "      <td>1.663776</td>\n",
       "    </tr>\n",
       "    <tr>\n",
       "      <th>499</th>\n",
       "      <td>-0.511722</td>\n",
       "      <td>0.204456</td>\n",
       "      <td>0.907511</td>\n",
       "      <td>-0.642781</td>\n",
       "      <td>-0.060692</td>\n",
       "      <td>-0.882928</td>\n",
       "      <td>-0.046300</td>\n",
       "      <td>1.173547</td>\n",
       "      <td>-1.633524</td>\n",
       "      <td>0.845541</td>\n",
       "    </tr>\n",
       "  </tbody>\n",
       "</table>\n",
       "<p>500 rows × 10 columns</p>\n",
       "</div>"
      ],
      "text/plain": [
       "            0         1         2         3         4         5         6  \\\n",
       "0    1.736424  1.582916  0.093155  0.325706  0.105122  0.684157  0.418691   \n",
       "1   -1.587000  0.711408 -0.275609 -0.287828 -0.706195 -0.041952  1.108799   \n",
       "2    0.123909 -0.058831  1.023078  0.533775 -2.707841  0.925420 -2.085464   \n",
       "3   -1.512802 -0.718678  0.630607 -0.335284 -2.337787 -0.784958  1.643545   \n",
       "4   -0.071047 -2.160261  0.529760  1.523014  1.356705 -0.605001  1.086454   \n",
       "..        ...       ...       ...       ...       ...       ...       ...   \n",
       "495 -1.233217 -0.269416 -0.686732  0.222664  1.183570 -2.794985  1.054162   \n",
       "496 -0.277176 -0.451302  0.115785  0.495004  0.522807 -0.466663  0.149128   \n",
       "497 -1.761372 -0.293779 -0.405444 -0.027098 -0.285707 -0.076212 -0.909974   \n",
       "498 -0.330128 -1.055564  0.718020  0.006112 -0.638922 -0.367317  0.461539   \n",
       "499 -0.511722  0.204456  0.907511 -0.642781 -0.060692 -0.882928 -0.046300   \n",
       "\n",
       "            7         8         9  \n",
       "0   -0.470449 -0.689360 -0.750613  \n",
       "1    0.271370 -0.161020  0.704244  \n",
       "2   -0.577867  0.207035  0.172702  \n",
       "3   -0.269115  0.066087  0.620207  \n",
       "4    0.832093  0.198237  0.860070  \n",
       "..        ...       ...       ...  \n",
       "495 -0.597784 -0.511335  0.648020  \n",
       "496  0.856970  1.211175 -0.295066  \n",
       "497 -1.640978 -0.130004  0.241734  \n",
       "498 -0.965135  0.535070  1.663776  \n",
       "499  1.173547 -1.633524  0.845541  \n",
       "\n",
       "[500 rows x 10 columns]"
      ]
     },
     "execution_count": 9,
     "metadata": {},
     "output_type": "execute_result"
    }
   ],
   "source": [
    "X - X.mean(axis = 0)"
   ]
  },
  {
   "cell_type": "code",
   "execution_count": 10,
   "id": "4af888f7",
   "metadata": {},
   "outputs": [],
   "source": [
    "def normalize(mat):\n",
    "    mean = mat.mean(axis = 0)\n",
    "    std = mat.std(axis = 0)\n",
    "    \n",
    "    return (mat - mean)/std"
   ]
  },
  {
   "cell_type": "code",
   "execution_count": 11,
   "id": "9697943f",
   "metadata": {},
   "outputs": [],
   "source": [
    "X_normalized = normalize(X)"
   ]
  },
  {
   "cell_type": "code",
   "execution_count": 12,
   "id": "f48e2a1c",
   "metadata": {},
   "outputs": [
    {
     "data": {
      "text/plain": [
       "0   -0.029956\n",
       "1   -0.071276\n",
       "2   -0.093573\n",
       "3    0.048449\n",
       "4   -0.031836\n",
       "5    0.017626\n",
       "6   -0.009139\n",
       "7    0.008555\n",
       "8    0.062870\n",
       "9   -0.048980\n",
       "dtype: float64"
      ]
     },
     "execution_count": 12,
     "metadata": {},
     "output_type": "execute_result"
    }
   ],
   "source": [
    "X.mean(axis = 0)"
   ]
  },
  {
   "cell_type": "code",
   "execution_count": 13,
   "id": "eaafc9e7",
   "metadata": {},
   "outputs": [
    {
     "data": {
      "text/plain": [
       "0    0.984889\n",
       "1    1.003099\n",
       "2    0.994039\n",
       "3    0.954577\n",
       "4    1.019624\n",
       "5    0.918999\n",
       "6    0.993774\n",
       "7    1.021318\n",
       "8    0.970692\n",
       "9    0.986354\n",
       "dtype: float64"
      ]
     },
     "execution_count": 13,
     "metadata": {},
     "output_type": "execute_result"
    }
   ],
   "source": [
    " X.std(axis = 0)"
   ]
  },
  {
   "cell_type": "code",
   "execution_count": 14,
   "id": "48e38ad8",
   "metadata": {},
   "outputs": [
    {
     "data": {
      "image/png": "[encoded data removed]",
      "text/plain": [
       "<Figure size 1000x1000 with 12 Axes>"
      ]
     },
     "metadata": {},
     "output_type": "display_data"
    }
   ],
   "source": [
    "fig, axes = plt.subplots(4,3, figsize=(10,10))\n",
    "\n",
    "col_counter = 0\n",
    "for row in range(4):\n",
    "    for col in range(3):\n",
    "        if col_counter<=9:\n",
    "            axes[row,col].scatter(X.iloc[:, col_counter], y)\n",
    "        else:\n",
    "            break\n",
    "        col_counter+= 1"
   ]
  },
  {
   "cell_type": "code",
   "execution_count": 15,
   "id": "8c975d4d",
   "metadata": {},
   "outputs": [],
   "source": [
    "# Train Test Split\n",
    "\n",
    "def train_test_split(X,y, train_percent = .7):\n",
    "    \n",
    "    X = np.array(X)\n",
    "    y = np.array(y)\n",
    "    \n",
    "    data = np.concatenate((X,y), axis = 1)\n",
    "    np.random.shuffle(data)\n",
    "    \n",
    "    split_rows = int(data.shape[0]*train_percent)\n",
    "    \n",
    "    X_train, y_train = data[:split_rows,:-1], data[:split_rows,-1]\n",
    "    X_test, y_test = data[split_rows:,:-1], data[split_rows:,-1]\n",
    "    \n",
    "    return X_train, y_train, X_test, y_test\n",
    "    "
   ]
  },
  {
   "cell_type": "code",
   "execution_count": 16,
   "id": "fbadf152",
   "metadata": {},
   "outputs": [
    {
     "data": {
      "text/plain": [
       "((500, 10), (500, 1))"
      ]
     },
     "execution_count": 16,
     "metadata": {},
     "output_type": "execute_result"
    }
   ],
   "source": [
    "X.shape, y.shape"
   ]
  },
  {
   "cell_type": "code",
   "execution_count": 17,
   "id": "9a189a16",
   "metadata": {},
   "outputs": [],
   "source": [
    "X_train, y_train, X_test, y_test = train_test_split(X,y, train_percent=0.6)"
   ]
  },
  {
   "cell_type": "code",
   "execution_count": 18,
   "id": "3f4455a6",
   "metadata": {},
   "outputs": [
    {
     "data": {
      "text/plain": [
       "((300, 10), (300,))"
      ]
     },
     "execution_count": 18,
     "metadata": {},
     "output_type": "execute_result"
    }
   ],
   "source": [
    "X_train.shape, y_train.shape"
   ]
  },
  {
   "cell_type": "code",
   "execution_count": 19,
   "id": "eb856dd3",
   "metadata": {},
   "outputs": [
    {
     "data": {
      "text/plain": [
       "((200, 10), (200,))"
      ]
     },
     "execution_count": 19,
     "metadata": {},
     "output_type": "execute_result"
    }
   ],
   "source": [
    "X_test.shape, y_test.shape"
   ]
  },
  {
   "cell_type": "code",
   "execution_count": 20,
   "id": "912322e0",
   "metadata": {},
   "outputs": [],
   "source": [
    "# Model Building - Linear Regression"
   ]
  },
  {
   "cell_type": "code",
   "execution_count": 26,
   "id": "2fbc0185",
   "metadata": {},
   "outputs": [],
   "source": [
    "def preprocess(X):\n",
    "    if X.shape[1] == n_features: \n",
    "        m = X.shape[0]\n",
    "        ones = np.ones((m,1))\n",
    "        X = np.hstack((ones,X))\n",
    "    return X"
   ]
  },
  {
   "cell_type": "code",
   "execution_count": 33,
   "id": "55ac2b0c",
   "metadata": {},
   "outputs": [],
   "source": [
    "X_train = preprocess(X_train)\n",
    "X_test = preprocess(X_test)"
   ]
  },
  {
   "cell_type": "code",
   "execution_count": 34,
   "id": "a38c8dbd",
   "metadata": {},
   "outputs": [
    {
     "data": {
      "text/plain": [
       "((300, 11), (200, 11))"
      ]
     },
     "execution_count": 34,
     "metadata": {},
     "output_type": "execute_result"
    }
   ],
   "source": [
    "X_train.shape, X_test.shape"
   ]
  },
  {
   "cell_type": "code",
   "execution_count": 21,
   "id": "2e1d26ef",
   "metadata": {},
   "outputs": [],
   "source": [
    "def hypothesis(X, theta):\n",
    "    return np.dot(X,theta)"
   ]
  },
  {
   "cell_type": "code",
   "execution_count": 22,
   "id": "d034ce50",
   "metadata": {},
   "outputs": [],
   "source": [
    "def loss(X,y,theta):\n",
    "    y_pred = hypothesis(X, theta)\n",
    "    mse = np.mean((y_pred - y)**2)\n",
    "    return mse"
   ]
  },
  {
   "cell_type": "code",
   "execution_count": 35,
   "id": "d7f57230",
   "metadata": {},
   "outputs": [],
   "source": [
    "def gradient(X,y,theta):\n",
    "    y_pred = hypothesis(X,theta)\n",
    "    grad = np.dot(X.T, (y_pred - y))\n",
    "    m = X.shape[0]\n",
    "    return grad/m"
   ]
  },
  {
   "cell_type": "code",
   "execution_count": 38,
   "id": "ca7d1f95",
   "metadata": {},
   "outputs": [],
   "source": [
    "def train(X,y,learning_rate = 0.1, max_iterations = 100):\n",
    "    n = X.shape[1]\n",
    "    theta = np.random.randn(n)\n",
    "    error_list = []\n",
    "    for i in range(max_iterations):\n",
    "        error = loss(X,y,theta)\n",
    "        error_list.append(error)\n",
    "        theta = theta - learning_rate*gradient(X,y,theta)\n",
    "    plt.plot(error_list)\n",
    "    return theta"
   ]
  },
  {
   "cell_type": "code",
   "execution_count": 39,
   "id": "d513d156",
   "metadata": {},
   "outputs": [
    {
     "name": "stdout",
     "output_type": "stream",
     "text": [
      "[ 6.99622313e-01 -1.13582361e+00  5.98587306e+01  9.75127833e+00\n",
      "  6.93412486e+01 -3.63205329e-04  4.54061020e-01  3.99920076e+01\n",
      " -7.38692164e-01  2.96750705e+00  2.29535784e+01]\n"
     ]
    },
    {
     "data": {
      "image/png": "[encoded data removed]",
      "text/plain": [
       "<Figure size 640x480 with 1 Axes>"
      ]
     },
     "metadata": {},
     "output_type": "display_data"
    }
   ],
   "source": [
    "theta = train(X_train, y_train)\n",
    "print(theta)"
   ]
  },
  {
   "cell_type": "code",
   "execution_count": 43,
   "id": "26c8675f",
   "metadata": {},
   "outputs": [],
   "source": [
    "def r2_score(y,y_pred):\n",
    "    y_mean = np.mean(y)\n",
    "    numerator = np.sum((y-y_pred)**2)\n",
    "    denominator = np.sum((y-y_mean)**2)\n",
    "    \n",
    "    return 1 - numerator/denominator\n",
    "    \n",
    "    "
   ]
  },
  {
   "cell_type": "code",
   "execution_count": 44,
   "id": "8406d7ff",
   "metadata": {},
   "outputs": [
    {
     "name": "stdout",
     "output_type": "stream",
     "text": [
      "0.9332736933655614\n"
     ]
    }
   ],
   "source": [
    "y_pred = hypothesis(X_test, theta)\n",
    "print(r2_score(y_test,y_pred))"
   ]
  },
  {
   "cell_type": "code",
   "execution_count": null,
   "id": "5a18c603",
   "metadata": {},
   "outputs": [],
   "source": [
    "## Linear Regression using sklearn"
   ]
  },
  {
   "cell_type": "code",
   "execution_count": 52,
   "id": "0e75e429",
   "metadata": {},
   "outputs": [],
   "source": [
    "from sklearn.linear_model import LinearRegression"
   ]
  },
  {
   "cell_type": "code",
   "execution_count": 46,
   "id": "f61e1130",
   "metadata": {},
   "outputs": [],
   "source": [
    "linear_regression = LinearRegression()"
   ]
  },
  {
   "cell_type": "code",
   "execution_count": 47,
   "id": "5277155e",
   "metadata": {},
   "outputs": [
    {
     "data": {
      "text/html": [
       "<style>#sk-container-id-1 {color: black;background-color: white;}#sk-container-id-1 pre{padding: 0;}#sk-container-id-1 div.sk-toggleable {background-color: white;}#sk-container-id-1 label.sk-toggleable__label {cursor: pointer;display: block;width: 100%;margin-bottom: 0;padding: 0.3em;box-sizing: border-box;text-align: center;}#sk-container-id-1 label.sk-toggleable__label-arrow:before {content: \"▸\";float: left;margin-right: 0.25em;color: #696969;}#sk-container-id-1 label.sk-toggleable__label-arrow:hover:before {color: black;}#sk-container-id-1 div.sk-estimator:hover label.sk-toggleable__label-arrow:before {color: black;}#sk-container-id-1 div.sk-toggleable__content {max-height: 0;max-width: 0;overflow: hidden;text-align: left;background-color: #f0f8ff;}#sk-container-id-1 div.sk-toggleable__content pre {margin: 0.2em;color: black;border-radius: 0.25em;background-color: #f0f8ff;}#sk-container-id-1 input.sk-toggleable__control:checked~div.sk-toggleable__content {max-height: 200px;max-width: 100%;overflow: auto;}#sk-container-id-1 input.sk-toggleable__control:checked~label.sk-toggleable__label-arrow:before {content: \"▾\";}#sk-container-id-1 div.sk-estimator input.sk-toggleable__control:checked~label.sk-toggleable__label {background-color: #d4ebff;}#sk-container-id-1 div.sk-label input.sk-toggleable__control:checked~label.sk-toggleable__label {background-color: #d4ebff;}#sk-container-id-1 input.sk-hidden--visually {border: 0;clip: rect(1px 1px 1px 1px);clip: rect(1px, 1px, 1px, 1px);height: 1px;margin: -1px;overflow: hidden;padding: 0;position: absolute;width: 1px;}#sk-container-id-1 div.sk-estimator {font-family: monospace;background-color: #f0f8ff;border: 1px dotted black;border-radius: 0.25em;box-sizing: border-box;margin-bottom: 0.5em;}#sk-container-id-1 div.sk-estimator:hover {background-color: #d4ebff;}#sk-container-id-1 div.sk-parallel-item::after {content: \"\";width: 100%;border-bottom: 1px solid gray;flex-grow: 1;}#sk-container-id-1 div.sk-label:hover label.sk-toggleable__label {background-color: #d4ebff;}#sk-container-id-1 div.sk-serial::before {content: \"\";position: absolute;border-left: 1px solid gray;box-sizing: border-box;top: 0;bottom: 0;left: 50%;z-index: 0;}#sk-container-id-1 div.sk-serial {display: flex;flex-direction: column;align-items: center;background-color: white;padding-right: 0.2em;padding-left: 0.2em;position: relative;}#sk-container-id-1 div.sk-item {position: relative;z-index: 1;}#sk-container-id-1 div.sk-parallel {display: flex;align-items: stretch;justify-content: center;background-color: white;position: relative;}#sk-container-id-1 div.sk-item::before, #sk-container-id-1 div.sk-parallel-item::before {content: \"\";position: absolute;border-left: 1px solid gray;box-sizing: border-box;top: 0;bottom: 0;left: 50%;z-index: -1;}#sk-container-id-1 div.sk-parallel-item {display: flex;flex-direction: column;z-index: 1;position: relative;background-color: white;}#sk-container-id-1 div.sk-parallel-item:first-child::after {align-self: flex-end;width: 50%;}#sk-container-id-1 div.sk-parallel-item:last-child::after {align-self: flex-start;width: 50%;}#sk-container-id-1 div.sk-parallel-item:only-child::after {width: 0;}#sk-container-id-1 div.sk-dashed-wrapped {border: 1px dashed gray;margin: 0 0.4em 0.5em 0.4em;box-sizing: border-box;padding-bottom: 0.4em;background-color: white;}#sk-container-id-1 div.sk-label label {font-family: monospace;font-weight: bold;display: inline-block;line-height: 1.2em;}#sk-container-id-1 div.sk-label-container {text-align: center;}#sk-container-id-1 div.sk-container {/* jupyter's `normalize.less` sets `[hidden] { display: none; }` but bootstrap.min.css set `[hidden] { display: none !important; }` so we also need the `!important` here to be able to override the default hidden behavior on the sphinx rendered scikit-learn.org. See: https://github.com/scikit-learn/scikit-learn/issues/21755 */display: inline-block !important;position: relative;}#sk-container-id-1 div.sk-text-repr-fallback {display: none;}</style><div id=\"sk-container-id-1\" class=\"sk-top-container\"><div class=\"sk-text-repr-fallback\"><pre>LinearRegression()</pre><b>In a Jupyter environment, please rerun this cell to show the HTML representation or trust the notebook. <br />On GitHub, the HTML representation is unable to render, please try loading this page with nbviewer.org.</b></div><div class=\"sk-container\" hidden><div class=\"sk-item\"><div class=\"sk-estimator sk-toggleable\"><input class=\"sk-toggleable__control sk-hidden--visually\" id=\"sk-estimator-id-1\" type=\"checkbox\" checked><label for=\"sk-estimator-id-1\" class=\"sk-toggleable__label sk-toggleable__label-arrow\">LinearRegression</label><div class=\"sk-toggleable__content\"><pre>LinearRegression()</pre></div></div></div></div></div>"
      ],
      "text/plain": [
       "LinearRegression()"
      ]
     },
     "execution_count": 47,
     "metadata": {},
     "output_type": "execute_result"
    }
   ],
   "source": [
    "linear_regression.fit(X_train, y_train)"
   ]
  },
  {
   "cell_type": "code",
   "execution_count": 48,
   "id": "698f9b49",
   "metadata": {},
   "outputs": [],
   "source": [
    "y_pred = linear_regression.predict(X_train)"
   ]
  },
  {
   "cell_type": "code",
   "execution_count": 51,
   "id": "3b166e44",
   "metadata": {},
   "outputs": [
    {
     "data": {
      "text/plain": [
       "0.9333239210039387"
      ]
     },
     "execution_count": 51,
     "metadata": {},
     "output_type": "execute_result"
    }
   ],
   "source": [
    "linear_regression.score(X_test, y_test)"
   ]
  },
  {
   "cell_type": "code",
   "execution_count": null,
   "id": "5ea9ec04",
   "metadata": {},
   "outputs": [],
   "source": []
  },
  {
   "cell_type": "code",
   "execution_count": null,
   "id": "f8466378",
   "metadata": {},
   "outputs": [],
   "source": []
  }
 ],
 "metadata": {
  "kernelspec": {
   "display_name": "Python 3 (ipykernel)",
   "language": "python",
   "name": "python3"
  },
  "language_info": {
   "codemirror_mode": {
    "name": "ipython",
    "version": 3
   },
   "file_extension": ".py",
   "mimetype": "text/x-python",
   "name": "python",
   "nbconvert_exporter": "python",
   "pygments_lexer": "ipython3",
   "version": "3.9.16"
  }
 },
 "nbformat": 4,
 "nbformat_minor": 5
}
