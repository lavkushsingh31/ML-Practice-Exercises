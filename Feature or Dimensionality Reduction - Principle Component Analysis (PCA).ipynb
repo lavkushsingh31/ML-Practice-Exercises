{
 "cells": [
  {
   "cell_type": "markdown",
   "id": "0809d6c0",
   "metadata": {},
   "source": [
    "# Feature or Dimensionality Reduction - Principle Component Analysis (PCA)"
   ]
  },
  {
   "cell_type": "code",
   "execution_count": 32,
   "id": "59a0caf1",
   "metadata": {},
   "outputs": [],
   "source": [
    "import numpy as np\n",
    "import pandas as pd\n",
    "from sklearn.decomposition import PCA"
   ]
  },
  {
   "cell_type": "code",
   "execution_count": 2,
   "id": "b16233f2",
   "metadata": {},
   "outputs": [],
   "source": [
    "data = pd.read_csv(\"Datasets/BostonHousing.csv\")"
   ]
  },
  {
   "cell_type": "code",
   "execution_count": 3,
   "id": "5c4d3841",
   "metadata": {},
   "outputs": [
    {
     "data": {
      "text/html": [
       "<div>\n",
       "<style scoped>\n",
       "    .dataframe tbody tr th:only-of-type {\n",
       "        vertical-align: middle;\n",
       "    }\n",
       "\n",
       "    .dataframe tbody tr th {\n",
       "        vertical-align: top;\n",
       "    }\n",
       "\n",
       "    .dataframe thead th {\n",
       "        text-align: right;\n",
       "    }\n",
       "</style>\n",
       "<table border=\"1\" class=\"dataframe\">\n",
       "  <thead>\n",
       "    <tr style=\"text-align: right;\">\n",
       "      <th></th>\n",
       "      <th>crim</th>\n",
       "      <th>zn</th>\n",
       "      <th>indus</th>\n",
       "      <th>chas</th>\n",
       "      <th>nox</th>\n",
       "      <th>rm</th>\n",
       "      <th>age</th>\n",
       "      <th>dis</th>\n",
       "      <th>rad</th>\n",
       "      <th>tax</th>\n",
       "      <th>ptratio</th>\n",
       "      <th>b</th>\n",
       "      <th>lstat</th>\n",
       "      <th>medv</th>\n",
       "    </tr>\n",
       "  </thead>\n",
       "  <tbody>\n",
       "    <tr>\n",
       "      <th>0</th>\n",
       "      <td>0.00632</td>\n",
       "      <td>18.0</td>\n",
       "      <td>2.31</td>\n",
       "      <td>0</td>\n",
       "      <td>0.538</td>\n",
       "      <td>6.575</td>\n",
       "      <td>65.2</td>\n",
       "      <td>4.0900</td>\n",
       "      <td>1</td>\n",
       "      <td>296</td>\n",
       "      <td>15.3</td>\n",
       "      <td>396.90</td>\n",
       "      <td>4.98</td>\n",
       "      <td>24.0</td>\n",
       "    </tr>\n",
       "    <tr>\n",
       "      <th>1</th>\n",
       "      <td>0.02731</td>\n",
       "      <td>0.0</td>\n",
       "      <td>7.07</td>\n",
       "      <td>0</td>\n",
       "      <td>0.469</td>\n",
       "      <td>6.421</td>\n",
       "      <td>78.9</td>\n",
       "      <td>4.9671</td>\n",
       "      <td>2</td>\n",
       "      <td>242</td>\n",
       "      <td>17.8</td>\n",
       "      <td>396.90</td>\n",
       "      <td>9.14</td>\n",
       "      <td>21.6</td>\n",
       "    </tr>\n",
       "    <tr>\n",
       "      <th>2</th>\n",
       "      <td>0.02729</td>\n",
       "      <td>0.0</td>\n",
       "      <td>7.07</td>\n",
       "      <td>0</td>\n",
       "      <td>0.469</td>\n",
       "      <td>7.185</td>\n",
       "      <td>61.1</td>\n",
       "      <td>4.9671</td>\n",
       "      <td>2</td>\n",
       "      <td>242</td>\n",
       "      <td>17.8</td>\n",
       "      <td>392.83</td>\n",
       "      <td>4.03</td>\n",
       "      <td>34.7</td>\n",
       "    </tr>\n",
       "    <tr>\n",
       "      <th>3</th>\n",
       "      <td>0.03237</td>\n",
       "      <td>0.0</td>\n",
       "      <td>2.18</td>\n",
       "      <td>0</td>\n",
       "      <td>0.458</td>\n",
       "      <td>6.998</td>\n",
       "      <td>45.8</td>\n",
       "      <td>6.0622</td>\n",
       "      <td>3</td>\n",
       "      <td>222</td>\n",
       "      <td>18.7</td>\n",
       "      <td>394.63</td>\n",
       "      <td>2.94</td>\n",
       "      <td>33.4</td>\n",
       "    </tr>\n",
       "    <tr>\n",
       "      <th>4</th>\n",
       "      <td>0.06905</td>\n",
       "      <td>0.0</td>\n",
       "      <td>2.18</td>\n",
       "      <td>0</td>\n",
       "      <td>0.458</td>\n",
       "      <td>7.147</td>\n",
       "      <td>54.2</td>\n",
       "      <td>6.0622</td>\n",
       "      <td>3</td>\n",
       "      <td>222</td>\n",
       "      <td>18.7</td>\n",
       "      <td>396.90</td>\n",
       "      <td>5.33</td>\n",
       "      <td>36.2</td>\n",
       "    </tr>\n",
       "  </tbody>\n",
       "</table>\n",
       "</div>"
      ],
      "text/plain": [
       "      crim    zn  indus  chas    nox     rm   age     dis  rad  tax  ptratio  \\\n",
       "0  0.00632  18.0   2.31     0  0.538  6.575  65.2  4.0900    1  296     15.3   \n",
       "1  0.02731   0.0   7.07     0  0.469  6.421  78.9  4.9671    2  242     17.8   \n",
       "2  0.02729   0.0   7.07     0  0.469  7.185  61.1  4.9671    2  242     17.8   \n",
       "3  0.03237   0.0   2.18     0  0.458  6.998  45.8  6.0622    3  222     18.7   \n",
       "4  0.06905   0.0   2.18     0  0.458  7.147  54.2  6.0622    3  222     18.7   \n",
       "\n",
       "        b  lstat  medv  \n",
       "0  396.90   4.98  24.0  \n",
       "1  396.90   9.14  21.6  \n",
       "2  392.83   4.03  34.7  \n",
       "3  394.63   2.94  33.4  \n",
       "4  396.90   5.33  36.2  "
      ]
     },
     "execution_count": 3,
     "metadata": {},
     "output_type": "execute_result"
    }
   ],
   "source": [
    "data.head()"
   ]
  },
  {
   "cell_type": "code",
   "execution_count": 4,
   "id": "01f23515",
   "metadata": {},
   "outputs": [
    {
     "name": "stdout",
     "output_type": "stream",
     "text": [
      "<class 'pandas.core.frame.DataFrame'>\n",
      "RangeIndex: 506 entries, 0 to 505\n",
      "Data columns (total 14 columns):\n",
      " #   Column   Non-Null Count  Dtype  \n",
      "---  ------   --------------  -----  \n",
      " 0   crim     506 non-null    float64\n",
      " 1   zn       506 non-null    float64\n",
      " 2   indus    506 non-null    float64\n",
      " 3   chas     506 non-null    int64  \n",
      " 4   nox      506 non-null    float64\n",
      " 5   rm       506 non-null    float64\n",
      " 6   age      506 non-null    float64\n",
      " 7   dis      506 non-null    float64\n",
      " 8   rad      506 non-null    int64  \n",
      " 9   tax      506 non-null    int64  \n",
      " 10  ptratio  506 non-null    float64\n",
      " 11  b        506 non-null    float64\n",
      " 12  lstat    506 non-null    float64\n",
      " 13  medv     506 non-null    float64\n",
      "dtypes: float64(11), int64(3)\n",
      "memory usage: 55.5 KB\n"
     ]
    }
   ],
   "source": [
    "data.info()"
   ]
  },
  {
   "cell_type": "code",
   "execution_count": 5,
   "id": "5061774c",
   "metadata": {},
   "outputs": [],
   "source": [
    "X = data.iloc[:, :-1]\n",
    "y = data.iloc[:, -1]"
   ]
  },
  {
   "cell_type": "code",
   "execution_count": 6,
   "id": "241f4aac",
   "metadata": {},
   "outputs": [
    {
     "data": {
      "text/html": [
       "<div>\n",
       "<style scoped>\n",
       "    .dataframe tbody tr th:only-of-type {\n",
       "        vertical-align: middle;\n",
       "    }\n",
       "\n",
       "    .dataframe tbody tr th {\n",
       "        vertical-align: top;\n",
       "    }\n",
       "\n",
       "    .dataframe thead th {\n",
       "        text-align: right;\n",
       "    }\n",
       "</style>\n",
       "<table border=\"1\" class=\"dataframe\">\n",
       "  <thead>\n",
       "    <tr style=\"text-align: right;\">\n",
       "      <th></th>\n",
       "      <th>crim</th>\n",
       "      <th>zn</th>\n",
       "      <th>indus</th>\n",
       "      <th>chas</th>\n",
       "      <th>nox</th>\n",
       "      <th>rm</th>\n",
       "      <th>age</th>\n",
       "      <th>dis</th>\n",
       "      <th>rad</th>\n",
       "      <th>tax</th>\n",
       "      <th>ptratio</th>\n",
       "      <th>b</th>\n",
       "      <th>lstat</th>\n",
       "    </tr>\n",
       "  </thead>\n",
       "  <tbody>\n",
       "    <tr>\n",
       "      <th>0</th>\n",
       "      <td>0.00632</td>\n",
       "      <td>18.0</td>\n",
       "      <td>2.31</td>\n",
       "      <td>0</td>\n",
       "      <td>0.538</td>\n",
       "      <td>6.575</td>\n",
       "      <td>65.2</td>\n",
       "      <td>4.0900</td>\n",
       "      <td>1</td>\n",
       "      <td>296</td>\n",
       "      <td>15.3</td>\n",
       "      <td>396.90</td>\n",
       "      <td>4.98</td>\n",
       "    </tr>\n",
       "    <tr>\n",
       "      <th>1</th>\n",
       "      <td>0.02731</td>\n",
       "      <td>0.0</td>\n",
       "      <td>7.07</td>\n",
       "      <td>0</td>\n",
       "      <td>0.469</td>\n",
       "      <td>6.421</td>\n",
       "      <td>78.9</td>\n",
       "      <td>4.9671</td>\n",
       "      <td>2</td>\n",
       "      <td>242</td>\n",
       "      <td>17.8</td>\n",
       "      <td>396.90</td>\n",
       "      <td>9.14</td>\n",
       "    </tr>\n",
       "    <tr>\n",
       "      <th>2</th>\n",
       "      <td>0.02729</td>\n",
       "      <td>0.0</td>\n",
       "      <td>7.07</td>\n",
       "      <td>0</td>\n",
       "      <td>0.469</td>\n",
       "      <td>7.185</td>\n",
       "      <td>61.1</td>\n",
       "      <td>4.9671</td>\n",
       "      <td>2</td>\n",
       "      <td>242</td>\n",
       "      <td>17.8</td>\n",
       "      <td>392.83</td>\n",
       "      <td>4.03</td>\n",
       "    </tr>\n",
       "    <tr>\n",
       "      <th>3</th>\n",
       "      <td>0.03237</td>\n",
       "      <td>0.0</td>\n",
       "      <td>2.18</td>\n",
       "      <td>0</td>\n",
       "      <td>0.458</td>\n",
       "      <td>6.998</td>\n",
       "      <td>45.8</td>\n",
       "      <td>6.0622</td>\n",
       "      <td>3</td>\n",
       "      <td>222</td>\n",
       "      <td>18.7</td>\n",
       "      <td>394.63</td>\n",
       "      <td>2.94</td>\n",
       "    </tr>\n",
       "    <tr>\n",
       "      <th>4</th>\n",
       "      <td>0.06905</td>\n",
       "      <td>0.0</td>\n",
       "      <td>2.18</td>\n",
       "      <td>0</td>\n",
       "      <td>0.458</td>\n",
       "      <td>7.147</td>\n",
       "      <td>54.2</td>\n",
       "      <td>6.0622</td>\n",
       "      <td>3</td>\n",
       "      <td>222</td>\n",
       "      <td>18.7</td>\n",
       "      <td>396.90</td>\n",
       "      <td>5.33</td>\n",
       "    </tr>\n",
       "  </tbody>\n",
       "</table>\n",
       "</div>"
      ],
      "text/plain": [
       "      crim    zn  indus  chas    nox     rm   age     dis  rad  tax  ptratio  \\\n",
       "0  0.00632  18.0   2.31     0  0.538  6.575  65.2  4.0900    1  296     15.3   \n",
       "1  0.02731   0.0   7.07     0  0.469  6.421  78.9  4.9671    2  242     17.8   \n",
       "2  0.02729   0.0   7.07     0  0.469  7.185  61.1  4.9671    2  242     17.8   \n",
       "3  0.03237   0.0   2.18     0  0.458  6.998  45.8  6.0622    3  222     18.7   \n",
       "4  0.06905   0.0   2.18     0  0.458  7.147  54.2  6.0622    3  222     18.7   \n",
       "\n",
       "        b  lstat  \n",
       "0  396.90   4.98  \n",
       "1  396.90   9.14  \n",
       "2  392.83   4.03  \n",
       "3  394.63   2.94  \n",
       "4  396.90   5.33  "
      ]
     },
     "execution_count": 6,
     "metadata": {},
     "output_type": "execute_result"
    }
   ],
   "source": [
    "X.head()"
   ]
  },
  {
   "cell_type": "code",
   "execution_count": 7,
   "id": "c0b6ac05",
   "metadata": {},
   "outputs": [
    {
     "data": {
      "text/plain": [
       "(506, 13)"
      ]
     },
     "execution_count": 7,
     "metadata": {},
     "output_type": "execute_result"
    }
   ],
   "source": [
    "X.shape"
   ]
  },
  {
   "cell_type": "code",
   "execution_count": 8,
   "id": "04b4aae7",
   "metadata": {},
   "outputs": [
    {
     "data": {
      "text/plain": [
       "crim         3.613524\n",
       "zn          11.363636\n",
       "indus       11.136779\n",
       "chas         0.069170\n",
       "nox          0.554695\n",
       "rm           6.284634\n",
       "age         68.574901\n",
       "dis          3.795043\n",
       "rad          9.549407\n",
       "tax        408.237154\n",
       "ptratio     18.455534\n",
       "b          356.674032\n",
       "lstat       12.653063\n",
       "dtype: float64"
      ]
     },
     "execution_count": 8,
     "metadata": {},
     "output_type": "execute_result"
    }
   ],
   "source": [
    "X.mean()"
   ]
  },
  {
   "cell_type": "markdown",
   "id": "d6585104",
   "metadata": {},
   "source": [
    "## Step 1: Standardize the Dataset"
   ]
  },
  {
   "cell_type": "code",
   "execution_count": 10,
   "id": "2de30a1b",
   "metadata": {},
   "outputs": [],
   "source": [
    "X = X - X.mean()  # to make the data mean centric"
   ]
  },
  {
   "cell_type": "code",
   "execution_count": 11,
   "id": "c83d7d8f",
   "metadata": {},
   "outputs": [
    {
     "data": {
      "text/html": [
       "<div>\n",
       "<style scoped>\n",
       "    .dataframe tbody tr th:only-of-type {\n",
       "        vertical-align: middle;\n",
       "    }\n",
       "\n",
       "    .dataframe tbody tr th {\n",
       "        vertical-align: top;\n",
       "    }\n",
       "\n",
       "    .dataframe thead th {\n",
       "        text-align: right;\n",
       "    }\n",
       "</style>\n",
       "<table border=\"1\" class=\"dataframe\">\n",
       "  <thead>\n",
       "    <tr style=\"text-align: right;\">\n",
       "      <th></th>\n",
       "      <th>crim</th>\n",
       "      <th>zn</th>\n",
       "      <th>indus</th>\n",
       "      <th>chas</th>\n",
       "      <th>nox</th>\n",
       "      <th>rm</th>\n",
       "      <th>age</th>\n",
       "      <th>dis</th>\n",
       "      <th>rad</th>\n",
       "      <th>tax</th>\n",
       "      <th>ptratio</th>\n",
       "      <th>b</th>\n",
       "      <th>lstat</th>\n",
       "    </tr>\n",
       "  </thead>\n",
       "  <tbody>\n",
       "    <tr>\n",
       "      <th>0</th>\n",
       "      <td>-3.607204</td>\n",
       "      <td>6.636364</td>\n",
       "      <td>-8.826779</td>\n",
       "      <td>-0.06917</td>\n",
       "      <td>-0.016695</td>\n",
       "      <td>0.290366</td>\n",
       "      <td>-3.374901</td>\n",
       "      <td>0.294957</td>\n",
       "      <td>-8.549407</td>\n",
       "      <td>-112.237154</td>\n",
       "      <td>-3.155534</td>\n",
       "      <td>40.225968</td>\n",
       "      <td>-7.673063</td>\n",
       "    </tr>\n",
       "    <tr>\n",
       "      <th>1</th>\n",
       "      <td>-3.586214</td>\n",
       "      <td>-11.363636</td>\n",
       "      <td>-4.066779</td>\n",
       "      <td>-0.06917</td>\n",
       "      <td>-0.085695</td>\n",
       "      <td>0.136366</td>\n",
       "      <td>10.325099</td>\n",
       "      <td>1.172057</td>\n",
       "      <td>-7.549407</td>\n",
       "      <td>-166.237154</td>\n",
       "      <td>-0.655534</td>\n",
       "      <td>40.225968</td>\n",
       "      <td>-3.513063</td>\n",
       "    </tr>\n",
       "    <tr>\n",
       "      <th>2</th>\n",
       "      <td>-3.586234</td>\n",
       "      <td>-11.363636</td>\n",
       "      <td>-4.066779</td>\n",
       "      <td>-0.06917</td>\n",
       "      <td>-0.085695</td>\n",
       "      <td>0.900366</td>\n",
       "      <td>-7.474901</td>\n",
       "      <td>1.172057</td>\n",
       "      <td>-7.549407</td>\n",
       "      <td>-166.237154</td>\n",
       "      <td>-0.655534</td>\n",
       "      <td>36.155968</td>\n",
       "      <td>-8.623063</td>\n",
       "    </tr>\n",
       "    <tr>\n",
       "      <th>3</th>\n",
       "      <td>-3.581154</td>\n",
       "      <td>-11.363636</td>\n",
       "      <td>-8.956779</td>\n",
       "      <td>-0.06917</td>\n",
       "      <td>-0.096695</td>\n",
       "      <td>0.713366</td>\n",
       "      <td>-22.774901</td>\n",
       "      <td>2.267157</td>\n",
       "      <td>-6.549407</td>\n",
       "      <td>-186.237154</td>\n",
       "      <td>0.244466</td>\n",
       "      <td>37.955968</td>\n",
       "      <td>-9.713063</td>\n",
       "    </tr>\n",
       "    <tr>\n",
       "      <th>4</th>\n",
       "      <td>-3.544474</td>\n",
       "      <td>-11.363636</td>\n",
       "      <td>-8.956779</td>\n",
       "      <td>-0.06917</td>\n",
       "      <td>-0.096695</td>\n",
       "      <td>0.862366</td>\n",
       "      <td>-14.374901</td>\n",
       "      <td>2.267157</td>\n",
       "      <td>-6.549407</td>\n",
       "      <td>-186.237154</td>\n",
       "      <td>0.244466</td>\n",
       "      <td>40.225968</td>\n",
       "      <td>-7.323063</td>\n",
       "    </tr>\n",
       "  </tbody>\n",
       "</table>\n",
       "</div>"
      ],
      "text/plain": [
       "       crim         zn     indus     chas       nox        rm        age  \\\n",
       "0 -3.607204   6.636364 -8.826779 -0.06917 -0.016695  0.290366  -3.374901   \n",
       "1 -3.586214 -11.363636 -4.066779 -0.06917 -0.085695  0.136366  10.325099   \n",
       "2 -3.586234 -11.363636 -4.066779 -0.06917 -0.085695  0.900366  -7.474901   \n",
       "3 -3.581154 -11.363636 -8.956779 -0.06917 -0.096695  0.713366 -22.774901   \n",
       "4 -3.544474 -11.363636 -8.956779 -0.06917 -0.096695  0.862366 -14.374901   \n",
       "\n",
       "        dis       rad         tax   ptratio          b     lstat  \n",
       "0  0.294957 -8.549407 -112.237154 -3.155534  40.225968 -7.673063  \n",
       "1  1.172057 -7.549407 -166.237154 -0.655534  40.225968 -3.513063  \n",
       "2  1.172057 -7.549407 -166.237154 -0.655534  36.155968 -8.623063  \n",
       "3  2.267157 -6.549407 -186.237154  0.244466  37.955968 -9.713063  \n",
       "4  2.267157 -6.549407 -186.237154  0.244466  40.225968 -7.323063  "
      ]
     },
     "execution_count": 11,
     "metadata": {},
     "output_type": "execute_result"
    }
   ],
   "source": [
    "X.head()"
   ]
  },
  {
   "cell_type": "markdown",
   "id": "5e41a15d",
   "metadata": {},
   "source": [
    "## Step 2: Calculate Covariance Matrix"
   ]
  },
  {
   "cell_type": "code",
   "execution_count": 14,
   "id": "aee4696e",
   "metadata": {},
   "outputs": [],
   "source": [
    "X = X.to_numpy()"
   ]
  },
  {
   "cell_type": "code",
   "execution_count": 15,
   "id": "a8c795a0",
   "metadata": {},
   "outputs": [],
   "source": [
    "S = np.dot(X.T, X)"
   ]
  },
  {
   "cell_type": "code",
   "execution_count": 16,
   "id": "3e737dc0",
   "metadata": {},
   "outputs": [
    {
     "data": {
      "text/plain": [
       "(13, 13)"
      ]
     },
     "execution_count": 16,
     "metadata": {},
     "output_type": "execute_result"
    }
   ],
   "source": [
    "S.shape"
   ]
  },
  {
   "cell_type": "markdown",
   "id": "f3005390",
   "metadata": {},
   "source": [
    "## Step 3: Eigen Value Decomposition (getting Eigenvalues and Eigenvectors)"
   ]
  },
  {
   "cell_type": "code",
   "execution_count": 17,
   "id": "bebb227e",
   "metadata": {},
   "outputs": [],
   "source": [
    "eigenvalues, eigenvectors = np.linalg.eig(S)"
   ]
  },
  {
   "cell_type": "code",
   "execution_count": 18,
   "id": "a44088dc",
   "metadata": {},
   "outputs": [
    {
     "data": {
      "text/plain": [
       "array([1.55994052e+07, 3.15641668e+06, 4.13273799e+05, 1.34675843e+05,\n",
       "       2.51649214e+04, 1.40777807e+04, 8.11200987e+03, 4.81129544e+03,\n",
       "       1.65303258e+03, 5.96375614e+02, 1.28853650e+02, 3.03497195e+01,\n",
       "       1.54250065e+00])"
      ]
     },
     "execution_count": 18,
     "metadata": {},
     "output_type": "execute_result"
    }
   ],
   "source": [
    "eigenvalues"
   ]
  },
  {
   "cell_type": "code",
   "execution_count": 20,
   "id": "0a4ae6c9",
   "metadata": {},
   "outputs": [
    {
     "data": {
      "text/plain": [
       "array([[ 2.92973218e-02,  6.66847277e-03,  1.14793645e-02,\n",
       "         2.71309632e-02,  9.52338065e-01, -1.69050862e-01,\n",
       "        -2.16220534e-01, -1.24410586e-01,  1.37713177e-02,\n",
       "         1.66179883e-02,  1.99666297e-03,  1.99499182e-03,\n",
       "        -5.12974614e-04],\n",
       "       [-4.35898000e-02,  1.17564821e-03, -6.32897481e-01,\n",
       "         7.68058991e-01, -5.67213995e-03,  4.68215380e-02,\n",
       "        -3.51598379e-02,  5.13731838e-02,  2.35075239e-02,\n",
       "        -3.06891846e-02, -5.51190327e-03, -1.93735139e-04,\n",
       "        -1.27249747e-04],\n",
       "       [ 2.83309382e-02, -4.94975624e-03,  8.83403603e-02,\n",
       "        -1.28007210e-02, -5.71048624e-02,  3.43651593e-01,\n",
       "        -7.85948681e-01,  4.90776545e-01,  3.52993231e-02,\n",
       "         9.80914287e-02,  1.78544855e-02, -8.11846520e-03,\n",
       "         4.24115064e-03],\n",
       "       [-5.55846350e-05, -1.02678850e-04,  9.75320360e-04,\n",
       "         8.54389584e-04, -2.16905859e-03, -3.50007555e-03,\n",
       "        -5.10632892e-03,  1.13540624e-02, -1.78071403e-02,\n",
       "        -1.57944414e-03,  1.59115209e-02,  9.99595031e-01,\n",
       "         7.96040929e-03],\n",
       "       [ 4.49721818e-04,  1.82069867e-06,  1.80720215e-03,\n",
       "         6.79655226e-04, -1.65862374e-04,  1.88005073e-03,\n",
       "        -3.87411008e-03,  4.43586112e-03, -1.38982123e-02,\n",
       "        -1.06145120e-02, -1.15304965e-02,  7.81438643e-03,\n",
       "        -9.99728952e-01],\n",
       "       [-1.16815860e-03,  3.65750108e-04, -4.73397110e-03,\n",
       "         5.70127889e-03, -1.32805158e-02, -7.26727686e-02,\n",
       "        -8.19422836e-03,  1.49295805e-02, -5.29376229e-02,\n",
       "        -5.10088246e-02,  9.94176118e-01, -1.72613654e-02,\n",
       "        -1.03655286e-02],\n",
       "       [ 8.36335746e-02, -5.72246652e-03,  7.55863075e-01,\n",
       "         6.36608645e-01, -4.63050760e-02, -1.09433358e-01,\n",
       "         2.63349882e-02, -1.76233307e-02,  2.31873278e-02,\n",
       "         2.60656797e-02, -5.52132624e-03, -8.91682235e-04,\n",
       "         9.16021004e-04],\n",
       "       [-6.56163360e-03,  3.53685109e-04, -4.50884160e-02,\n",
       "         2.57418757e-03, -6.53874230e-03,  7.31403889e-03,\n",
       "         8.92882113e-02, -6.53956452e-02,  2.24514085e-01,\n",
       "         9.64832558e-01,  6.33344798e-02,  5.88523978e-03,\n",
       "        -1.47537062e-02],\n",
       "       [ 4.50053753e-02, -8.61865948e-03, -2.84787088e-03,\n",
       "        -1.95602004e-02,  1.72278796e-01, -2.09393457e-01,\n",
       "         4.32351094e-01,  8.54359539e-01, -7.03869193e-02,\n",
       "         3.89245245e-02, -2.39922465e-02, -8.66414956e-03,\n",
       "         2.46907723e-03],\n",
       "       [ 9.49741169e-01, -2.92406308e-01, -9.38644477e-02,\n",
       "        -1.99794164e-02, -3.27034769e-02, -3.26058676e-03,\n",
       "        -2.54943754e-03, -4.67832040e-02, -2.03291846e-03,\n",
       "        -4.78693899e-04,  7.74410529e-04,  5.17544251e-04,\n",
       "         7.34929155e-05],\n",
       "       [ 5.60011721e-03, -2.52898538e-03,  1.11592649e-02,\n",
       "        -3.20107972e-02,  2.18372962e-02,  4.10124945e-02,\n",
       "         7.12574212e-02,  6.00231059e-02,  9.65859950e-01,\n",
       "        -2.29891054e-01,  4.30169767e-02,  1.61378499e-02,\n",
       "        -1.12919024e-02],\n",
       "       [-2.91218514e-01, -9.56180551e-01,  2.35628231e-02,\n",
       "         4.03696433e-03,  1.70162101e-02,  5.86081231e-03,\n",
       "         1.28815498e-03,  3.07792458e-03, -1.89391271e-03,\n",
       "         2.10866955e-05,  6.15754716e-04, -1.54876273e-04,\n",
       "        -5.27489825e-05],\n",
       "       [ 2.29433756e-02,  5.76719865e-03,  9.28333004e-02,\n",
       "         4.52966144e-02,  2.36379212e-01,  8.87825566e-01,\n",
       "         3.65389852e-01, -1.82041496e-02, -7.68592949e-02,\n",
       "        -2.22821997e-02,  6.63758838e-02,  3.09935417e-03,\n",
       "         9.06362147e-04]])"
      ]
     },
     "execution_count": 20,
     "metadata": {},
     "output_type": "execute_result"
    }
   ],
   "source": [
    "eigenvectors   # eigenvectors are in columns"
   ]
  },
  {
   "cell_type": "code",
   "execution_count": 22,
   "id": "8ee00d1d",
   "metadata": {},
   "outputs": [
    {
     "data": {
      "text/plain": [
       "array([ 2.92973218e-02, -4.35898000e-02,  2.83309382e-02, -5.55846350e-05,\n",
       "        4.49721818e-04, -1.16815860e-03,  8.36335746e-02, -6.56163360e-03,\n",
       "        4.50053753e-02,  9.49741169e-01,  5.60011721e-03, -2.91218514e-01,\n",
       "        2.29433756e-02])"
      ]
     },
     "execution_count": 22,
     "metadata": {},
     "output_type": "execute_result"
    }
   ],
   "source": [
    "eigenvectors[:, 0] # eigen vector 1"
   ]
  },
  {
   "cell_type": "code",
   "execution_count": 23,
   "id": "fc839b3f",
   "metadata": {},
   "outputs": [
    {
     "data": {
      "text/plain": [
       "array([ 6.66847277e-03,  1.17564821e-03, -4.94975624e-03, -1.02678850e-04,\n",
       "        1.82069867e-06,  3.65750108e-04, -5.72246652e-03,  3.53685109e-04,\n",
       "       -8.61865948e-03, -2.92406308e-01, -2.52898538e-03, -9.56180551e-01,\n",
       "        5.76719865e-03])"
      ]
     },
     "execution_count": 23,
     "metadata": {},
     "output_type": "execute_result"
    }
   ],
   "source": [
    "eigenvectors[:, 1] # eigen vector 2"
   ]
  },
  {
   "cell_type": "code",
   "execution_count": 26,
   "id": "e5b40023",
   "metadata": {},
   "outputs": [
    {
     "data": {
      "text/plain": [
       "array([[ 2.92973218e-02,  6.66847277e-03,  1.14793645e-02],\n",
       "       [-4.35898000e-02,  1.17564821e-03, -6.32897481e-01],\n",
       "       [ 2.83309382e-02, -4.94975624e-03,  8.83403603e-02],\n",
       "       [-5.55846350e-05, -1.02678850e-04,  9.75320360e-04],\n",
       "       [ 4.49721818e-04,  1.82069867e-06,  1.80720215e-03],\n",
       "       [-1.16815860e-03,  3.65750108e-04, -4.73397110e-03],\n",
       "       [ 8.36335746e-02, -5.72246652e-03,  7.55863075e-01],\n",
       "       [-6.56163360e-03,  3.53685109e-04, -4.50884160e-02],\n",
       "       [ 4.50053753e-02, -8.61865948e-03, -2.84787088e-03],\n",
       "       [ 9.49741169e-01, -2.92406308e-01, -9.38644477e-02],\n",
       "       [ 5.60011721e-03, -2.52898538e-03,  1.11592649e-02],\n",
       "       [-2.91218514e-01, -9.56180551e-01,  2.35628231e-02],\n",
       "       [ 2.29433756e-02,  5.76719865e-03,  9.28333004e-02]])"
      ]
     },
     "execution_count": 26,
     "metadata": {},
     "output_type": "execute_result"
    }
   ],
   "source": [
    "top_3_features = eigenvectors[:, :3]\n",
    "top_3_features"
   ]
  },
  {
   "cell_type": "markdown",
   "id": "12b9e4d8",
   "metadata": {},
   "source": [
    "## Step 4: Projection"
   ]
  },
  {
   "cell_type": "code",
   "execution_count": 27,
   "id": "c0dc7d0d",
   "metadata": {},
   "outputs": [
    {
     "data": {
      "text/plain": [
       "(506, 13)"
      ]
     },
     "execution_count": 27,
     "metadata": {},
     "output_type": "execute_result"
    }
   ],
   "source": [
    "X.shape"
   ]
  },
  {
   "cell_type": "code",
   "execution_count": 28,
   "id": "8dbb0890",
   "metadata": {},
   "outputs": [
    {
     "data": {
      "text/plain": [
       "(13, 3)"
      ]
     },
     "execution_count": 28,
     "metadata": {},
     "output_type": "execute_result"
    }
   ],
   "source": [
    "top_3_features.shape"
   ]
  },
  {
   "cell_type": "code",
   "execution_count": 31,
   "id": "c12c2138",
   "metadata": {},
   "outputs": [
    {
     "data": {
      "text/plain": [
       "array([[-119.81884272,   -5.56005586,    3.17269264],\n",
       "       [-168.89015548,   10.11620863,   30.78188677],\n",
       "       [-169.31170747,   14.0805323 ,   16.75362821],\n",
       "       ...,\n",
       "       [-138.38716306,    0.9380922 ,   37.28518133],\n",
       "       [-137.50517338,    4.2518251 ,   35.98834188],\n",
       "       [-139.19033295,    1.00906423,   29.77243231]])"
      ]
     },
     "execution_count": 31,
     "metadata": {},
     "output_type": "execute_result"
    }
   ],
   "source": [
    "new_features = np.dot(X, top_3_features)\n",
    "new_features"
   ]
  },
  {
   "cell_type": "markdown",
   "id": "2b76cb9c",
   "metadata": {},
   "source": [
    "## PCA from sklearn library"
   ]
  },
  {
   "cell_type": "code",
   "execution_count": 33,
   "id": "4dbefad0",
   "metadata": {},
   "outputs": [],
   "source": [
    "p_components = PCA(n_components=3)"
   ]
  },
  {
   "cell_type": "code",
   "execution_count": 34,
   "id": "ef1cea11",
   "metadata": {},
   "outputs": [],
   "source": [
    "X = data.iloc[:, :-1]"
   ]
  },
  {
   "cell_type": "code",
   "execution_count": 35,
   "id": "df7dd931",
   "metadata": {},
   "outputs": [
    {
     "data": {
      "text/html": [
       "<div>\n",
       "<style scoped>\n",
       "    .dataframe tbody tr th:only-of-type {\n",
       "        vertical-align: middle;\n",
       "    }\n",
       "\n",
       "    .dataframe tbody tr th {\n",
       "        vertical-align: top;\n",
       "    }\n",
       "\n",
       "    .dataframe thead th {\n",
       "        text-align: right;\n",
       "    }\n",
       "</style>\n",
       "<table border=\"1\" class=\"dataframe\">\n",
       "  <thead>\n",
       "    <tr style=\"text-align: right;\">\n",
       "      <th></th>\n",
       "      <th>crim</th>\n",
       "      <th>zn</th>\n",
       "      <th>indus</th>\n",
       "      <th>chas</th>\n",
       "      <th>nox</th>\n",
       "      <th>rm</th>\n",
       "      <th>age</th>\n",
       "      <th>dis</th>\n",
       "      <th>rad</th>\n",
       "      <th>tax</th>\n",
       "      <th>ptratio</th>\n",
       "      <th>b</th>\n",
       "      <th>lstat</th>\n",
       "    </tr>\n",
       "  </thead>\n",
       "  <tbody>\n",
       "    <tr>\n",
       "      <th>0</th>\n",
       "      <td>0.00632</td>\n",
       "      <td>18.0</td>\n",
       "      <td>2.31</td>\n",
       "      <td>0</td>\n",
       "      <td>0.538</td>\n",
       "      <td>6.575</td>\n",
       "      <td>65.2</td>\n",
       "      <td>4.0900</td>\n",
       "      <td>1</td>\n",
       "      <td>296</td>\n",
       "      <td>15.3</td>\n",
       "      <td>396.90</td>\n",
       "      <td>4.98</td>\n",
       "    </tr>\n",
       "    <tr>\n",
       "      <th>1</th>\n",
       "      <td>0.02731</td>\n",
       "      <td>0.0</td>\n",
       "      <td>7.07</td>\n",
       "      <td>0</td>\n",
       "      <td>0.469</td>\n",
       "      <td>6.421</td>\n",
       "      <td>78.9</td>\n",
       "      <td>4.9671</td>\n",
       "      <td>2</td>\n",
       "      <td>242</td>\n",
       "      <td>17.8</td>\n",
       "      <td>396.90</td>\n",
       "      <td>9.14</td>\n",
       "    </tr>\n",
       "    <tr>\n",
       "      <th>2</th>\n",
       "      <td>0.02729</td>\n",
       "      <td>0.0</td>\n",
       "      <td>7.07</td>\n",
       "      <td>0</td>\n",
       "      <td>0.469</td>\n",
       "      <td>7.185</td>\n",
       "      <td>61.1</td>\n",
       "      <td>4.9671</td>\n",
       "      <td>2</td>\n",
       "      <td>242</td>\n",
       "      <td>17.8</td>\n",
       "      <td>392.83</td>\n",
       "      <td>4.03</td>\n",
       "    </tr>\n",
       "    <tr>\n",
       "      <th>3</th>\n",
       "      <td>0.03237</td>\n",
       "      <td>0.0</td>\n",
       "      <td>2.18</td>\n",
       "      <td>0</td>\n",
       "      <td>0.458</td>\n",
       "      <td>6.998</td>\n",
       "      <td>45.8</td>\n",
       "      <td>6.0622</td>\n",
       "      <td>3</td>\n",
       "      <td>222</td>\n",
       "      <td>18.7</td>\n",
       "      <td>394.63</td>\n",
       "      <td>2.94</td>\n",
       "    </tr>\n",
       "    <tr>\n",
       "      <th>4</th>\n",
       "      <td>0.06905</td>\n",
       "      <td>0.0</td>\n",
       "      <td>2.18</td>\n",
       "      <td>0</td>\n",
       "      <td>0.458</td>\n",
       "      <td>7.147</td>\n",
       "      <td>54.2</td>\n",
       "      <td>6.0622</td>\n",
       "      <td>3</td>\n",
       "      <td>222</td>\n",
       "      <td>18.7</td>\n",
       "      <td>396.90</td>\n",
       "      <td>5.33</td>\n",
       "    </tr>\n",
       "  </tbody>\n",
       "</table>\n",
       "</div>"
      ],
      "text/plain": [
       "      crim    zn  indus  chas    nox     rm   age     dis  rad  tax  ptratio  \\\n",
       "0  0.00632  18.0   2.31     0  0.538  6.575  65.2  4.0900    1  296     15.3   \n",
       "1  0.02731   0.0   7.07     0  0.469  6.421  78.9  4.9671    2  242     17.8   \n",
       "2  0.02729   0.0   7.07     0  0.469  7.185  61.1  4.9671    2  242     17.8   \n",
       "3  0.03237   0.0   2.18     0  0.458  6.998  45.8  6.0622    3  222     18.7   \n",
       "4  0.06905   0.0   2.18     0  0.458  7.147  54.2  6.0622    3  222     18.7   \n",
       "\n",
       "        b  lstat  \n",
       "0  396.90   4.98  \n",
       "1  396.90   9.14  \n",
       "2  392.83   4.03  \n",
       "3  394.63   2.94  \n",
       "4  396.90   5.33  "
      ]
     },
     "execution_count": 35,
     "metadata": {},
     "output_type": "execute_result"
    }
   ],
   "source": [
    "X.head()"
   ]
  },
  {
   "cell_type": "code",
   "execution_count": 36,
   "id": "3c619a2a",
   "metadata": {},
   "outputs": [
    {
     "data": {
      "text/plain": [
       "array([[-119.81884272,   -5.56005586,   -3.17269264],\n",
       "       [-168.89015548,   10.11620863,  -30.78188677],\n",
       "       [-169.31170747,   14.0805323 ,  -16.75362821],\n",
       "       ...,\n",
       "       [-138.38716306,    0.9380922 ,  -37.28518133],\n",
       "       [-137.50517338,    4.2518251 ,  -35.98834188],\n",
       "       [-139.19033295,    1.00906423,  -29.77243231]])"
      ]
     },
     "execution_count": 36,
     "metadata": {},
     "output_type": "execute_result"
    }
   ],
   "source": [
    "p_components.fit_transform(X)"
   ]
  },
  {
   "cell_type": "code",
   "execution_count": 37,
   "id": "e9937076",
   "metadata": {},
   "outputs": [
    {
     "data": {
      "text/plain": [
       "array([30889.91126082,  6250.3300614 ,   818.3639584 ])"
      ]
     },
     "execution_count": 37,
     "metadata": {},
     "output_type": "execute_result"
    }
   ],
   "source": [
    "p_components.explained_variance_   # each vector explains this much variance (magnitude)"
   ]
  },
  {
   "cell_type": "code",
   "execution_count": 38,
   "id": "c8dee978",
   "metadata": {},
   "outputs": [
    {
     "data": {
      "text/plain": [
       "array([0.80582318, 0.16305197, 0.02134861])"
      ]
     },
     "execution_count": 38,
     "metadata": {},
     "output_type": "execute_result"
    }
   ],
   "source": [
    "p_components.explained_variance_ratio_    # each vector explains this much variance (percentage)"
   ]
  },
  {
   "cell_type": "code",
   "execution_count": null,
   "id": "88ba6f71",
   "metadata": {},
   "outputs": [],
   "source": [
    "p_components.explained_variance_ratio_"
   ]
  }
 ],
 "metadata": {
  "kernelspec": {
   "display_name": "Python 3 (ipykernel)",
   "language": "python",
   "name": "python3"
  },
  "language_info": {
   "codemirror_mode": {
    "name": "ipython",
    "version": 3
   },
   "file_extension": ".py",
   "mimetype": "text/x-python",
   "name": "python",
   "nbconvert_exporter": "python",
   "pygments_lexer": "ipython3",
   "version": "3.9.16"
  }
 },
 "nbformat": 4,
 "nbformat_minor": 5
}
